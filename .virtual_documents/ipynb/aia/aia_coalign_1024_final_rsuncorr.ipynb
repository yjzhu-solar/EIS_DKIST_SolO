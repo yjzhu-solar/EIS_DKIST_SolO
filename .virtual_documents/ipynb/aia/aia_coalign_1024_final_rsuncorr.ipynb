import numpy as np
import matplotlib.pyplot as plt
from mpl_toolkits.mplot3d import Axes3D
import pandas as pd
import sunpy
import sunpy.map
from sunpy.coordinates import (Helioprojective, propagate_with_solar_surface,
                                HeliocentricEarthEcliptic)
import sunkit_image
import sunkit_image.coalignment as coalignment
import astropy
from astropy.coordinates import SkyCoord
from astropy.wcs import WCS
import astropy.units as u
import astropy.constants as const
from astropy.io import fits
from astropy.time import Time
from sjireader import read_iris_sji
import eispac
import h5py
from scipy.interpolate import LinearNDInterpolator
from scipy.io import readsav
from datetime import datetime

import cmcrameri.cm as cmcm
from mpl_toolkits.axes_grid1.inset_locator import inset_axes
from matplotlib.ticker import (AutoLocator, AutoMinorLocator, 
    FixedLocator, FixedFormatter, LogLocator, StrMethodFormatter)
from ipywidgets import interactive, widgets
from IPython.display import display, clear_output
from astropy.visualization import (AsinhStretch, LinearStretch,
        LogStretch, ImageNormalize,PowerStretch)
import os
from sun_blinker import SunBlinker
from copy import deepcopy   






def plot_colorbar(im, ax, width="3%", height="100%",loc="lower left",fontsize=14,
                  bbox_to_anchor=(1.02, 0., 1, 1),orientation="vertical"):
    clb_ax = inset_axes(ax,width=width,height=height,loc=loc,
                bbox_to_anchor=bbox_to_anchor,
                 bbox_transform=ax.transAxes,
                 borderpad=0)
    clb = plt.colorbar(im,pad = 0.05,orientation=orientation,ax=ax,cax=clb_ax)
    clb_ax.yaxis.set_minor_locator(AutoMinorLocator(5))
    clb_ax.yaxis.get_offset_text().set_fontsize(fontsize)
    clb_ax.tick_params(labelsize=fontsize)
    return clb, clb_ax


aia_193_map_eis = sunpy.map.Map("../../src/AIA/20221025/193/lvl15/aia.lev1_euv_12s.2022-10-25T022003Z.193.image.fits")
aia_193_map_eis.plot()


aia_193_map = sunpy.map.Map("../../src/AIA/20221024/193/lvl15/aia.lev1_euv_12s.2022-10-24T192003Z.193.image.fits")
aia_193_map.plot()


aia_193_map_eis_crop = aia_193_map_eis.submap(SkyCoord(-600*u.arcsec,-100*u.arcsec,frame=aia_193_map_eis.coordinate_frame),
                                        top_right=SkyCoord(-100*u.arcsec,600*u.arcsec,frame=aia_193_map_eis.coordinate_frame))
aia_193_map_eis_crop.plot()
plt.colorbar()


aia_193_map_eis_hh = sunpy.map.Map("../../src/AIA/20221024/193/lvl15/aia.lev1_euv_12s.2022-10-24T193851Z.193.image.fits")
aia_193_map_eis_hh_crop = aia_193_map_eis_hh.submap(SkyCoord(-600*u.arcsec,-100*u.arcsec,frame=aia_193_map_eis_hh.coordinate_frame),
                                        top_right=SkyCoord(-100*u.arcsec,600*u.arcsec,frame=aia_193_map_eis_hh.coordinate_frame))


aia_193_map_eis_hh_crop.plot()


aia_193_map_crop = aia_193_map.submap(SkyCoord(-600*u.arcsec,-100*u.arcsec,frame=aia_193_map.coordinate_frame),
                                        top_right=SkyCoord(-100*u.arcsec,600*u.arcsec,frame=aia_193_map.coordinate_frame))
aia_193_map_crop.plot()


aia_171_map = sunpy.map.Map("../../src/AIA/20221024/171/lvl15/aia.lev1_euv_12s.2022-10-24T192003Z.171.image.fits")
aia_171_map.plot()


aia_171_map_crop = aia_171_map.submap(SkyCoord(-600*u.arcsec,-100*u.arcsec,frame=aia_171_map.coordinate_frame),
                                        top_right=SkyCoord(-100*u.arcsec,600*u.arcsec,frame=aia_171_map.coordinate_frame))
aia_171_map_crop.plot()


aia_304_map = sunpy.map.Map("../../src/AIA/20221024/304/lvl15/aia.lev1_euv_12s.2022-10-24T192003Z.304.image.fits")
aia_304_map.plot()


aia_304_map_crop = aia_304_map.submap(SkyCoord(-600*u.arcsec,-100*u.arcsec,frame=aia_304_map.coordinate_frame),
                                        top_right=SkyCoord(-100*u.arcsec,600*u.arcsec,frame=aia_304_map.coordinate_frame))
aia_304_map_crop.plot()


aia_1600_map = sunpy.map.Map("../../src/AIA/20221024/1600/lvl15/aia.lev1_uv_24s.2022-10-24T191951Z.1600.image.fits")
aia_1600_map.plot()


aia_1600_map_crop = aia_1600_map.submap(SkyCoord(-600*u.arcsec,-100*u.arcsec,frame=aia_1600_map.coordinate_frame), 
                                        top_right=SkyCoord(-100*u.arcsec,600*u.arcsec,frame=aia_1600_map.coordinate_frame))
aia_1600_map_crop.plot()


aia_1700_map = sunpy.map.Map("../../src/AIA/20221024/1700/lvl15/aia.lev1_uv_24s.2022-10-24T191951Z.1700.image.fits")
aia_1700_map.plot()


aia_1700_map_crop = aia_1700_map.submap(SkyCoord(-600*u.arcsec,-100*u.arcsec,frame=aia_1700_map.coordinate_frame),
                                        top_right=SkyCoord(-100*u.arcsec,600*u.arcsec,frame=aia_1700_map.coordinate_frame))
aia_1700_map_crop.plot()


aia_1700_map_2322 = sunpy.map.Map("../../src/AIA/20221024/1700/lvl15/aia.lev1_uv_24s.2022-10-24T232303Z.1700.image.fits")
aia_1700_map_2322_crop = aia_1700_map_2322.submap(SkyCoord(-600*u.arcsec,-100*u.arcsec,frame=aia_1700_map_2322.coordinate_frame),
                                        top_right=SkyCoord(-100*u.arcsec,600*u.arcsec,frame=aia_1700_map_2322.coordinate_frame))
aia_1700_map_2322_crop.plot()


SunBlinker(aia_193_map_crop,aia_171_map_crop)


iris_1400_sji_map = read_iris_sji("../../src/IRIS/20221024/1949/iris_l2_20221024_194939_3600109162_SJI_1400_t000.fits",index=0)
iris_1400_sji_map.plot_settings['norm'] = ImageNormalize(vmin=10,vmax=2e2,stretch=AsinhStretch(0.05))
iris_1400_sji_map.plot()
plt.colorbar()


iris_1400_sji_2322_cube = irispy.io.read_files("../../src/IRIS/20221024/2322/iris_l2_20221024_232249_3600609177_SJI_1400_t000.fits")


iris_1400_sji_2322_cut = iris_1400_sji_2322_cube[0]
iris_1400_sji_2322_map = sunpy.map.Map(iris_1400_sji_2322_cut.data,iris_1400_sji_2322_cut.meta)
iris_1400_sji_2322_map.meta["rsun_ref"] = aia_1700_map.meta["rsun_ref"]
iris_1400_sji_2322_map.plot_settings['norm'] = ImageNormalize(vmin=10,vmax=2e2,stretch=AsinhStretch(0.05))
iris_1400_sji_2322_map.plot(interpolation="none")
del iris_1400_sji_2322_cube


iris_1400_sji_1904_cube = irispy.io.read_files("../../src/IRIS/20221024/1904/iris_l2_20221024_190447_3643101203_SJI_1400_t000.fits")


iris_1400_sji_1920_index = np.argmin(np.abs(aia_1700_map.date - iris_1400_sji_1904_cube.wcs.pixel_to_world(0,0,np.arange(300))[1]))
iris_1400_sji_1920_map = sunpy.map.Map(iris_1400_sji_1904_cube[iris_1400_sji_1920_index].data,iris_1400_sji_1904_cube[iris_1400_sji_1920_index].meta)
iris_1400_sji_1920_map.meta["rsun_ref"] = aia_1700_map.meta["rsun_ref"]
iris_1400_sji_1920_map.meta["date_obs"] = iris_1400_sji_1904_cube[iris_1400_sji_1920_index:iris_1400_sji_1920_index+1].time.value[0]
iris_1400_sji_1920_map.plot_settings['norm'] = ImageNormalize(vmin=0,vmax=20,stretch=AsinhStretch(0.05))
iris_1400_sji_1920_map.plot()
plt.colorbar()


def coalign_shift(big_map, small_map):
    yshift, xshift = coalignment._calculate_shift(big_map.data, small_map.data)
    reference_coord = big_map.pixel_to_world(xshift, yshift)
    Txshift = reference_coord.Tx - small_map.bottom_left_coord.Tx
    Tyshift = reference_coord.Ty - small_map.bottom_left_coord.Ty

    return Txshift, Tyshift
    


hmi_los_map = sunpy.map.Map("../../src/HMI/20221024/lvl15/hmi.M_45s.20221024_192100_TAI.2.magnetogram.fits")
hmi_los_map.plot_settings['norm'] = plt.Normalize(-500, 500)
hmi_los_map.plot()


hmi_los_map_to_aia = hmi_los_map.reproject_to(aia_193_map.wcs)


hmi_los_map_to_aia.plot()


hmi_los_map_to_aia_crop = hmi_los_map_to_aia.submap(SkyCoord(-600*u.arcsec,-100*u.arcsec,frame=hmi_los_map_to_aia.coordinate_frame),
                                        top_right=SkyCoord(-100*u.arcsec,600*u.arcsec,frame=hmi_los_map_to_aia.coordinate_frame))


SunBlinker(aia_1600_map_crop,hmi_los_map_to_aia_crop)


with fits.open("../../src/SOTSP/20221024/lvl2/20221024_184138.fits") as hdul:
    sotsp_header = deepcopy(hdul[0].header)
    # for keys in hdul[1].header.keys():
    #     sotsp_header[keys] = hdul[1].header[keys]
    sotsp_header['CUNIT1'] = 'arcsec'
    sotsp_header['CUNIT2'] = 'arcsec'
    sotsp_header['CTYPE1'] = 'HPLN-TAN'
    sotsp_header['CTYPE2'] = 'HPLT-TAN'
    sotsp_header['CRVAL1'] = sotsp_header['XCEN']
    sotsp_header['CRVAL2'] = sotsp_header['YCEN']
    sotsp_header['CDELT1'] = 0.297 #from Fouhey et al. 2022
    sotsp_header['CDELT2'] = 0.320
    sotsp_header['NAXIS'] = 2
    # sotsp_header['RSUN_REF'] = sotsp_header['SOLAR_RA']
    # sotsp_header['DATE-OBS'] = sotsp_header['TSTART']
    # sotsp_header["DATE-END"] = sotsp_header['TEND']
    sotsp_header["DATE-AVG"] = (Time(sotsp_header["TSTART"]) + \
                                (Time(sotsp_header["TEND"]) - Time(sotsp_header["TSTART"]))/2).strftime("%Y-%m-%dT%H:%M:%S")
    
# with fits.open("../../src/SOTSP/20221024/lvl2/sotsp_l2_20221024_190447_3643101203_20221024_184138_magfield_index.fits") as hdul:
#     lsmal_header = deepcopy(hdul[0].header)
#     sotsp_header["PC1_1"] = lsmal_header["PC1_1"]
#     sotsp_header["PC1_2"] = lsmal_header["PC1_2"]
#     sotsp_header["PC2_1"] = lsmal_header["PC2_1"]
#     sotsp_header["PC2_2"] = lsmal_header["PC2_2"]

sotsp_corr_file = readsav("../../src/SOTSP/20221024/lvl2/sotsp_lvl2_missing_col_corrected.sav")
sotsp_btot = deepcopy(sotsp_corr_file['data_new'][0,:,:])
sotsp_btot[~np.isfinite(sotsp_btot)] = 0



sotsp_btot_map = sunpy.map.Map(sotsp_btot,sotsp_header).rotate()
sotsp_btot_map.meta["rsun_ref"] = aia_1600_map.meta["rsun_ref"]
sotsp_btot_map.plot_settings['cmap'] = "gray"
sotsp_btot_map.plot_settings['norm'] = plt.Normalize(0, 1500)
sotsp_btot_map.plot()
plt.colorbar()


sotsp_resample_nx = (sotsp_btot_map.scale.axis1 * sotsp_btot_map.dimensions.x) / hmi_los_map_to_aia_crop.scale.axis1.to(u.arcsec/u.pix)
sotsp_resample_ny = (sotsp_btot_map.scale.axis2 * sotsp_btot_map.dimensions.y) / hmi_los_map_to_aia_crop.scale.axis2.to(u.arcsec/u.pix)
sotsp_btot_map_resample = sotsp_btot_map.resample(u.Quantity([sotsp_resample_nx, sotsp_resample_ny])).submap([10,20]*u.pix,
                                                top_right=[480,272]*u.pix)
sotsp_btot_map_resample_data = sotsp_btot_map_resample.data.copy()
sotsp_btot_map_resample_data[~np.isfinite(sotsp_btot_map_resample_data)] = 0
sotsp_btot_map_resample = sunpy.map.Map(sotsp_btot_map_resample_data,sotsp_btot_map_resample.meta)
hmi_los_map_to_aia_crop_abs = sunpy.map.Map(np.abs(hmi_los_map_to_aia_crop.data),hmi_los_map_to_aia_crop.meta)


Txshift_sotsp_hmi, Tyshift_sotsp_hmi = coalign_shift(hmi_los_map_to_aia_crop_abs, sotsp_btot_map_resample)
print(Txshift_sotsp_hmi, Tyshift_sotsp_hmi)


sotsp_btot_map_shift = sotsp_btot_map.shift_reference_coord(Txshift_sotsp_hmi,Tyshift_sotsp_hmi)


fig = plt.figure(figsize=(10,10),constrained_layout=True)
ax1 = fig.add_subplot(121,projection=hmi_los_map_to_aia_crop)
hmi_los_map_to_aia_crop.plot(axes=ax1)

ax2 = fig.add_subplot(122,projection=sotsp_btot_map_shift)
sotsp_btot_map_shift.plot(axes=ax2)

for ax_ in (ax1,ax2):
    bounds = ax_.axis()
    hmi_los_map_to_aia_crop.draw_contours(levels=[-100,100],axes=ax_,colors=["b","r"],linewidths=0.5)
    ax_.axis(bounds)

plt.savefig("../../figs/test_figs/sotsp_hmi_coalign.png",dpi=300)


with sunpy.coordinates.Helioprojective.assume_spherical_screen(sotsp_btot_map_shift.observer_coordinate):
    hmi_los_map_to_aia_crop_repro_tosp = hmi_los_map_to_aia_crop.reproject_to(sotsp_btot_map_shift.wcs)


SunBlinker(sotsp_btot_map_shift,hmi_los_map_to_aia_crop_repro_tosp)


phi_los_map = sunpy.map.Map("../../src/PHI/20221024/solo_L2_phi-hrt-blos_20221024T191503_V01.fits")
phi_los_map.meta["rsun_ref"] = aia_1600_map.meta["rsun_ref"]
phi_los_map.plot_settings['norm'] = plt.Normalize(-500, 500)
phi_los_map.plot()


hri_174_map = sunpy.map.Map("../../src/EUI/HRI/euv174/20221024/solo_L2_eui-hrieuv174-image_20221024T191505172_V01.fits")
hri_174_map.meta["rsun_ref"] = aia_1600_map.meta["rsun_ref"]
hri_174_map.plot()
plt.colorbar()


fsi_174_map = sunpy.map.Map("../../src/EUI/FSI/euv174/20221024/solo_L2_eui-fsi174-image_20221024T192050179_V01.fits")
fsi_174_map.meta["rsun_ref"] = aia_1600_map.meta["rsun_ref"]
fsi_174_map.plot()


fsi_304_map = sunpy.map.Map("../../src/EUI/FSI/euv304/20221024/solo_L2_eui-fsi304-image_20221024T192020179_V01.fits")
fsi_304_map.meta["rsun_ref"] = aia_1600_map.meta["rsun_ref"]
fsi_304_map.plot()


eis_195_intmap_shift = sunpy.map.Map("../../src/EIS/DHB_007_v2/20221025T0023/sunpymaps/eis_195_intmap_shift.fits")


eis_195_intmap_shift.plot_settings['norm'] = ImageNormalize(stretch=AsinhStretch())
eis_195_intmap_shift.plot_settings['aspect'] = eis_195_intmap_shift.scale.axis2/eis_195_intmap_shift.scale.axis1
eis_195_intmap_shift.plot_settings['cmap'] = 'Blues_r'


eis_195_intmap_shift.plot()


eis_195_velmap_shift = sunpy.map.Map("../../src/EIS/DHB_007_v2/20221025T0023/sunpymaps/eis_195_velmap_shift.fits")
eis_195_velmap_shift.plot_settings['aspect'] = eis_195_velmap_shift.scale.axis2/eis_195_velmap_shift.scale.axis1
eis_195_velmap_shift.plot_settings['norm'] = ImageNormalize(vmin=-15,vmax=15)
eis_195_velmap_shift.plot_settings['cmap'] = 'RdBu_r'


eis_195_velmap_shift.plot()


eis_hhflare_195_intmap_shift = sunpy.map.Map('../../src/coalign_map/20221024/eis_hhflare_195_intmap_shift.fits')
eis_hhflare_195_intmap_shift.plot_settings['norm'] = ImageNormalize(stretch=AsinhStretch())
eis_hhflare_195_intmap_shift.plot_settings['aspect'] = eis_hhflare_195_intmap_shift.scale.axis2/eis_hhflare_195_intmap_shift.scale.axis1
eis_hhflare_195_intmap_shift.plot_settings['cmap'] = 'Blues_r'


eis_hhflare_195_intmap_shift.plot()


eis_hhflare_195_velmap_shift = sunpy.map.Map('../../src/coalign_map/20221024/eis_hhflare_195_velmap_shift.fits')
eis_hhflare_195_velmap_shift.plot_settings["aspect"] = eis_hhflare_195_velmap_shift.scale.axis2/eis_hhflare_195_velmap_shift.scale.axis1
eis_hhflare_195_velmap_shift.plot_settings["norm"] = ImageNormalize(vmin=-15,vmax=15)
eis_hhflare_195_velmap_shift.plot_settings["cmap"] = 'RdBu_r'


eis_hhflare_195_velmap_shift.plot()


with propagate_with_solar_surface():
    aia_193_map_eis_derot = aia_193_map_eis.reproject_to(aia_193_map.wcs)


aia_193_map_eis_compare = aia_193_map_eis_derot.submap(SkyCoord(-600*u.arcsec,-100*u.arcsec,frame=aia_193_map_eis_derot.coordinate_frame),
                                        top_right=SkyCoord(-100*u.arcsec,600*u.arcsec,frame=aia_193_map_eis_derot.coordinate_frame))

del aia_193_map_eis_derot


fig = plt.figure(figsize=(8,5),constrained_layout=True)

ax1 = fig.add_subplot(121,projection=aia_193_map_crop)
aia_193_map_crop.plot(axes=ax1, title='AIA 193')

ax2 = fig.add_subplot(122,projection=aia_193_map_eis_compare)
aia_193_map_eis_compare.plot(axes=ax2, title='AIA 193 EIS derotated')

aia_levels = [200, 500, 1200] 

for ax_ in (ax1,ax2):
    bounds = ax_.axis()
    aia_193_map_eis_compare.draw_contours(aia_levels, axes=ax_, colors=["g","b","r"], alpha=0.3)
    ax_.axis(bounds)


SunBlinker(aia_193_map_crop,aia_193_map_eis_compare)


def derotate_fsi(fsi_map, hri_map,algorithm="adaptive"):
    out_frame = hri_map.coordinate_frame
    out_center = SkyCoord(0*u.arcsec, 0*u.arcsec, frame=out_frame)
    header = sunpy.map.make_fitswcs_header(fsi_map.data.shape,
                                        out_center,
                                        scale=u.Quantity(fsi_map.scale),
                                        rotation_matrix=hri_map.rotation_matrix) 
    # correct the tiny rotation matrix difference between FSI and HRI, which simply the coalignment
    out_wcs = WCS(header)

    with propagate_with_solar_surface():
        fsi_map_derot = fsi_map.reproject_to(out_wcs,algorithm=algorithm)

    return fsi_map_derot



fsi_174_map_hri_time = derotate_fsi(fsi_174_map,hri_174_map)


fig = plt.figure(figsize=(5,5),constrained_layout=True)

ax1 = fig.add_subplot(111,projection=fsi_174_map_hri_time)
fsi_174_map_hri_time.plot()


fsi_174_crop = fsi_174_map_hri_time.submap(SkyCoord(500*u.arcsec,0*u.arcsec,frame=fsi_174_map_hri_time.coordinate_frame),
                                    top_right=SkyCoord(2000*u.arcsec,1250*u.arcsec,frame=fsi_174_map_hri_time.coordinate_frame))


hri_174_map_repro = hri_174_map.reproject_to(fsi_174_crop.wcs)


fig = plt.figure(figsize=(10,5),constrained_layout=True)

ax1 = fig.add_subplot(121,projection=fsi_174_crop)
im1 = fsi_174_crop.plot()

ax2 = fig.add_subplot(122,projection=hri_174_map_repro)
im2 = hri_174_map_repro.plot()

hri_levels = [1000,5000]

for ax_ in (ax1,ax2):
    bounds = ax_.axis()
    hri_174_map_repro.draw_contours(hri_levels,colors=["b","r"], axes=ax_, alpha=0.3)
    ax_.axis(bounds)



hri_174_map_repro_cut = hri_174_map_repro.submap([10,57]*u.pix,
                                                 top_right=[224,275]*u.pix)
hri_174_map_repro_cut.plot()


Txshift_hri, Tyshift_hri = coalign_shift(fsi_174_crop,hri_174_map_repro_cut)
print(Txshift_hri, Tyshift_hri)


hri_174_map_repro_shift = hri_174_map_repro.shift_reference_coord(Txshift_hri,Tyshift_hri)
hri_174_map_repro_cut_shift = hri_174_map_repro_cut.shift_reference_coord(Txshift_hri,Tyshift_hri)
hri_174_map_shifted = hri_174_map.shift_reference_coord(Txshift_hri,Tyshift_hri)
# hri_174_map_shifted = hri_174_map_shifted.submap([10,10]*u.pix,
#                                                     top_right=[2038,2038]*u.pix)
fsi_174_hri_fov = fsi_174_map_hri_time.reproject_to(hri_174_map_shifted.wcs)


fig = plt.figure(figsize=(10,5),constrained_layout=True)

ax1 = fig.add_subplot(121,projection=fsi_174_hri_fov)
im1 = fsi_174_hri_fov.plot()
plt.colorbar(ax=ax1,shrink=0.75)

ax2 = fig.add_subplot(122,projection=hri_174_map_shifted)
im2 = hri_174_map_shifted.plot()
ax2.set_title("HRI 174")
plt.colorbar(ax=ax2,shrink=0.75)

fsi_174_levels = [500,3000]

for ax_ in (ax1,ax2):
    bounds = ax_.axis()
    fsi_174_hri_fov.draw_contours(fsi_174_levels,colors=["b","r"], axes=ax_, alpha=0.3)
    ax_.axis(bounds)


SunBlinker(fsi_174_hri_fov, hri_174_map_shifted,figsize=(6,6))


fsi_304_map_hri_time = derotate_fsi(fsi_304_map,hri_174_map)


fsi_304_map_hri_time.plot()


fsi_304_crop = fsi_304_map_hri_time.submap(SkyCoord(500*u.arcsec,0*u.arcsec,frame=fsi_304_map_hri_time.coordinate_frame),
                                    top_right=SkyCoord(2000*u.arcsec,1250*u.arcsec,frame=fsi_304_map_hri_time.coordinate_frame))


fig = plt.figure(figsize=(10,5),constrained_layout=True)

ax1 = fig.add_subplot(121,projection=fsi_174_crop)
im1 = fsi_174_crop.plot()
plt.colorbar(ax=ax1,shrink=0.75)

ax2 = fig.add_subplot(122,projection=fsi_304_crop)
im2 = fsi_304_crop.plot()
plt.colorbar(ax=ax2,shrink=0.75)

fsi_304_levels = [200,500,1000]

for ax_ in (ax1,ax2):
    bounds = ax_.axis()
    fsi_304_crop.draw_contours(fsi_304_levels,colors=["g","b","r"], axes=ax_, alpha=0.3)
    ax_.axis(bounds)



SunBlinker(fsi_174_crop, fsi_304_crop)


aia_304_map_repro = aia_304_map.reproject_to(fsi_304_crop.wcs)


fig = plt.figure(figsize=(10,5),constrained_layout=True)

ax1 = fig.add_subplot(121,projection=aia_304_map_repro)
im1 = aia_304_map_repro.plot()
plt.colorbar(ax=ax1,shrink=0.75)

ax2 = fig.add_subplot(122,projection=fsi_304_crop)
im2 = fsi_304_crop.plot()
plt.colorbar(ax=ax2,shrink=0.75)


aia_304_map_repro_cut = aia_304_map_repro.submap([12,30]*u.pix,
                                                    top_right=[343,290]*u.pix)
aia_304_map_repro_cut.plot()


Txshift_aia_fsi, Tyshift_aia_fsi = coalign_shift(fsi_304_crop,aia_304_map_repro_cut)
print(Txshift_aia_fsi, Tyshift_aia_fsi)


fsi_304_crop_shift = fsi_304_crop.shift_reference_coord(-Txshift_aia_fsi,-Tyshift_aia_fsi)
fsi_174_crop_shift = fsi_174_crop.shift_reference_coord(-Txshift_aia_fsi,-Tyshift_aia_fsi)
hri_174_map_shifted_toaia = hri_174_map_shifted.shift_reference_coord(-Txshift_aia_fsi,-Tyshift_aia_fsi)
fsi_304_map_hri_time_shift = fsi_304_map_hri_time.shift_reference_coord(-Txshift_aia_fsi,-Tyshift_aia_fsi)
fsi_174_map_hri_time_shift = fsi_174_map_hri_time.shift_reference_coord(-Txshift_aia_fsi,-Tyshift_aia_fsi)


fsi_174_map_hri_time_shift.meta["obsrvtry"] = fsi_174_map.meta["obsrvtry"]
fsi_174_map_hri_time_shift.meta["telescop"] = fsi_174_map.meta["telescop"]
fsi_174_map_hri_time_shift.meta["instrume"] = fsi_174_map.meta["instrume"]
fsi_174_map_hri_time_shift.meta["detector"] = fsi_174_map.meta["detector"]
fsi_174_map_hri_time_shift.meta["wavelnth"] = fsi_174_map.meta["wavelnth"]
fsi_174_map_hri_time_shift.meta["waveunit"] = fsi_174_map.meta["waveunit"]


fsi_174_map_hri_time_shift.save("../../src/coalign_map/20221024/fsi_174_map_hri_time_shift.fits",overwrite=True)


hri_174_map_shifted_toaia.save("../../src/coalign_map/20221024/hri_174_map_shifted_toaia.fits",overwrite=True)
fsi_304_map_hri_time_shift.save("../../src/coalign_map/20221024/fsi_304_map_hri_time_shift.fits",overwrite=True)


coalign_shift(fsi_304_crop_shift,aia_304_map.reproject_to(fsi_304_crop_shift.wcs).submap([20,20]*u.pix,
                                                                                         top_right=[280,280]*u.pix))


fig = plt.figure(figsize=(10,5),constrained_layout=True)

ax1 = fig.add_subplot(121,projection=aia_304_map_repro)
im1 = aia_304_map_repro.plot()
plt.colorbar(ax=ax1,shrink=0.75)
ax1.set_title("AIA reprojected")

ax2 = fig.add_subplot(122,projection=fsi_304_crop_shift)
im2 = fsi_304_crop_shift.plot()
plt.colorbar(ax=ax2,shrink=0.75)
ax2.set_title("FSI derotated, cropped, and shifted")

fsi_304_levels = [200,500,1000]

for ax_ in (ax1,ax2):
    bounds = ax_.axis()
    fsi_304_crop_shift.draw_contours(fsi_304_levels,colors=["g","b","r"], axes=ax_, alpha=0.3)
    ax_.axis(bounds)



fig = plt.figure(figsize=(5,5),constrained_layout=True)

ax1 = fig.add_subplot(111,projection=fsi_304_crop_shift)
im1 = fsi_304_crop_shift.plot()
plt.colorbar(ax=ax1,shrink=0.75)
ax1.set_title("FSI derotated, cropped, and shifted")

aia_304_map_crop.draw_contours([15]*aia_304_map_crop.unit, axes=ax1, colors=["g"], alpha=0.5,lw=0.5)
ax1.set_xlim(0,100)
ax1.set_ylim(100,200)


SunBlinker(aia_304_map_repro, fsi_304_map_hri_time_shift, reproject=True)


aia_1600_map_repro = aia_1600_map.reproject_to(fsi_304_crop_shift.wcs)


fig = plt.figure(figsize=(10,5),constrained_layout=True)

ax1 = fig.add_subplot(121,projection=aia_1600_map_repro)
im1 = aia_1600_map_repro.plot()
plt.colorbar(ax=ax1,shrink=0.75)
ax1.set_title("AIA reprojected and shifted")

ax2 = fig.add_subplot(122,projection=fsi_304_crop_shift)
im2 = fsi_304_crop_shift.plot()
plt.colorbar(ax=ax2,shrink=0.75)
ax2.set_title("FSI derotated and cropped")

fsi_304_levels = [200,500,1000]

for ax_ in (ax1,ax2):
    bounds = ax_.axis()
    fsi_304_crop_shift.draw_contours(fsi_304_levels,colors=["g","b","r"], axes=ax_, alpha=0.3)
    ax_.axis(bounds)



SunBlinker(aia_1600_map_repro, fsi_304_crop_shift)


aia_171_repro = aia_171_map.reproject_to(fsi_304_crop_shift.wcs)


aia_171_repro_hrifov = aia_171_map.reproject_to(hri_174_map_shifted_toaia.wcs)


fig = plt.figure(figsize=(10,5),constrained_layout=True)

ax1 = fig.add_subplot(121,projection=aia_171_repro_hrifov)
im1 = aia_171_repro_hrifov.plot()
plt.colorbar(ax=ax1,shrink=0.75)
ax1.set_title("AIA 171 reprojected")

ax2 = fig.add_subplot(122,projection=hri_174_map_shifted_toaia)
im2 = hri_174_map_shifted_toaia.plot()
plt.colorbar(ax=ax2,shrink=0.75)
ax2.set_title("HRI 174 shifted to AIA")

hri_levels = [1000,5000]*hri_174_map_shifted_toaia.unit

for ax_ in (ax1,ax2):
    bounds = ax_.axis()
    hri_174_map_shifted_toaia.draw_contours(hri_levels,colors=["b","r"], axes=ax_, alpha=0.3,linewidths=0.5)
    ax_.axis(bounds)


SunBlinker(aia_171_repro_hrifov, hri_174_map_shifted_toaia,save_fname="../../figs/test_figs/aia_171_hri_171_blinker.gif")


# 
def reproject_to_above_surface(map,target_wcs,radius=None,height=None):
    if radius is None and height is not None:
        rsun_ref = map.meta["rsun_ref"] + height.to_value(u.m)
    elif radius is not None and height is None:
        rsun_ref = radius.to_value(u.m)
    else:
        rsun_ref = map.meta["rsun_ref"]

    map_new = deepcopy(map)
    target_wcs_new = deepcopy(target_wcs)

    map_new.meta["rsun_ref"] = rsun_ref
    target_wcs_new.wcs.aux.rsun_ref = rsun_ref

    return map_new.reproject_to(target_wcs_new)


aia_171_repro_hrifov_2dot8 = reproject_to_above_surface(aia_171_map,hri_174_map_shifted_toaia.wcs,height=2.8*u.Mm)


SunBlinker(aia_171_repro_hrifov_2dot8, hri_174_map_shifted_toaia,save_fname="../../figs/test_figs/aia_171_hri_171_blinker_2dot8Mm.gif")


aia_193_repro = aia_193_map.reproject_to(fsi_304_crop_shift.wcs)
aia_193_repro_hrifov = aia_193_map.reproject_to(hri_174_map_shifted_toaia.wcs)


fig = plt.figure(figsize=(10,5),constrained_layout=True)

ax1 = fig.add_subplot(121,projection=aia_193_repro_hrifov)
im1 = aia_193_repro_hrifov.plot()
plt.colorbar(ax=ax1,shrink=0.75)
ax1.set_title("AIA 193 reprojected and shifted to FSI")

ax2 = fig.add_subplot(122,projection=hri_174_map_shifted_toaia)
im2 = hri_174_map_shifted_toaia.plot()
plt.colorbar(ax=ax2,shrink=0.75)
ax2.set_title("HRI 174 shifted to AIA")

hri_levels = [1000,5000]*hri_174_map_shifted_toaia.unit

for ax_ in (ax1,ax2):
    bounds = ax_.axis()
    hri_174_map_shifted_toaia.draw_contours(hri_levels,colors=["b","r"], axes=ax_, alpha=0.3,linewidths=0.5)
    ax_.axis(bounds)


SunBlinker(aia_193_repro_hrifov, hri_174_map_shifted_toaia)


hmi_los_map_repro = hmi_los_map_to_aia.reproject_to(fsi_304_crop_shift.wcs)
hmi_los_map_repro_hrifov = hmi_los_map_to_aia.reproject_to(hri_174_map_shifted_toaia.wcs)


fsi_304_crop_hrifov_toaia = fsi_304_crop_shift.reproject_to(hri_174_map_shifted_toaia.wcs)


fig = plt.figure(figsize=(10,5),constrained_layout=True)

ax1 = fig.add_subplot(121,projection=hmi_los_map_repro_hrifov)
im1 = hmi_los_map_repro_hrifov.plot()
plt.colorbar(ax=ax1,shrink=0.75)

ax2 = fig.add_subplot(122,projection=fsi_304_crop_hrifov_toaia)
im2 = fsi_304_crop_hrifov_toaia.plot()
plt.colorbar(ax=ax2,shrink=0.75)

hmi_los_levels = [-100,100]

for ax_ in (ax1,ax2):
    bounds = ax_.axis()
    hmi_los_map_repro_hrifov.draw_contours(hmi_los_levels,colors=["g","b","r"], axes=ax_, alpha=0.3)
    ax_.axis(bounds)
    


fig = plt.figure(figsize=(10,5),constrained_layout=True)

ax1 = fig.add_subplot(121,projection=hmi_los_map_repro_hrifov)
im1 = hmi_los_map_repro_hrifov.plot()
plt.colorbar(ax=ax1,shrink=0.75)

ax2 = fig.add_subplot(122,projection=hri_174_map_shifted_toaia)
im2 = hri_174_map_shifted_toaia.plot()
plt.colorbar(ax=ax2,shrink=0.75)

hmi_los_levels = [-100,100]

for ax_ in (ax1,ax2):
    bounds = ax_.axis()
    hmi_los_map_repro_hrifov.draw_contours(hmi_los_levels,colors=["g","b","r"], axes=ax_, alpha=0.3)
    ax_.axis(bounds)


SunBlinker(hmi_los_map_repro_hrifov, hri_174_map_shifted_toaia)


fig = plt.figure(figsize=(10,5),constrained_layout=True)

ax1 = fig.add_subplot(121,projection=phi_los_map)
im1 = phi_los_map.plot()
plt.colorbar(ax=ax1,shrink=0.75)

ax2 = fig.add_subplot(122,projection=hri_174_map)
im2 = hri_174_map.plot()
plt.colorbar(ax=ax2,shrink=0.75)

phi_levels = [-200,200]*phi_los_map.unit

for ax_ in (ax1,ax2):
    bounds = ax_.axis()
    phi_los_map.draw_contours(phi_levels,colors=["b","r"], axes=ax_, alpha=0.3,linewidths=0.5)
    ax_.axis(bounds)


phi_los_map_crop = phi_los_map.submap([200,200]*u.pix,
                                      top_right=[1847,1847]*u.pix)

phi_los_map_crop.plot()
phi_los_map_crop.draw_contours([-300,300]*phi_los_map_crop.unit,colors=["b","r"], alpha=0.3,linewidths=0.5)


phi_los_map_resample = phi_los_map.reproject_to(fsi_304_crop_shift.wcs)
phi_los_map_resample.plot()


phi_los_map_resample_crop = phi_los_map_resample.submap([30,70]*u.pix,
                                                        top_right=[195,235]*u.pix)
phi_los_map_resample_crop.plot()


Txshift_phi_hmi, Tyshift_phi_hmi = coalign_shift(hmi_los_map_repro,phi_los_map_resample_crop)
print(Txshift_phi_hmi, Tyshift_phi_hmi)


phi_los_map_shifted = phi_los_map.shift_reference_coord(Txshift_phi_hmi,Tyshift_phi_hmi)
phi_los_map_shifted_hrifov = phi_los_map_shifted.reproject_to(hri_174_map_shifted_toaia.wcs)
phi_los_map_resample_crop_shifted = phi_los_map_resample_crop.shift_reference_coord(Txshift_phi_hmi,Tyshift_phi_hmi)


phi_los_map_shifted.save("../../src/coalign_map/20221024/phi_los_map_shifted.fits",overwrite=True)


fig = plt.figure(figsize=(10,5),constrained_layout=True)

ax1 = fig.add_subplot(121,projection=phi_los_map_resample_crop_shifted)
im1 = phi_los_map_resample_crop_shifted.plot()
plt.colorbar(ax=ax1,shrink=0.75)

ax2 = fig.add_subplot(122,projection=hmi_los_map_repro)
im2 = hmi_los_map_repro.plot()
plt.colorbar(ax=ax2,shrink=0.75)

hmi_los_levels=[-100,100]

for ax_ in (ax1,ax2):
    bounds = ax_.axis()
    hmi_los_map_repro.draw_contours(hmi_los_levels,colors=["g","b","r"], axes=ax_, alpha=0.3)
    ax_.axis(bounds)

plt.savefig("../../figs/test_figs/phi_hmi_coalign_1024.png",dpi=300,bbox_inches="tight")


phi_los_map_resample_crop_shifted.save("../../src/coalign_map/20221024/test_phi_los_map_resample_crop_shifted.fits",overwrite=True)
hmi_los_map_repro.save("../../src/coalign_map/20221024/test_hmi_los_map_repro.fits",overwrite=True)


fig = plt.figure(figsize=(10,5),constrained_layout=True)

ax1 = fig.add_subplot(121,projection=phi_los_map_shifted)
im1 = phi_los_map_shifted.plot()
plt.colorbar(ax=ax1,shrink=0.75)

ax2 = fig.add_subplot(122,projection=hmi_los_map_repro)
im2 = hmi_los_map_repro.plot()
plt.colorbar(ax=ax2,shrink=0.75)

hmi_los_levels=[-100,100]

for ax_ in (ax1,ax2):
    bounds = ax_.axis()
    hmi_los_map_repro.draw_contours(hmi_los_levels,colors=["g","b","r"], axes=ax_, alpha=0.3)
    ax_.axis(bounds)

plt.savefig("../../figs/test_figs/phi_hmi_coalign_1024_highres.png",dpi=300,bbox_inches="tight")


fig = plt.figure(figsize=(10,5),constrained_layout=True)

ax1 = fig.add_subplot(121,projection=phi_los_map_shifted)
im1 = phi_los_map_shifted.plot()
plt.colorbar(ax=ax1,shrink=0.75)

ax2 = fig.add_subplot(122,projection=hmi_los_map_repro)
im2 = hmi_los_map_repro.plot()
plt.colorbar(ax=ax2,shrink=0.75)

hmi_los_levels=[-100,100]

for ax_ in (ax1,ax2):
    bounds = ax_.axis()
    hmi_los_map_repro.draw_contours(hmi_los_levels,colors=["g","b","r"], axes=ax_, alpha=0.3)
    ax_.axis(bounds)


sotsp_btot_map_shift_phi_fov = sotsp_btot_map_shift.reproject_to(phi_los_map_shifted.wcs)


fig = plt.figure(figsize=(10,5),constrained_layout=True)

ax1 = fig.add_subplot(121,projection=sotsp_btot_map_shift_phi_fov)
im1 = sotsp_btot_map_shift_phi_fov.plot()
plt.colorbar(ax=ax1,shrink=0.75)

ax2 = fig.add_subplot(122,projection=phi_los_map_shifted)
im2 = phi_los_map_shifted.plot()
plt.colorbar(ax=ax2,shrink=0.75)

phi_levels = [-200,200]*phi_los_map_shifted.unit

for ax_ in (ax1,ax2):
    bounds = ax_.axis()
    phi_los_map_shifted.draw_contours(phi_levels,colors=["b","r"], axes=ax_, alpha=0.3,linewidths=0.5)
    ax_.axis(bounds)

plt.savefig("../../figs/test_figs/sotsp_phi_coalign_1024.png",dpi=300,bbox_inches="tight")


fig = plt.figure(figsize=(10,5),constrained_layout=True)

ax1 = fig.add_subplot(121,projection=phi_los_map_shifted_hrifov)
im1 = phi_los_map_shifted_hrifov.plot()
plt.colorbar(ax=ax1,shrink=0.75)

ax2 = fig.add_subplot(122,projection=hri_174_map_shifted_toaia)
im2 = hri_174_map_shifted_toaia.plot()
plt.colorbar(ax=ax2,shrink=0.75)

phi_levels = [-200,200]

for ax_ in (ax1,ax2):
    bounds = ax_.axis()
    phi_los_map_shifted_hrifov.draw_contours(phi_levels,colors=["b","r"], axes=ax_, alpha=0.3,linewidths=0.5)
    ax_.axis(bounds)


SunBlinker(phi_los_map_shifted_hrifov.submap([217,10]*u.pix,top_right=[1700,1500]*u.pix), 
           hmi_los_map_repro_hrifov.submap([217,10]*u.pix,top_right=[1700,1500]*u.pix),
           figsize=(6,6))


with propagate_with_solar_surface(rotation_model="rigid"):
    eis_195_intmap_derot = eis_195_intmap_shift.reproject_to(aia_193_map_crop.wcs)
    eis_195_velmap_derot = eis_195_velmap_shift.reproject_to(aia_193_map_crop.wcs)


fig = plt.figure(figsize=(10,5),constrained_layout=True)

ax1 = fig.add_subplot(121,projection=aia_193_map_crop)
im1 = aia_193_map_crop.plot()
plt.colorbar(ax=ax1)

ax2 = fig.add_subplot(122,projection=aia_193_map_crop)
ax2.imshow(eis_195_intmap_derot.data,origin="lower",cmap=eis_195_intmap_derot.plot_settings['cmap'],norm=eis_195_intmap_derot.plot_settings['norm'])

aia_193_levels = [500,2000,3000]*aia_193_map_crop.unit

for ax_ in (ax1,ax2):
    bounds = ax_.axis()
    aia_193_map_crop.draw_contours(aia_193_levels,colors=["g","b","r"], axes=ax_, alpha=0.3)
    ax_.axis(bounds)




SunBlinker(aia_193_map_crop, eis_195_intmap_derot)


fig = plt.figure(figsize=(10,5),constrained_layout=True)

ax1 = fig.add_subplot(121,projection=aia_193_map_crop)
im1 = aia_193_map_crop.plot()
plt.colorbar(ax=ax1)

ax2 = fig.add_subplot(122,projection=aia_193_map_crop)
im2 = ax2.imshow(eis_195_velmap_derot.data,origin="lower",cmap=eis_195_velmap_derot.plot_settings['cmap'],norm=eis_195_velmap_derot.plot_settings['norm'])
clb2 = plt.colorbar(im2,ax=ax2)
clb2.ax.axhline(-5,color="green")
clb2.ax.axhline(-10,color="purple")

eis_vel_levels = [-10,-5]
for ax_ in (ax1,ax2):
    bounds = ax_.axis()
    eis_195_velmap_derot.draw_contours(eis_vel_levels,colors=["purple","green"], axes=ax_, alpha=0.5)
    ax_.axis(bounds)


SunBlinker(aia_193_map_crop, eis_195_velmap_derot)


eis_195_velmap_derot.save("../../src/EIS/DHB_007_v2/20221025T0023/sunpymaps/eis_195_velmap_derot.fits",overwrite=True)
eis_195_intmap_derot.save("../../src/EIS/DHB_007_v2/20221025T0023/sunpymaps/eis_195_intmap_derot.fits",overwrite=True)


fig = plt.figure(figsize=(10,5),constrained_layout=True)

ax1 = fig.add_subplot(121,projection=aia_1600_map_crop)
im1 = aia_1600_map_crop.plot()
plt.colorbar(ax=ax1)

ax2 = fig.add_subplot(122,projection=aia_1600_map_crop)
im2 = ax2.imshow(eis_195_velmap_derot.data,origin="lower",cmap=eis_195_velmap_derot.plot_settings['cmap'],norm=eis_195_velmap_derot.plot_settings['norm'])
plt.colorbar(im2,ax=ax2)

eis_vel_levels = [-10,-5]
for ax_ in (ax1,ax2):
    bounds = ax_.axis()
    eis_195_velmap_derot.draw_contours(eis_vel_levels,colors=["purple","green"], axes=ax_, alpha=0.5)
    ax_.axis(bounds)


eis_195_intmap_derot_repro = eis_195_intmap_derot.reproject_to(fsi_304_crop_shift.wcs)
eis_195_velmap_derot_repro = eis_195_velmap_derot.reproject_to(fsi_304_crop_shift.wcs)


with propagate_with_solar_surface(rotation_model="rigid"):
    eis_195_intmap_derot_repro_hrifov = reproject_to_above_surface(eis_195_intmap_derot,
                                                                   hri_174_map_shifted_toaia.wcs,height=3*u.Mm)
    eis_195_velmap_derot_repro_hrifov = reproject_to_above_surface(eis_195_velmap_derot,
                                                                     hri_174_map_shifted_toaia.wcs,height=3*u.Mm)

# eis_195_intmap_derot_repro_hrifov = eis_195_intmap_derot.reproject_to(hri_174_map_shifted_toaia.wcs)
# eis_195_velmap_derot_repro_hrifov = eis_195_velmap_derot.reproject_to(hri_174_map_shifted_toaia.wcs)


SunBlinker(hri_174_map_shifted, eis_195_intmap_derot_repro_hrifov)


SunBlinker(hri_174_map_shifted_toaia, eis_195_velmap_derot_repro_hrifov)


SunBlinker(aia_171_map_crop.submap([100,100]*u.pix,top_right=[550,900]*u.pix),
           eis_195_velmap_derot.submap([100,100]*u.pix,top_right=[550,900]*u.pix),)


fig = plt.figure(figsize=(10,5),constrained_layout=True)

ax1 = fig.add_subplot(121,projection=hri_174_map_shifted_toaia)
im1 = hri_174_map_shifted_toaia.plot()

eis_195_velmap_derot_repro_hrifov.draw_contours(levels=[-10,-5,5,10],colors=["#005CAF","#58B2DC","#F05E1C","#E83015"],axes=ax1,alpha=0.8)

ax2 = fig.add_subplot(122,projection=hri_174_map_shifted_toaia)
im2 = ax2.imshow(eis_195_velmap_derot_repro_hrifov.data,vmin=-15,vmax=15,cmap=cmcm.vik,origin="lower")
clb = plt.colorbar(im2,ax=ax2,shrink=0.8)
for level_, color_ in zip([-10,-5,5,10],["#005CAF","#58B2DC","#F05E1C","#E83015"]):
    clb.ax.axhline(level_,color=color_)

bounds = ax1.axis()
hri_174_map_shifted_toaia.draw_quadrangle([400,300]*u.pix,top_right=[800,800]*u.pix, 
                                    axes=ax1, color="w", lw=1.5)
hri_174_map_shifted_toaia.draw_quadrangle([1500,0]*u.pix,top_right=[2029,800]*u.pix, 
                                    axes=ax1, color="w", lw=1.5)
ax1.axis(bounds)
ax2.set_ylabel(" ")


eis_195_velmap_derot_repro_hrifov.save("../../src/EIS/DHB_007_v2/20221025T0023/sunpymaps/eis_195_velmap_derot_repro_hrifov.fits",overwrite=True)


eis_195_vnth_map_shift = sunpy.map.Map("../../src/EIS/DHB_007_v2/20221025T0023/sunpymaps/eis_195_widmap_shift.fits")


with propagate_with_solar_surface(rotation_model="rigid"):
    eis_195_vnth_map_shift_derot = eis_195_vnth_map_shift.reproject_to(aia_193_map_crop.wcs)

eis_195_vnth_map_shift_derot_repro = eis_195_vnth_map_shift_derot.reproject_to(fsi_304_crop_shift.wcs)

with propagate_with_solar_surface(rotation_model="rigid"):
    eis_195_vnth_map_shift_derot_repro_hrifov = reproject_to_above_surface(eis_195_vnth_map_shift,
                                                                           hri_174_map_shifted_toaia.wcs,height=3*u.Mm)


fig = plt.figure(figsize=(10,5),constrained_layout=True)

ax1 = fig.add_subplot(121,projection=hri_174_map_shifted_toaia)
im1 = hri_174_map_shifted_toaia.plot()
# ax1.contour(eis_195_velmap_derot_repro_shifted_hrifov.data,levels=[-10,-5,5,10]*u.km/u.s,colors=["#005CAF","#58B2DC","#F05E1C","#E83015"],alpha=0.8)

ax2 = fig.add_subplot(122,projection=hri_174_map_shifted)
im2 = ax2.imshow(eis_195_vnth_map_shift_derot_repro_hrifov.data,vmin=10,vmax=45,cmap=cmcm.batlowK,origin="lower")
plt.colorbar(im2,ax=ax2,shrink=0.8)

eis_195_vnth_levels = [30]
for ax_ in (ax1,ax2):
    bounds = ax_.axis()
    eis_195_vnth_map_shift_derot_repro_hrifov.draw_contours(eis_195_vnth_levels,colors=["purple"],axes=ax_,alpha=0.8)
    ax_.axis(bounds)

ax2.set_ylabel(" ")


SunBlinker(phi_los_map_shifted_hrifov, eis_195_velmap_derot_repro_hrifov)


with propagate_with_solar_surface(rotation_model="rigid"):
    eis_hhflare_195_intmap_derot = eis_hhflare_195_intmap_shift.reproject_to(aia_193_map_crop.wcs)
    eis_hhflare_195_velmap_derot = eis_hhflare_195_velmap_shift.reproject_to(aia_193_map_crop.wcs)

eis_hhflare_195_intmap_derot_repro = eis_hhflare_195_intmap_derot.reproject_to(fsi_304_crop_shift.wcs)
eis_hhflare_195_velmap_derot_repro = eis_hhflare_195_velmap_derot.reproject_to(fsi_304_crop_shift.wcs)

with propagate_with_solar_surface(rotation_model="rigid"):
    eis_hhflare_195_intmap_derot_repro_hrifov = reproject_to_above_surface(eis_hhflare_195_intmap_shift,
                                                                           hri_174_map_shifted_toaia.wcs,height=3*u.Mm)
    eis_hhflare_195_velmap_derot_repro_hrifov = reproject_to_above_surface(eis_hhflare_195_velmap_shift,
                                                                           hri_174_map_shifted_toaia.wcs,height=3*u.Mm)
# eis_hhflare_195_intmap_derot_repro_hrifov = eis_hhflare_195_intmap_derot.reproject_to(hri_174_map_shifted_toaia.wcs)
# eis_hhflare_195_velmap_derot_repro_hrifov = eis_hhflare_195_velmap_derot.reproject_to(hri_174_map_shifted_toaia.wcs)


eis_hhflare_195_velmap_derot.save("../../src/coalign_map/20221024/eis_hhflare_195_velmap_derot.fits",overwrite=True)
eis_hhflare_195_velmap_derot_repro_hrifov.save("../../src/coalign_map/20221024/eis_hhflare_195_velmap_derot_repro_hrifov.fits",overwrite=True)


SunBlinker(eis_hhflare_195_intmap_shift,eis_hhflare_195_velmap_shift)


SunBlinker(aia_193_map_crop,eis_hhflare_195_intmap_derot)


SunBlinker(aia_193_map_crop.submap([150,350]*u.pix, top_right=[520,700]*u.pix),
           eis_hhflare_195_intmap_derot.submap([150,350]*u.pix, top_right=[520,700]*u.pix))


fig = plt.figure(figsize=(10,5),constrained_layout=True)

ax1 = fig.add_subplot(121,projection=aia_171_map_crop)
im1 = aia_171_map_crop.plot()
plt.colorbar(ax=ax1)

ax2 = fig.add_subplot(122,projection=eis_hhflare_195_velmap_derot)
im2 = ax2.imshow(eis_hhflare_195_velmap_derot.data,origin="lower",cmap=eis_195_velmap_derot.plot_settings['cmap'],norm=eis_195_velmap_derot.plot_settings['norm'])
clb2 = plt.colorbar(im2,ax=ax2)
clb2.ax.axhline(-5,color="green")
clb2.ax.axhline(-10,color="purple")

eis_vel_levels = [-10,-5]
for ax_ in (ax1,ax2):
    bounds = ax_.axis()
    eis_hhflare_195_velmap_derot.draw_contours(eis_vel_levels,colors=["purple","green"], axes=ax_, alpha=0.5)
    ax_.axis(bounds)


fig = plt.figure(figsize=(10,5),constrained_layout=True)

ax1 = fig.add_subplot(121,projection=aia_193_map_crop)
im1 = aia_193_map_crop.plot()
plt.colorbar(ax=ax1)

ax2 = fig.add_subplot(122,projection=aia_193_map_crop)
im2 = ax2.imshow(eis_hhflare_195_velmap_derot.data,origin="lower",cmap=eis_195_velmap_derot.plot_settings['cmap'],norm=eis_195_velmap_derot.plot_settings['norm'])
clb2 = plt.colorbar(im2,ax=ax2)
clb2.ax.axhline(-5,color="green")
clb2.ax.axhline(-10,color="purple")

eis_vel_levels = [-10,-5]
for ax_ in (ax1,ax2):
    eis_hhflare_195_velmap_derot.draw_contours(eis_vel_levels,colors=["purple","green"], axes=ax_, alpha=0.5)
    ax_.set_xlim(150,520)
    ax_.set_ylim(350,700)


fig = plt.figure(figsize=(10,5),constrained_layout=True)

ax1 = fig.add_subplot(121,projection=hri_174_map_shifted_toaia)
im1 = hri_174_map_shifted_toaia.plot()

eis_hhflare_195_velmap_derot_repro_hrifov.draw_contours(levels=[-10,-5,5,10],colors=["#005CAF","#58B2DC","#F05E1C","#E83015"],axes=ax1,alpha=0.8)

ax2 = fig.add_subplot(122,projection=hri_174_map_shifted_toaia)
im2 = ax2.imshow(eis_hhflare_195_velmap_derot_repro_hrifov.data,vmin=-15,vmax=15,cmap=cmcm.vik,origin="lower")
clb = plt.colorbar(im2,ax=ax2,shrink=0.8)
for level_, color_ in zip([-10,-5,5,10],["#005CAF","#58B2DC","#F05E1C","#E83015"]):
    clb.ax.axhline(level_,color=color_)

# bounds = ax1.axis()
# hri_174_map_shifted_toaia.draw_quadrangle([400,300]*u.pix,top_right=[800,800]*u.pix, 
#                                     axes=ax1, color="w", lw=1.5)
# hri_174_map_shifted_toaia.draw_quadrangle([1500,0]*u.pix,top_right=[2029,800]*u.pix, 
#                                     axes=ax1, color="w", lw=1.5)
# ax1.axis(bounds)
ax2.set_ylabel(" ")


def derotate_iris(iris_map, aia_map,algorithm="adaptive"):
    out_frame = aia_map.coordinate_frame
    out_center = SkyCoord(iris_map.center.Tx, iris_map.center.Ty, frame=out_frame)
    header = sunpy.map.make_fitswcs_header(iris_map.data.shape,
                                        out_center,
                                        scale=u.Quantity(iris_map.scale),
                                        rotation_matrix=aia_map.rotation_matrix) 
    # correct the tiny rotation matrix difference between FSI and HRI, which simply the coalignment
    out_wcs = WCS(header)

    with propagate_with_solar_surface():
        iris_map_derot = iris_map.reproject_to(out_wcs,algorithm=algorithm)

    return iris_map_derot



iris_1400_sji_map_rotate = derotate_iris(iris_1400_sji_map, aia_1700_map_crop)


iris_1400_sji_map_rotate.plot()


iris_1400_sji_map_rotate_crop = iris_1400_sji_map_rotate.submap([20,50]*u.pix,top_right=[490,520]*u.pix)
iris_1400_sji_map_rotate_crop.plot()


aia_1700_map_crop.plot()


iris_1400_resample_nx = (iris_1400_sji_map_rotate_crop.scale.axis1 * iris_1400_sji_map_rotate_crop.dimensions.x).to(u.arcsec) / aia_1700_map_crop.scale.axis1
iris_1400_resample_ny = (iris_1400_sji_map_rotate_crop.scale.axis2 * iris_1400_sji_map_rotate_crop.dimensions.y).to(u.arcsec) / aia_1700_map_crop.scale.axis2
iris_1400_sji_map_rotate_crop_resample = iris_1400_sji_map_rotate_crop.resample(u.Quantity([iris_1400_resample_nx, iris_1400_resample_ny]))


Txshift_iris_aia, Tyshift_iris_aia = coalign_shift(aia_1700_map_crop,iris_1400_sji_map_rotate_crop_resample)
print(Txshift_iris_aia, Tyshift_iris_aia)


iris_1400_sji_map_rotate_crop_shift = iris_1400_sji_map_rotate_crop.shift_reference_coord(Txshift_iris_aia,Tyshift_iris_aia)
aia_1700_map_crop_iris_1400_fov = aia_1700_map_crop.reproject_to(iris_1400_sji_map_rotate_crop_shift.wcs)


SunBlinker(aia_1700_map_crop_iris_1400_fov, iris_1400_sji_map_rotate_crop_shift)


fig = plt.figure(figsize=(10,5),constrained_layout=True)

ax1 = fig.add_subplot(121,projection=iris_1400_sji_map_rotate_crop_shift)
iris_1400_sji_map_rotate_crop_shift.plot(axes=ax1)


bounds = ax1.axis()
eis_195_velmap_derot.draw_contours(levels=[-10,-5,5,10],colors=["#005CAF","#58B2DC","#F05E1C","#E83015"],axes=ax1,alpha=0.8)
ax1.axis(bounds)

ax2 = fig.add_subplot(122,projection=iris_1400_sji_map_rotate_crop_shift)
iris_1400_sji_map_rotate_crop_shift.plot(axes=ax2)
plt.colorbar(ax=ax2,shrink=0.75)


iris_1400_sji_map_rotate_crop_shift.save("../../src/coalign_map/20221024/iris_1400_sji_map_rotate_crop_shift.fits",overwrite=True)


iris_1400_sji_2322_map_rotate = iris_1400_sji_2322_map.rotate()
iris_1400_sji_2322_map_rotate_crop = iris_1400_sji_2322_map_rotate.submap([25,52]*u.pix,top_right=[490,520]*u.pix)
iris_1400_sji_2322_map_rotate_crop.plot()


iris_1400_2322_resample_nx = (iris_1400_sji_2322_map_rotate_crop.scale.axis1 * iris_1400_sji_2322_map_rotate_crop.dimensions.x).to(u.arcsec) / aia_1700_map_2322_crop.scale.axis1
iris_1400_2322_resample_ny = (iris_1400_sji_2322_map_rotate_crop.scale.axis2 * iris_1400_sji_2322_map_rotate_crop.dimensions.y).to(u.arcsec) / aia_1700_map_2322_crop.scale.axis2
iris_1400_sji_2322_map_rotate_crop_resample = iris_1400_sji_2322_map_rotate_crop.resample(u.Quantity([iris_1400_2322_resample_nx, iris_1400_2322_resample_ny]))

Txshift_iris_aia_2322, Tyshift_iris_aia_2322 = coalign_shift(aia_1700_map_2322_crop,iris_1400_sji_2322_map_rotate_crop_resample)
print(Txshift_iris_aia_2322, Tyshift_iris_aia_2322)


iris_1400_sji_2322_map_rotate_crop_shift = iris_1400_sji_2322_map_rotate_crop.shift_reference_coord(Txshift_iris_aia_2322,Tyshift_iris_aia_2322)
aia_1700_map_2322_crop_iris_1400_2322_fov = aia_1700_map_2322_crop.reproject_to(iris_1400_sji_2322_map_rotate_crop_shift.wcs)


iris_1400_sji_2322_map_rotate_crop_shift.save("../../src/coalign_map/20221024/iris_1400_sji_2322_0_map_rotate_crop_shift.fits",overwrite=True)


SunBlinker(aia_1700_map_2322_crop_iris_1400_2322_fov, iris_1400_sji_2322_map_rotate_crop_shift)


iris_SiIV_1394_intmap = sunpy.map.Map("../../src/IRIS/20221024/2322/fit_res/SiIV_1393_int_map_shifted.fits")
iris_SiIV_1394_intmap.meta["rsun_ref"] = aia_1700_map_2322_crop.meta["rsun_ref"]
iris_SiIV_1394_intmap_rotate = iris_SiIV_1394_intmap.rotate()
iris_SiIV_1394_intmap_rotate_shift = iris_SiIV_1394_intmap_rotate.shift_reference_coord(Txshift_iris_aia_2322,Tyshift_iris_aia_2322)
with propagate_with_solar_surface(rotation_model="rigid"):
    iris_SiIV_1394_intmap_rotate_shift_derot = iris_SiIV_1394_intmap_rotate_shift.reproject_to(aia_1700_map_crop.wcs)
iris_SiIV_1394_intmap_rotate_shift_aia_2322_wcs = iris_SiIV_1394_intmap_rotate_shift.reproject_to(aia_1700_map_2322_crop.wcs)
iris_SiIV_1394_intmap_rotate_shift.plot_settings["cmap"] = "irissji1400"
iris_SiIV_1394_intmap_rotate_shift.plot_settings["norm"] = ImageNormalize(vmin=2e2,vmax=1e4,stretch=AsinhStretch(0.3))
iris_SiIV_1394_intmap_rotate_shift_aia_2322_wcs.plot_settings["cmap"] = "irissji1400"
iris_SiIV_1394_intmap_rotate_shift_aia_2322_wcs.plot_settings["norm"] = ImageNormalize(vmin=2e2,vmax=1e4,stretch=AsinhStretch(0.3))
iris_SiIV_1394_intmap_rotate_shift_derot.plot_settings["cmap"] = "irissji1400"
iris_SiIV_1394_intmap_rotate_shift_derot.plot_settings["norm"] = ImageNormalize(vmin=2e2,vmax=1e4,stretch=AsinhStretch(0.1))


SunBlinker(aia_1700_map_2322_crop.submap([230,355]*u.pix, top_right=[400,600]*u.pix),
 iris_SiIV_1394_intmap_rotate_shift_aia_2322_wcs.submap([230,355]*u.pix, top_right=[400,600]*u.pix))


iris_SiIV_1394_velmap = sunpy.map.Map("../../src/IRIS/20221024/2322/fit_res/SiIV_1393_vel_map_shifted.fits")
iris_SiIV_1394_velmap.meta["rsun_ref"] = aia_1700_map_2322_crop.meta["rsun_ref"]
iris_SiIV_1394_velmap_rotate = iris_SiIV_1394_velmap.rotate()
iris_SiIV_1394_velmap_rotate_shift = iris_SiIV_1394_velmap_rotate.shift_reference_coord(Txshift_iris_aia_2322,Tyshift_iris_aia_2322)
with propagate_with_solar_surface(rotation_model="rigid"):
    iris_SiIV_1394_velmap_rotate_shift_derot = iris_SiIV_1394_velmap_rotate_shift.reproject_to(aia_1700_map_crop.wcs)
iris_SiIV_1394_velmap_rotate_shift.plot_settings["cmap"] = "RdBu_r"
iris_SiIV_1394_velmap_rotate_shift.plot_settings["norm"] = ImageNormalize(vmin=-30,vmax=30)
iris_SiIV_1394_velmap_rotate_shift_derot.plot_settings["cmap"] = "RdBu_r"
iris_SiIV_1394_velmap_rotate_shift_derot.plot_settings["norm"] = ImageNormalize(vmin=-30,vmax=30)


fig = plt.figure(figsize=(10,5),constrained_layout=True)

ax1 = fig.add_subplot(121,projection=iris_SiIV_1394_intmap_rotate_shift_derot)
iris_SiIV_1394_intmap_rotate_shift_derot.plot(axes=ax1)

ax2 = fig.add_subplot(122,projection=iris_SiIV_1394_velmap_rotate_shift_derot)
im2 = iris_SiIV_1394_velmap_rotate_shift_derot.plot(axes=ax2)

plt.colorbar(im2,ax=ax2)

for ax_ in (ax1,ax2):
    eis_hhflare_195_velmap_derot.draw_contours(levels=[-10,-5,5,10],
        colors=["#005CAF","#58B2DC","#F05E1C","#E83015"],axes=ax_,alpha=0.8)
    ax_.set_xlim([170,360])
    ax_.set_ylim([350,620])



fig = plt.figure(figsize=(10,5),constrained_layout=True)

ax1 = fig.add_subplot(121,projection=iris_SiIV_1394_intmap_rotate_shift)
iris_SiIV_1394_intmap_rotate_shift.plot(axes=ax1)

ax2 = fig.add_subplot(122,projection=iris_SiIV_1394_velmap_rotate_shift)
im2 = iris_SiIV_1394_velmap_rotate_shift.plot(axes=ax2)

plt.colorbar(im2,ax=ax2)

for ax_ in (ax1,ax2):
    bounds = ax_.axis()
    with propagate_with_solar_surface(rotation_model="rigid"):
        eis_hhflare_195_velmap_derot.draw_contours(levels=[-10,-5,5,10],
            colors=["#005CAF","#58B2DC","#F05E1C","#E83015"],axes=ax_,alpha=0.8)
    ax_.axis(bounds)
    # ax_.set_xlim([170,360])
    # ax_.set_ylim([350,620])



iris_SiIV_1394_intmap_rotate_shift.save("../../src/IRIS/20221024/2322/fit_res/iris_SiIV_1394_intmap_rotate_shift.fits",overwrite=True)
iris_SiIV_1394_velmap_rotate_shift.save("../../src/IRIS/20221024/2322/fit_res/iris_SiIV_1394_velmap_rotate_shift.fits",overwrite=True)
iris_SiIV_1394_intmap_rotate_shift_derot.save("../../src/IRIS/20221024/2322/fit_res/iris_SiIV_1394_intmap_rotate_shift_derot.fits",overwrite=True)
iris_SiIV_1394_velmap_rotate_shift_derot.save("../../src/IRIS/20221024/2322/fit_res/iris_SiIV_1394_velmap_rotate_shift_derot.fits",overwrite=True)


iris_MgII_k_lc_intmap = sunpy.map.Map("../../src/IRIS/20221024/2322/fit_res/MgII_k_lc_int_map_shifted.fits")
iris_MgII_k_lc_intmap.meta["rsun_ref"] = aia_1700_map_2322_crop.meta["rsun_ref"]
iris_MgII_k_lc_intmap_rotate = iris_MgII_k_lc_intmap.rotate()
iris_MgII_k_lc_intmap_rotate_shift = iris_MgII_k_lc_intmap_rotate.shift_reference_coord(Txshift_iris_aia_2322,Tyshift_iris_aia_2322)
with propagate_with_solar_surface(rotation_model="rigid"):
    iris_MgII_k_lc_intmap_rotate_shift_derot = iris_MgII_k_lc_intmap_rotate_shift.reproject_to(aia_1700_map_crop.wcs)
iris_MgII_k_lc_intmap_rotate_shift.plot_settings["cmap"] = "irissji2796"
iris_MgII_k_lc_intmap_rotate_shift.plot_settings["norm"] = ImageNormalize(vmin=0,vmax=2e3,stretch=AsinhStretch(0.1))
iris_MgII_k_lc_intmap_rotate_shift_derot.plot_settings["cmap"] = "irissji2796"
iris_MgII_k_lc_intmap_rotate_shift_derot.plot_settings["norm"] = ImageNormalize(vmin=0,vmax=2e3,stretch=AsinhStretch(0.1))


iris_MgII_k_lc_velmap = sunpy.map.Map("../../src/IRIS/20221024/2322/fit_res/MgII_k_lc_vel_map_shifted.fits")
iris_MgII_k_lc_velmap.meta["rsun_ref"] = aia_1700_map_2322_crop.meta["rsun_ref"]
iris_MgII_k_lc_velmap_rotate = iris_MgII_k_lc_velmap.rotate()
iris_MgII_k_lc_velmap_rotate_shift = iris_MgII_k_lc_velmap_rotate.shift_reference_coord(Txshift_iris_aia_2322,Tyshift_iris_aia_2322)
with propagate_with_solar_surface(rotation_model="rigid"):
    iris_MgII_k_lc_velmap_rotate_shift_derot = iris_MgII_k_lc_velmap_rotate_shift.reproject_to(aia_1700_map_crop.wcs)
iris_MgII_k_lc_velmap_rotate_shift.plot_settings["cmap"] = "RdBu_r"
iris_MgII_k_lc_velmap_rotate_shift.plot_settings["norm"] = ImageNormalize(vmin=-15,vmax=15)
iris_MgII_k_lc_velmap_rotate_shift_derot.plot_settings["cmap"] = "RdBu_r"
iris_MgII_k_lc_velmap_rotate_shift_derot.plot_settings["norm"] = ImageNormalize(vmin=-15,vmax=15)


fig = plt.figure(figsize=(10,5),constrained_layout=True)

ax1 = fig.add_subplot(121,projection=iris_MgII_k_lc_intmap_rotate_shift_derot)
iris_MgII_k_lc_intmap_rotate_shift_derot.plot(axes=ax1)

ax2 = fig.add_subplot(122,projection=iris_MgII_k_lc_velmap_rotate_shift_derot)
iris_MgII_k_lc_velmap_rotate_shift_derot.plot(axes=ax2)

plt.colorbar(im2,ax=ax2)

for ax_ in (ax1,ax2):
    eis_hhflare_195_velmap_derot.draw_contours(levels=[-10,-5,5,10],
        colors=["#005CAF","#58B2DC","#F05E1C","#E83015"],axes=ax_,alpha=0.8)
    ax_.set_xlim([170,360])
    ax_.set_ylim([350,620])




fig = plt.figure(figsize=(10,5),constrained_layout=True)

ax1 = fig.add_subplot(121,projection=iris_MgII_k_lc_intmap_rotate_shift)
iris_MgII_k_lc_intmap_rotate_shift.plot(axes=ax1)

ax2 = fig.add_subplot(122,projection=iris_MgII_k_lc_velmap_rotate_shift)
iris_MgII_k_lc_velmap_rotate_shift.plot(axes=ax2)

plt.colorbar(im2,ax=ax2)

for ax_ in (ax1,ax2):
    bounds = ax_.axis()
    with propagate_with_solar_surface(rotation_model="rigid"):
        eis_hhflare_195_velmap_derot.draw_contours(levels=[-10,-5,5,10],
        colors=["#005CAF","#58B2DC","#F05E1C","#E83015"],axes=ax_,alpha=0.8)
    ax_.axis(bounds)
    # ax_.set_xlim([170,360])
    # ax_.set_ylim([350,620])




iris_CII_intmap = sunpy.map.Map("../../src/IRIS/20221024/2322/fit_res/CII_int_map_shifted.fits")
iris_CII_intmap.meta["rsun_ref"] = aia_1700_map_2322_crop.meta["rsun_ref"]
iris_CII_intmap_rotate = iris_CII_intmap.rotate()
iris_CII_intmap_rotate_shift = iris_CII_intmap_rotate.shift_reference_coord(Txshift_iris_aia_2322,Tyshift_iris_aia_2322)
with propagate_with_solar_surface(rotation_model="rigid"):
    iris_CII_intmap_rotate_shift_derot = iris_CII_intmap_rotate_shift.reproject_to(aia_1700_map_crop.wcs)
iris_CII_intmap_rotate_shift.plot_settings["cmap"] = "irissji1330"
iris_CII_intmap_rotate_shift.plot_settings["norm"] = ImageNormalize(vmin=0,vmax=1e4,stretch=AsinhStretch(0.1))
iris_CII_intmap_rotate_shift_derot.plot_settings["cmap"] = "irissji1330"
iris_CII_intmap_rotate_shift_derot.plot_settings["norm"] = ImageNormalize(vmin=0,vmax=1e4,stretch=AsinhStretch(0.1))


iris_CII_velmap = sunpy.map.Map("../../src/IRIS/20221024/2322/fit_res/CII_vel_map_shifted.fits")
iris_CII_velmap.meta["rsun_ref"] = aia_1700_map_2322_crop.meta["rsun_ref"]
iris_CII_velmap_rotate = iris_CII_velmap.rotate()
iris_CII_velmap_rotate_shift = iris_CII_velmap_rotate.shift_reference_coord(Txshift_iris_aia_2322,Tyshift_iris_aia_2322)
with propagate_with_solar_surface(rotation_model="rigid"):
    iris_CII_velmap_rotate_shift_derot = iris_CII_velmap_rotate_shift.reproject_to(aia_1700_map_crop.wcs)
iris_CII_velmap_rotate_shift.plot_settings["cmap"] = "RdBu_r"
iris_CII_velmap_rotate_shift.plot_settings["norm"] = ImageNormalize(vmin=-15,vmax=15)
iris_CII_velmap_rotate_shift_derot.plot_settings["cmap"] = "RdBu_r"
iris_CII_velmap_rotate_shift_derot.plot_settings["norm"] = ImageNormalize(vmin=-15,vmax=15)


fig = plt.figure(figsize=(10,5),constrained_layout=True)

ax1 = fig.add_subplot(121,projection=iris_CII_intmap_rotate_shift)
iris_CII_intmap_rotate_shift.plot(axes=ax1)

ax2 = fig.add_subplot(122,projection=iris_CII_velmap_rotate_shift)
iris_CII_velmap_rotate_shift.plot(axes=ax2)

plt.colorbar(im2,ax=ax2)

for ax_ in (ax1,ax2):
    bounds = ax_.axis()
    with propagate_with_solar_surface(rotation_model="rigid"):
        eis_hhflare_195_velmap_derot.draw_contours(levels=[-10,-5,5,10],
        colors=["#005CAF","#58B2DC","#F05E1C","#E83015"],axes=ax_,alpha=0.8)
    ax_.axis(bounds)
    # ax_.set_xlim([170,360])
    # ax_.set_ylim([350,620])




iris_1400_sji_1920_map_rotate = iris_1400_sji_1920_map.rotate()
iris_1400_sji_1920_map_rotate_crop = iris_1400_sji_1920_map_rotate.submap([15,40]*u.pix,top_right=[350,350]*u.pix)
iris_1400_sji_1920_map_rotate_crop.plot()


iris_1400_sji_1920_resample_nx = (iris_1400_sji_1920_map_rotate_crop.scale.axis1 * iris_1400_sji_1920_map_rotate_crop.dimensions.x).to(u.arcsec) / aia_1700_map_crop.scale.axis1
iris_1400_sji_1920_resample_ny = (iris_1400_sji_1920_map_rotate_crop.scale.axis2 * iris_1400_sji_1920_map_rotate_crop.dimensions.y).to(u.arcsec) / aia_1700_map_crop.scale.axis2
iris_1400_sji_1920_map_rotate_crop_resample = iris_1400_sji_1920_map_rotate_crop.resample(u.Quantity([iris_1400_sji_1920_resample_nx, iris_1400_sji_1920_resample_ny]))
Txshift_iris_aia_1920, Tyshift_iris_aia_1920 = coalign_shift(aia_1700_map_crop,iris_1400_sji_1920_map_rotate_crop_resample)
print(Txshift_iris_aia_1920, Tyshift_iris_aia_1920)


iris_1400_sji_1920_map_rotate_shift = iris_1400_sji_1920_map_rotate.shift_reference_coord(Txshift_iris_aia_1920,Tyshift_iris_aia_1920)
iris_1400_sji_1920_map_rotate_crop_shift = iris_1400_sji_1920_map_rotate_crop.shift_reference_coord(Txshift_iris_aia_1920,Tyshift_iris_aia_1920)


SunBlinker(iris_1400_sji_1920_map_rotate_crop_shift,aia_1700_map_crop,reproject=True)


fig = plt.figure(figsize=(5,5),constrained_layout=True)

ax = fig.add_subplot(111,projection=iris_1400_sji_1920_map_rotate_shift.wcs)
iris_1400_sji_1920_map_rotate_shift.plot(axes=ax)

bounds = ax.axis()
with propagate_with_solar_surface(rotation_model="rigid"):
    eis_hhflare_195_velmap_shift.draw_contours(levels=[-10,-5,5,10],
        colors=["#005CAF","#58B2DC","#F05E1C","#E83015"],axes=ax,alpha=0.8)
ax.axis(bounds)


iris_1400_sji_1920_map_rotate_shift.save("../../src/coalign_map/20221024/iris_1400_sji_1920_map_rotate_shift.fits",overwrite=True)


spice_NeVIII_intmap = sunpy.map.Map("../../src/SPICE/20221024/lvl3/NeVIII_int_deconv_plowman2023.fits")
spice_NeVIII_intmap.meta["rsun_ref"] = aia_1600_map.meta["rsun_ref"]
spice_NeVIII_intmap.plot_settings['cmap'] = "sdoaia171"
spice_NeVIII_intmap.plot_settings['norm'] = ImageNormalize(vmin=0,vmax=10,stretch=AsinhStretch(0.1))


spice_NeVIII_intmap.plot()


with propagate_with_solar_surface(rotation_model="rigid"):
    spice_NeVIII_intmap_derot = spice_NeVIII_intmap.reproject_to(fsi_174_crop_shift.wcs)


spice_NeVIII_intmap_derot.plot(aspect=fsi_174_crop_shift.scale.axis2/fsi_174_crop_shift.scale.axis1)


spice_NeVIII_intmap_derot_crop = spice_NeVIII_intmap_derot.submap([40,45]*u.pix,
                                                                  top_right=[210,185]*u.pix)
spice_NeVIII_intmap_derot_crop.plot(aspect=spice_NeVIII_intmap_derot_crop.scale.axis2/spice_NeVIII_intmap_derot_crop.scale.axis1)


spice_NeVIII_Txshift, spice_NeVIII_Tyshift = coalign_shift(fsi_174_crop_shift,spice_NeVIII_intmap_derot_crop)
print(spice_NeVIII_Txshift, spice_NeVIII_Tyshift)


spice_NeVIII_intmap_derot_shift = spice_NeVIII_intmap_derot.shift_reference_coord(spice_NeVIII_Txshift,spice_NeVIII_Tyshift)
spice_NeVIII_intmap_derot_shift_hrifov = spice_NeVIII_intmap_derot_shift.reproject_to(hri_174_map_shifted_toaia.wcs)


fig = plt.figure(figsize=(10,5),constrained_layout=True)

ax1 = fig.add_subplot(121,projection=spice_NeVIII_intmap_derot_shift_hrifov)
im1 = spice_NeVIII_intmap_derot_shift_hrifov.plot()
plt.colorbar(ax=ax1,shrink=0.75)
ax1.set_title("SPICE Ne VIII derotated and shifted to FSI")

ax2 = fig.add_subplot(122,projection=hri_174_map_shifted_toaia)
im2 = hri_174_map_shifted_toaia.plot()
plt.colorbar(ax=ax2,shrink=0.75)

spice_NeVIII_levels = [0.8,2]

for ax_ in (ax1,ax2):
    bounds = ax_.axis()
    spice_NeVIII_intmap_derot_shift_hrifov.draw_contours(spice_NeVIII_levels,colors=["b","r"], axes=ax_, alpha=0.4)
    ax_.axis(bounds)


spice_NeVIII_intmap_derot_shift_crop = spice_NeVIII_intmap_derot_shift.submap([36,44]*u.pix,
                                                                                            top_right=[211,189]*u.pix)
spice_NeVIII_intmap_derot_shift_crop.plot()


spice_NeVIII_velmap = sunpy.map.Map("../../src/SPICE/20221024/lvl3/NeVIII_vel_deconv_plowman2023.fits")
spice_NeVIII_velmap.meta["rsun_ref"] = aia_1600_map.meta["rsun_ref"]
spice_NeVIII_velmap.plot_settings['cmap'] = "RdBu_r"
spice_NeVIII_velmap.plot_settings['norm'] = ImageNormalize(vmin=-40,vmax=40)


spice_NeVIII_velmap.plot()
plt.colorbar(shrink=0.8)


with propagate_with_solar_surface(rotation_model="rigid"):
    spice_NeVIII_velmap_derot = spice_NeVIII_velmap.reproject_to(fsi_174_crop_shift.wcs)

spice_NeVIII_velmap_derot_shift = spice_NeVIII_velmap_derot.shift_reference_coord(spice_NeVIII_Txshift,spice_NeVIII_Tyshift)
spice_NeVIII_velmap_derot_shift_hrifov = spice_NeVIII_velmap_derot_shift.reproject_to(hri_174_map_shifted_toaia.wcs)


fig = plt.figure(figsize=(10,5),constrained_layout=True)

ax1 = fig.add_subplot(121,projection=spice_NeVIII_velmap_derot_shift_hrifov)
im1 = spice_NeVIII_velmap_derot_shift_hrifov.plot()
plt.colorbar(ax=ax1,shrink=0.75)
ax1.set_title("SPICE Ne VIII derotated and shifted to FSI")

ax2 = fig.add_subplot(122,projection=hri_174_map_shifted_toaia)
im2 = hri_174_map_shifted_toaia.plot()
plt.colorbar(ax=ax2,shrink=0.75)

spice_NeVIII_vel_levels = [-40]

for ax_ in (ax1,ax2):
    bounds = ax_.axis()
    spice_NeVIII_velmap_derot_shift_hrifov.draw_contours(spice_NeVIII_vel_levels,colors=["green"], axes=ax_, alpha=0.4)
    ax_.axis(bounds)


SunBlinker(spice_NeVIII_velmap_derot_shift_hrifov, hri_174_map_shifted_toaia)


SunBlinker(spice_NeVIII_velmap_derot_shift_hrifov, eis_195_velmap_derot_repro_hrifov)


fig = plt.figure(figsize=(10,5),constrained_layout=True)

ax1 = fig.add_subplot(121,projection=spice_NeVIII_velmap_derot_shift_hrifov)
im1 = spice_NeVIII_velmap_derot_shift_hrifov.plot()
plt.colorbar(ax=ax1,shrink=0.75)
ax1.set_title("SPICE Ne VIII derotated and shifted to FSI")

eis_195_velmap_derot_repro_hrifov.draw_contours(levels=[-10,-5],colors=["purple","green"],axes=ax1,alpha=0.8)

ax2 = fig.add_subplot(122,projection=hri_174_map_shifted_toaia)
im2 = ax2.imshow(eis_195_velmap_derot_repro_hrifov.data,vmin=-15,vmax=15,cmap=cmcm.vik,origin="lower")
clb = plt.colorbar(im2,ax=ax2,shrink=0.8)

for level_, color_ in zip([-10,-5,],["purple","green"]):
    clb.ax.axhline(level_,color=color_)

bounds = ax1.axis()
# hri_174_map_shifted_toaia.draw_quadrangle([400,300]*u.pix,top_right=[800,800]*u.pix, 
#                                     axes=ax1, color="w", lw=1.5)
# hri_174_map_shifted_toaia.draw_quadrangle([1500,0]*u.pix,top_right=[2029,800]*u.pix, 
#                                     axes=ax1, color="w", lw=1.5)
ax1.axis(bounds)
ax2.set_ylabel(" ")


spice_NeVIII_intmap_derot_shift.save("../../src/coalign_map/20221024/spice_NeVIII_intmap_derot_shift.fits",overwrite=True)
spice_NeVIII_velmap_derot_shift.save("../../src/coalign_map/20221024/spice_NeVIII_velmap_derot_shift.fits",overwrite=True)
spice_NeVIII_velmap_derot_shift_hrifov.save("../../src/coalign_map/20221024/spice_NeVIII_velmap_derot_shift_hrifov.fits",overwrite=True)


with fits.open("../../src/CHASE/20221024/lvl2/fits/RSM20221024T191230_0022_HA.fits") as hdul:
    hdul.info()
    chase_header = deepcopy(hdul[1].header)
    chase_halpha_core_data = hdul[1].data[70,:,:]
    chase_halpha_blue_wing_data = hdul[1].data[45,:,:]
    chase_SiI_core_data = hdul[1].data[3,:,:]
    average_halpha_profile = np.nanmean(hdul[1].data[:,:,:],axis=(1,2))


chase_header


chase_fits_header = sunpy.map.make_fitswcs_header(chase_halpha_core_data.shape,
                                                  SkyCoord(chase_header["CRVAL1"]*u.arcsec,chase_header["CRVAL2"]*u.arcsec,
                                                           obstime=chase_header["DATE_OBS"],observer="Earth",frame="helioprojective",
                                                           rsun=aia_1600_map.reference_coordinate.rsun),
                                                  reference_pixel=[chase_header["CRPIX1"]-1,chase_header["CRPIX2"]-1]*u.pix,
                                                  scale=u.Quantity([chase_header["CDELT1"],chase_header["CDELT2"]],u.arcsec/u.pix),
                                                  rotation_angle=-chase_header["INST_ROT"]*u.deg,
                                                  telescope="CHASE",instrument="RSM")


chase_wavelength = (np.arange(chase_header["NAXIS3"]) + 1 - (chase_header["CRPIX3"] + 1))*chase_header["CDELT3"] + chase_header["CRVAL3"]
# it seems that the crpix3 is 0, which is not consistent with the FITS index starting from 1
# so I will add 1 to the crpix3


plt.plot(chase_wavelength,average_halpha_profile)
plt.axvline(chase_wavelength[3],color="r")
plt.axvline(chase_wavelength[70],color="r")


chase_halpha_core_map = sunpy.map.Map(np.nan_to_num(chase_halpha_core_data,nan=0).astype(np.float32),chase_fits_header)
chase_halpha_core_map = chase_halpha_core_map.submap([100,100]*u.pix,top_right=[2200,2200]*u.pix)
chase_halpha_core_map.plot_settings['cmap'] = "afmhot"
chase_halpha_core_map.plot()
chase_halpha_core_map.draw_limb()



chase_halpha_core_map_crop = chase_halpha_core_map.submap(SkyCoord(-600*u.arcsec,-100*u.arcsec,frame=chase_halpha_core_map.coordinate_frame),
                                                                top_right=SkyCoord(-100*u.arcsec,600*u.arcsec,frame=chase_halpha_core_map.coordinate_frame))
chase_halpha_core_map_crop.plot()


chase_halpha_core_map_align = chase_halpha_core_map_crop.submap(SkyCoord(-550*u.arcsec,100*u.arcsec,frame=chase_halpha_core_map_crop.coordinate_frame),
                                                                top_right=SkyCoord(-250*u.arcsec,400*u.arcsec,frame=chase_halpha_core_map_crop.coordinate_frame))
chase_halpha_core_map_align.plot()


fig = plt.figure(figsize=(10,5),constrained_layout=True)

ax1 = fig.add_subplot(121,projection=chase_halpha_core_map_align)
im1 = chase_halpha_core_map_align.plot()

ax2 = fig.add_subplot(122,projection=aia_1600_map_crop)
im2 = aia_1600_map_crop.plot()
plt.colorbar(im2,ax=ax2,shrink=0.8)

for ax_ in (ax1,ax2):
    bounds = ax_.axis()
    with propagate_with_solar_surface(rotation_model="rigid"):
        aia_1600_map_crop.draw_contours(levels=[120]*aia_1600_map_crop.unit,colors=["r"],axes=ax_,alpha=0.8)
    ax_.axis(bounds)


with propagate_with_solar_surface(rotation_model="rigid"):
    aia_1600_map_crop_resample = aia_1600_map.reproject_to(chase_halpha_core_map_crop.wcs)
Txshift_chase_aia, Tyshift_chase_aia = coalign_shift(aia_1600_map_crop_resample,chase_halpha_core_map_align)
print(Txshift_chase_aia, Tyshift_chase_aia)


chase_halpha_core_map_align_shift = chase_halpha_core_map_align.shift_reference_coord(Txshift_chase_aia,Tyshift_chase_aia)
with propagate_with_solar_surface(rotation_model="rigid"):
    aia_1600_map_crop_chase_halpha_fov = aia_1600_map_crop.reproject_to(chase_halpha_core_map_align_shift.wcs)
chase_halpha_core_map_crop_shift = chase_halpha_core_map_crop.shift_reference_coord(Txshift_chase_aia,Tyshift_chase_aia)


fig = plt.figure(figsize=(10,5),constrained_layout=True)

ax1 = fig.add_subplot(121,projection=chase_halpha_core_map_align_shift)
im1 = chase_halpha_core_map_align_shift.plot()

ax2 = fig.add_subplot(122,projection=aia_1600_map_crop)
im2 = aia_1600_map_crop.plot()
plt.colorbar(im2,ax=ax2,shrink=0.8)

for ax_ in (ax1,ax2):
    bounds = ax_.axis()
    with propagate_with_solar_surface(rotation_model="rigid"):
        aia_1600_map_crop.draw_contours(levels=[100]*aia_1600_map_crop.unit,colors=["b"],axes=ax_,alpha=0.6)
    ax_.axis(bounds)

plt.savefig(fname="../../figs/test_figs/chase_alpha_aia_1600.png",dpi=300)


SunBlinker(aia_1600_map_crop_chase_halpha_fov, chase_halpha_core_map_align_shift)


chase_halpha_line_width_map = sunpy.map.Map("../../src/CHASE/20221024/RSM20221024T191230_0022_HA_linewidth.fits")
chase_halpha_line_width_map.meta["rsun_ref"] = aia_1600_map.meta["rsun_ref"]
chase_halpha_line_width_map.plot_settings['cmap'] = "plasma"
chase_halpha_line_width_map.plot_settings['norm'] = ImageNormalize(vmin=0.9,vmax=1.35)


chase_halpha_line_width_map_crop = chase_halpha_line_width_map.submap(SkyCoord(-600*u.arcsec,-100*u.arcsec,frame=chase_halpha_line_width_map.coordinate_frame),
                                                                top_right=SkyCoord(-100*u.arcsec,600*u.arcsec,frame=chase_halpha_line_width_map.coordinate_frame))
chase_halpha_line_width_map_crop_shift = chase_halpha_line_width_map_crop.shift_reference_coord(Txshift_chase_aia,Tyshift_chase_aia)
chase_halpha_line_width_map_align = chase_halpha_line_width_map.submap(SkyCoord(-550*u.arcsec,100*u.arcsec,frame=chase_halpha_line_width_map.coordinate_frame),
                                                                top_right=SkyCoord(-250*u.arcsec,400*u.arcsec,frame=chase_halpha_line_width_map.coordinate_frame))
chase_halpha_line_width_map_align_shift = chase_halpha_line_width_map_align.shift_reference_coord(Txshift_chase_aia,Tyshift_chase_aia)
                                                                                 


fig = plt.figure(figsize=(12,5),constrained_layout=True)

ax1 = fig.add_subplot(121,projection=chase_halpha_core_map_align_shift)
im1 = chase_halpha_core_map_align_shift.plot()
clb1 = plt.colorbar(im1,ax=ax1,shrink=1)

ax2 = fig.add_subplot(122,projection=chase_halpha_line_width_map_align_shift)
im2 = chase_halpha_line_width_map_align_shift.plot()
clb2 = plt.colorbar(im2,ax=ax2,shrink=1)
clb2.set_label(r"H$\alpha$ Line width (Å)")

for ax_ in (ax1,ax2):
    bounds = ax_.axis()
    with propagate_with_solar_surface(rotation_model="rigid"):
        eis_195_velmap_derot.draw_contours(levels=[-10,-5,5,10],colors=["#005CAF","#58B2DC","#F05E1C","#E83015"],axes=ax_,alpha=0.8)
    ax_.axis(bounds)

plt.savefig("../../figs/test_figs/chase_halpha_core_line_width.png",dpi=300,bbox_inches="tight")


chase_halpha_core_map_align_shift.save("../../src/coalign_map/20221024/chase_halpha_core_map_align_shift.fits",overwrite=True)
chase_halpha_line_width_map_align_shift.save("../../src/coalign_map/20221024/chase_halpha_line_width_map_align_shift.fits",overwrite=True)


chase_halpha_cutout_idlsav = readsav("../../src/CHASE/20221024/lvl2/idlsave/cutout0022.sav",verbose=True)


chase_halpha_cutout_idlsav["sub0"]


chase_cutout_fits_header = sunpy.map.make_fitswcs_header(chase_halpha_cutout_idlsav["sub0"][0][0],
                                                  SkyCoord(chase_halpha_cutout_idlsav["sub0"][0][1]*u.arcsec,chase_halpha_cutout_idlsav["sub0"][0][2]*u.arcsec,
                                                           obstime=datetime.strptime(chase_halpha_cutout_idlsav["sub0"][0][5].decode('UTF-8'),"%d-%b-%Y %H:%M:%S.%f"),
                                                           observer="Earth",frame="helioprojective",
                                                           rsun=aia_1600_map.reference_coordinate.rsun),
                                                  scale=u.Quantity([chase_halpha_cutout_idlsav["sub0"][0][3],chase_halpha_cutout_idlsav["sub0"][0][4]],u.arcsec/u.pix),
                                                  rotation_angle=0*u.deg,
                                                  telescope="CHASE",instrument="RSM")


chase_halpha_cutout_map = sunpy.map.Map(chase_halpha_cutout_idlsav["sub0"][0][0], chase_cutout_fits_header)
chase_halpha_cutout_map.plot_settings['cmap'] = "afmhot"


chase_halpha_cutout_map.plot()


chase_halpha_cutout_map_align = chase_halpha_cutout_map.submap(SkyCoord(-550*u.arcsec,100*u.arcsec,frame=chase_halpha_cutout_map.coordinate_frame),
                                                                top_right=SkyCoord(-250*u.arcsec,400*u.arcsec,frame= chase_halpha_cutout_map.coordinate_frame))



fig = plt.figure(figsize=(10,5),constrained_layout=True)

ax1 = fig.add_subplot(121,projection=chase_halpha_cutout_map_align)
im1 = chase_halpha_cutout_map_align.plot()

ax2 = fig.add_subplot(122,projection=aia_1600_map_crop)
im2 = aia_1600_map_crop.plot()
plt.colorbar(im2,ax=ax2,shrink=0.8)

for ax_ in (ax1,ax2):
    bounds = ax_.axis()
    with propagate_with_solar_surface(rotation_model="rigid"):
        aia_1600_map_crop.draw_contours(levels=[120]*aia_1600_map_crop.unit,colors=["r"],axes=ax_,alpha=0.8)
    ax_.axis(bounds)


chase_halpha_cutout_map_align_shift = chase_halpha_cutout_map_align.shift_reference_coord(Txshift_chase_aia,Tyshift_chase_aia)


chase_halpha_core_map.world_to_pixel(chase_halpha_cutout_map.bottom_left_coord)


fig = plt.figure(figsize=(10,5),constrained_layout=True)

ax1 = fig.add_subplot(121,projection=chase_halpha_cutout_map_align_shift)
im1 = chase_halpha_cutout_map_align_shift.plot()

ax2 = fig.add_subplot(122,projection=aia_1600_map_crop)
im2 = aia_1600_map_crop.plot()
plt.colorbar(im2,ax=ax2,shrink=0.8)

for ax_ in (ax1,ax2):
    bounds = ax_.axis()
    with propagate_with_solar_surface(rotation_model="rigid"):
        aia_1600_map_crop.draw_contours(levels=[100]*aia_1600_map_crop.unit,colors=["b"],axes=ax_,alpha=0.6)
    ax_.axis(bounds)

plt.savefig(fname="../../figs/test_figs/chase_alpha_cutout_aia_1600.png",dpi=300)


fig = plt.figure(figsize=(12,5),constrained_layout=True)

ax1 = fig.add_subplot(121,projection=chase_halpha_core_map_align_shift)
im1 = chase_halpha_core_map_align_shift.plot()
clb1 = plt.colorbar(im1,ax=ax1,shrink=1)

ax2 = fig.add_subplot(122,projection=chase_halpha_line_width_map_align_shift)
im2 = chase_halpha_line_width_map_align_shift.plot()
clb2 = plt.colorbar(im2,ax=ax2,shrink=1)
clb2.set_label(r"H$\alpha$ Line width (Å)")

for ax_ in (ax1,ax2):
    bounds = ax_.axis()
    spice_NeVIII_velmap_derot_shift_hrifov.draw_contours(levels=[-40],colors=["green"],axes=ax_,alpha=0.8)
    ax_.axis(bounds)


dkist_fitv_tom = np.load('../../src/DKIST/BKEWK/inverted/bkewk_fitv_repeats_v3.npy')

# rewrap the azimuths of the fits from Tom Schad
fitv_wrap = np.copy(dkist_fitv_tom)
azit = np.copy(fitv_wrap[2,:,:])
azit[(azit > 179)] = azit[(azit > 179)] - 180
azit[(azit < 0)] = 180 + azit[(azit < 0)]
fitv_wrap[2,:,:] = azit
dkist_fitv_tom = fitv_wrap



dkist_fitv_tom_btot = dkist_fitv_tom[0,:,:]
dkist_fitv_tom_theta = dkist_fitv_tom[1,:,:]
dkist_fitv_tom_azimuth = dkist_fitv_tom[2,:,:]
dkist_fitv_tom_cont_int = dkist_fitv_tom[9,:,:]
dkist_fitv_tom_DoppVel = (dkist_fitv_tom[3,:,:]) - (dkist_fitv_tom[11,:,:] - 6302.003953369682 ) / 6302.003953369682*3e5
dkist_fitv_tom_DoppVel = dkist_fitv_tom_DoppVel - np.median(dkist_fitv_tom_DoppVel)



extent_visp_tom = [-422.5, -385.65654869, 165, 241.139]


plt.imshow(dkist_fitv_tom_btot.T,origin="lower",cmap="grey",extent=extent_visp_tom)


dkist_fitv_tom_btot.shape


dkist_visp_wcs_tom = sunpy.map.make_fitswcs_header(dkist_fitv_tom_btot.T.shape,
                                                    SkyCoord(np.mean(extent_visp_tom[:2])*u.arcsec,
                                                             np.mean(extent_visp_tom[2:])*u.arcsec,
                                                             frame="helioprojective",obstime="2022-10-24T19:15:36",observer="Earth",
                                                             rsun=aia_1600_map.reference_coordinate.rsun),
                                                    scale=[np.diff(extent_visp_tom[:2])[0]/dkist_fitv_tom_btot.shape[0],
                                                           np.diff(extent_visp_tom[2:])[0]/dkist_fitv_tom_btot.shape[1]]*u.arcsec/u.pix,
                                                           telescope="DKIST",instrument="ViSP")

dkist_fitv_tom_btot_map = sunpy.map.Map(dkist_fitv_tom_btot.T,WCS(dkist_visp_wcs_tom))
dkist_fitv_tom_cont_int_map = sunpy.map.Map(dkist_fitv_tom_cont_int.T,WCS(dkist_visp_wcs_tom))

dkist_fitv_tom_btot_map.plot_settings['aspect'] = dkist_fitv_tom_btot_map.scale.axis2/dkist_fitv_tom_btot_map.scale.axis1
dkist_fitv_tom_cont_int_map.plot_settings['aspect'] = dkist_fitv_tom_cont_int_map.scale.axis2/dkist_fitv_tom_cont_int_map.scale.axis1
dkist_fitv_tom_btot_map.scale.axis2.to(u.arcsec/u.pix)


fig = plt.figure(figsize=(8,5),constrained_layout=True)

ax1 = plt.subplot(121,projection=dkist_fitv_tom_btot_map)
im1 = dkist_fitv_tom_btot_map.plot()
plt.colorbar(im1,shrink=1)

ax2 = plt.subplot(122,projection=dkist_fitv_tom_cont_int_map)
im2 = dkist_fitv_tom_cont_int_map.plot()
plt.colorbar(im2,shrink=1)


visp_resample_nx = (dkist_fitv_tom_btot_map.scale.axis1 * dkist_fitv_tom_btot_map.dimensions.x).to(u.arcsec) / aia_1600_map_crop_resample.scale.axis1.to(u.arcsec/u.pix)
visp_resample_ny = (dkist_fitv_tom_btot_map.scale.axis2 * dkist_fitv_tom_btot_map.dimensions.y).to(u.arcsec) / aia_1600_map_crop_resample.scale.axis2.to(u.arcsec/u.pix)
dkist_fitv_tom_btot_map_resample = dkist_fitv_tom_btot_map.resample(u.Quantity([visp_resample_nx, visp_resample_ny]))

Txshift_visp_aia, Tyshift_visp_aia = coalign_shift(aia_1600_map_crop_resample,dkist_fitv_tom_btot_map_resample)
print(Txshift_visp_aia, Tyshift_visp_aia)


dkist_fitv_tom_btot_map_shift = dkist_fitv_tom_btot_map.shift_reference_coord(Txshift_visp_aia,Tyshift_visp_aia)
dkist_fitv_tom_cont_int_map_shift = dkist_fitv_tom_cont_int_map.shift_reference_coord(Txshift_visp_aia,Tyshift_visp_aia)


aia_1600_crop_to_visp = aia_1600_map_crop.submap(dkist_fitv_tom_btot_map_shift.bottom_left_coord,
                                                 top_right=dkist_fitv_tom_btot_map_shift.top_right_coord)

aia_193_crop_to_visp = aia_193_map_crop.submap(dkist_fitv_tom_btot_map_shift.bottom_left_coord,
                                                    top_right=dkist_fitv_tom_btot_map_shift.top_right_coord)

aia_171_crop_to_visp = aia_171_map_crop.submap(dkist_fitv_tom_btot_map_shift.bottom_left_coord,
                                                    top_right=dkist_fitv_tom_btot_map_shift.top_right_coord)


fig = plt.figure(figsize=(8,5),constrained_layout=True)

ax1 = plt.subplot(121,projection=dkist_fitv_tom_btot_map_shift)
im1 = dkist_fitv_tom_btot_map_shift.plot()

ax2 = plt.subplot(122,projection=aia_1600_crop_to_visp)
im2 = aia_1600_crop_to_visp.plot()

for ax_ in (ax1,ax2):
    bounds = ax_.axis()
    aia_1600_crop_to_visp.draw_contours(levels=[120]*aia_1600_crop_to_visp.unit,colors=["r"],axes=ax_,alpha=0.8)
    ax_.axis(bounds)


fig = plt.figure(figsize=(8,5),constrained_layout=True)

ax1 = plt.subplot(121,projection=dkist_fitv_tom_btot_map_shift)
im1 = dkist_fitv_tom_btot_map_shift.plot()

ax2 = plt.subplot(122,projection=aia_193_crop_to_visp)
im2 = aia_193_crop_to_visp.plot()

for ax_ in (ax1,ax2):
    bounds = ax_.axis()
    eis_hhflare_195_velmap_derot.draw_contours([-10,-5],colors=["purple","green"], axes=ax_, alpha=0.5)
    ax_.axis(bounds)


dkist_fitv_tom_theta_map_shifted = sunpy.map.Map(dkist_fitv_tom_theta.T,WCS(dkist_visp_wcs_tom)).shift_reference_coord(Txshift_visp_aia,Tyshift_visp_aia)
dkist_fitv_tom_azimuth_map_shifted = sunpy.map.Map(dkist_fitv_tom_azimuth.T,WCS(dkist_visp_wcs_tom)).shift_reference_coord(Txshift_visp_aia,Tyshift_visp_aia)
dkist_fitv_tom_DoppVel_map_shifted = sunpy.map.Map(dkist_fitv_tom_DoppVel.T,WCS(dkist_visp_wcs_tom)).shift_reference_coord(Txshift_visp_aia,Tyshift_visp_aia)


dkist_fitv_tom_btot_map_shift.plot_settings['cmap'] = "plasma"
dkist_fitv_tom_btot_map_shift.plot_settings['norm'] = ImageNormalize(vmin=0,vmax=2e3,stretch=PowerStretch(0.5))
dkist_fitv_tom_theta_map_shifted.plot_settings['cmap'] = "twilight_shifted"
dkist_fitv_tom_theta_map_shifted.plot_settings['norm'] = ImageNormalize(vmin=0,vmax=180,stretch=PowerStretch(0.9))
dkist_fitv_tom_theta_map_shifted.plot_settings['aspect'] = dkist_fitv_tom_theta_map_shifted.scale.axis2/dkist_fitv_tom_theta_map_shifted.scale.axis1
dkist_fitv_tom_azimuth_map_shifted.plot_settings['cmap'] = "twilight"
dkist_fitv_tom_azimuth_map_shifted.plot_settings['norm'] = ImageNormalize(vmin=0,vmax=180,stretch=LinearStretch())
dkist_fitv_tom_azimuth_map_shifted.plot_settings['aspect'] = dkist_fitv_tom_azimuth_map_shifted.scale.axis2/dkist_fitv_tom_azimuth_map_shifted.scale.axis1
dkist_fitv_tom_DoppVel_map_shifted.plot_settings['cmap'] = "RdBu"
dkist_fitv_tom_DoppVel_map_shifted.plot_settings['norm'] = ImageNormalize(vmin=-2.5,vmax=2.5,stretch=LinearStretch())
dkist_fitv_tom_DoppVel_map_shifted.plot_settings['aspect'] = dkist_fitv_tom_DoppVel_map_shifted.scale.axis2/dkist_fitv_tom_DoppVel_map_shifted.scale.axis1
dkist_fitv_tom_cont_int_map_shift.plot_settings["cmap"] = "irissji2796"
dkist_fitv_tom_cont_int_map_shift.plot_settings['norm'] = ImageNormalize(vmin=0.6,vmax=1.05,stretch=LinearStretch())


fig = plt.figure(figsize=(11.5,5),constrained_layout=True)

ax1 = plt.subplot(141,projection=dkist_fitv_tom_btot_map_shift)
im1 = dkist_fitv_tom_btot_map_shift.plot()
clb1, clb_ax1 = plot_colorbar(im1,ax1,width="100%",height="8%",fontsize=12,
              bbox_to_anchor=(0,1.02,1,0.3),
              orientation="horizontal")

clb_ax1.tick_params(top=True,labeltop=True,labelbottom=False,bottom=False,labelsize=12)
clb_ax1.set_xticks([0,500,2000])

ax1.set_title(r"$B_{\rm tot}$ [G]",fontsize=12,pad=40)

ax2 = plt.subplot(142,projection=dkist_fitv_tom_theta_map_shifted)
im2 = dkist_fitv_tom_theta_map_shifted.plot()
clb2, clb_ax2 = plot_colorbar(im2,ax2,width="100%",height="8%",fontsize=12,
              bbox_to_anchor=(0,1.02,1,0.3),
              orientation="horizontal")
clb_ax2.tick_params(top=True,labeltop=True,labelbottom=False,bottom=False,labelsize=12)
clb_ax2.set_xticks([0,90,180])
ax2.set_title(r"$\theta_{\rm inc}$ [deg]",fontsize=12,pad=40)

ax3 = plt.subplot(143,projection=dkist_fitv_tom_azimuth_map_shifted)
im3 = dkist_fitv_tom_azimuth_map_shifted.plot()
clb3, clb_ax3 = plot_colorbar(im3,ax3,width="100%",height="8%",fontsize=12,
              bbox_to_anchor=(0,1.02,1,0.3),
              orientation="horizontal")
clb_ax3.tick_params(top=True,labeltop=True,labelbottom=False,bottom=False,labelsize=12)
clb_ax3.set_xticks([0,90,180])
ax3.set_title(r"$\phi_{\rm azi}$ [deg]",fontsize=12,pad=40)

ax4 = plt.subplot(144,projection=dkist_fitv_tom_DoppVel_map_shifted)
im4 = dkist_fitv_tom_DoppVel_map_shifted.plot()
clb4, clb_ax4 = plot_colorbar(im4,ax4,width="100%",height="8%",fontsize=12,
              bbox_to_anchor=(0,1.02,1,0.3),
              orientation="horizontal")
clb_ax4.tick_params(top=True,labeltop=True,labelbottom=False,bottom=False,labelsize=12)
clb_ax4.set_xticks([-2.5,0,2.5])
ax4.set_title(r"$v_{\rm LOS}$ [km/s]",fontsize=12,pad=40)

for ax_ in (ax2,ax3,ax4):
    ax_.set_ylabel(' ')

for ax_ in (ax1,ax2,ax3,ax4):
    bounds = ax_.axis()
    eis_hhflare_195_velmap_derot.draw_contours([-10,-5],colors=["purple","green"], axes=ax_, alpha=0.5)
    ax_.axis(bounds)



with h5py.File("../../src/DKIST/BKEWK/inverted/maxp_mask.h5","r") as file:
    visp_maxp = file["maxp"][:] 
visp_maxp_mask = visp_maxp < 0.005


dkist_fitv_tom_azimuth_map_shifted_masked = sunpy.map.Map(dkist_fitv_tom_azimuth_map_shifted.data,dkist_fitv_tom_azimuth_map_shifted.meta,
                                                          mask=visp_maxp_mask.T)
dkist_fitv_tom_azimuth_map_shifted_masked.plot_settings['cmap'] = "twilight"
dkist_fitv_tom_azimuth_map_shifted_masked.plot_settings['norm'] = ImageNormalize(vmin=0,vmax=180,stretch=LinearStretch())
dkist_fitv_tom_azimuth_map_shifted_masked.plot_settings['aspect'] = dkist_fitv_tom_azimuth_map_shifted_masked.scale.axis2/dkist_fitv_tom_azimuth_map_shifted_masked.scale.axis1

dkist_ftiv_tom_theta_map_shifted_masked = sunpy.map.Map(dkist_fitv_tom_theta_map_shifted.data,dkist_fitv_tom_theta_map_shifted.meta,
                                                         mask=visp_maxp_mask.T)
dkist_ftiv_tom_theta_map_shifted_masked.plot_settings['cmap'] = "twilight_shifted"
dkist_ftiv_tom_theta_map_shifted_masked.plot_settings['norm'] = ImageNormalize(vmin=0,vmax=180)
dkist_ftiv_tom_theta_map_shifted_masked.plot_settings['aspect'] = dkist_ftiv_tom_theta_map_shifted_masked.scale.axis2/dkist_ftiv_tom_theta_map_shifted_masked.scale.axis1


dkist_cont_int_map_shift_crop_0 = dkist_fitv_tom_cont_int_map_shift.submap(SkyCoord(-400*u.arcsec,230*u.arcsec,
                                                                                    frame=dkist_fitv_tom_cont_int_map_shift.coordinate_frame),
                                                                          top_right=dkist_fitv_tom_cont_int_map_shift.top_right_coord)
dkist_btot_map_shift_crop_0 = dkist_fitv_tom_btot_map_shift.submap(SkyCoord(-400*u.arcsec,230*u.arcsec,
                                                                                    frame=dkist_fitv_tom_btot_map_shift.coordinate_frame),
                                                                          top_right=dkist_fitv_tom_btot_map_shift.top_right_coord)
dkist_azimuth_map_shift_crop_0 = dkist_fitv_tom_azimuth_map_shifted_masked.submap(SkyCoord(-400*u.arcsec,230*u.arcsec,
                                                                                    frame=dkist_fitv_tom_azimuth_map_shifted_masked.coordinate_frame),
                                                                            top_right=dkist_fitv_tom_azimuth_map_shifted_masked.top_right_coord)
dkist_theta_map_shift_crop_0 = dkist_ftiv_tom_theta_map_shifted_masked.submap(SkyCoord(-400*u.arcsec,230*u.arcsec,
                                                                                    frame=dkist_ftiv_tom_theta_map_shifted_masked.coordinate_frame),
                                                                            top_right=dkist_ftiv_tom_theta_map_shifted_masked.top_right_coord)
dkist_DoppVel_map_shift_crop_0 = dkist_fitv_tom_DoppVel_map_shifted.submap(SkyCoord(-400*u.arcsec,230*u.arcsec,
                                                                                    frame=dkist_fitv_tom_DoppVel_map_shifted.coordinate_frame),
                                                                            top_right=dkist_fitv_tom_DoppVel_map_shifted.top_right_coord)


fig = plt.figure(figsize=(13,7),constrained_layout=True)

ax1 = plt.subplot(151,projection=dkist_fitv_tom_cont_int_map_shift)
im1 = dkist_fitv_tom_cont_int_map_shift.plot()
clb1, clb_ax1 = plot_colorbar(im1,ax1,width="100%",height="8%",fontsize=12,
              bbox_to_anchor=(0,1.02,1,0.3),
              orientation="horizontal")
clb_ax1.tick_params(top=True,labeltop=True,labelbottom=False,bottom=False,labelsize=12)
clb_ax1.set_xticks([0.6,0.8,1])
ax1.set_title(r"$I_{\rm cont}$",fontsize=12,pad=40)

ax2 = plt.subplot(152,projection=dkist_fitv_tom_btot_map_shift)
im2 = dkist_fitv_tom_btot_map_shift.plot()
clb2, clb_ax2 = plot_colorbar(im2,ax2,width="100%",height="8%",fontsize=12,
              bbox_to_anchor=(0,1.02,1,0.3),
              orientation="horizontal")
clb_ax2.tick_params(top=True,labeltop=True,labelbottom=False,bottom=False,labelsize=12)
clb_ax2.set_xticks([0,500,2000])
ax2.set_title(r"$B_{\rm tot}$ [G]",fontsize=12,pad=40)

ax3 = plt.subplot(153,projection=dkist_ftiv_tom_theta_map_shifted_masked)
im3 = dkist_ftiv_tom_theta_map_shifted_masked.plot()
clb3, clb_ax3 = plot_colorbar(im3,ax3,width="100%",height="8%",fontsize=12,
              bbox_to_anchor=(0,1.02,1,0.3),
              orientation="horizontal")
clb_ax3.tick_params(top=True,labeltop=True,labelbottom=False,bottom=False,labelsize=12)
clb_ax3.set_xticks([0,90,180])
ax3.set_title(r"$\theta_{\rm inc}$ [deg]",fontsize=12,pad=40)

ax4 = plt.subplot(154,projection=dkist_fitv_tom_azimuth_map_shifted_masked)
im4 = dkist_fitv_tom_azimuth_map_shifted_masked.plot()
clb4, clb_ax4 = plot_colorbar(im4,ax4,width="100%",height="8%",fontsize=12,
              bbox_to_anchor=(0,1.02,1,0.3),
              orientation="horizontal")
clb_ax4.tick_params(top=True,labeltop=True,labelbottom=False,bottom=False,labelsize=12)
clb_ax4.set_xticks([0,90,180])
ax4.set_title(r"$\phi_{\rm azi}$ [deg]",fontsize=12,pad=40)

ax5 = plt.subplot(155,projection=dkist_fitv_tom_DoppVel_map_shifted)
im5 = dkist_fitv_tom_DoppVel_map_shifted.plot()
clb5, clb_ax5 = plot_colorbar(im5,ax5,width="100%",height="8%",fontsize=12,
              bbox_to_anchor=(0,1.02,1,0.3),
              orientation="horizontal")
clb_ax5.tick_params(top=True,labeltop=True,labelbottom=False,bottom=False,labelsize=12)
clb_ax5.set_xticks([-2.5,0,2.5])
ax5.set_title(r"$v_{\rm LOS}$",fontsize=12,pad=40)

for ax_ in (ax2,ax3,ax4,ax5):
    ax_.set_ylabel(' ')
ax1.set_ylabel(r'Solar-Y [arcsec]',fontsize=12)

for ax_ in (ax1,ax2,ax3,ax4,ax5):
    dkist_cont_int_map_shift_crop_0.draw_quadrangle(dkist_cont_int_map_shift_crop_0.bottom_left_coord,
        top_right=dkist_cont_int_map_shift_crop_0.top_right_coord,label='ViSP crop',
        edgecolor="white",lw=1,alpha=1,axes=ax_,ls="--")
    
    bounds = ax_.axis()
    eis_hhflare_195_velmap_derot.draw_contours([-10,-5],colors=["purple","green"], axes=ax_, alpha=0.5)
    ax_.axis(bounds)
    ax_.set_xlabel(r'Solar-X [arcsec]',fontsize=12)


dkist_fitv_tom_cont_int_map_shift.save("../../src/coalign_map/20221024/dkist_fitv_tom_cont_int_map_shift.fits",overwrite=True)
dkist_fitv_tom_btot_map_shift.save("../../src/coalign_map/20221024/dkist_fitv_tom_btot_map_shift.fits",overwrite=True)
dkist_ftiv_tom_theta_map_shifted_masked.save("../../src/coalign_map/20221024/dkist_fitv_tom_theta_map_shifted_masked.fits",overwrite=True)
dkist_fitv_tom_azimuth_map_shifted_masked.save("../../src/coalign_map/20221024/dkist_fitv_tom_azimuth_map_shifted_masked.fits",overwrite=True)
dkist_fitv_tom_DoppVel_map_shifted.save("../../src/coalign_map/20221024/dkist_fitv_tom_DoppVel_map_shifted.fits",overwrite=True)


fig = plt.figure(figsize=(13,4),constrained_layout=True)

ax1 = plt.subplot(151,projection=dkist_cont_int_map_shift_crop_0)
im1 = dkist_cont_int_map_shift_crop_0.plot()

ax2 = plt.subplot(152,projection=dkist_btot_map_shift_crop_0)
im2 = dkist_btot_map_shift_crop_0.plot()

ax3 = plt.subplot(153,projection=dkist_theta_map_shift_crop_0)
im3 = dkist_theta_map_shift_crop_0.plot()

ax4 = plt.subplot(154,projection=dkist_azimuth_map_shift_crop_0)
im4 = dkist_azimuth_map_shift_crop_0.plot()

ax5 = plt.subplot(155,projection=dkist_DoppVel_map_shift_crop_0)
im5 = dkist_DoppVel_map_shift_crop_0.plot()

for ax_ in (ax2,ax3,ax4,ax5):
    ax_.set_ylabel(' ')
ax1.set_ylabel(r'Solar-Y [arcsec]',fontsize=12)

for ax_ in (ax1,ax2,ax3,ax4,ax5):
    bounds = ax_.axis()
    eis_hhflare_195_velmap_derot.draw_contours([-10,-5],colors=["purple","green"], axes=ax_, alpha=0.5)
    ax_.axis(bounds)
    ax_.set_xlabel(r'Solar-X [arcsec]',fontsize=12)


vec_sun_dkist = dkist_fitv_tom_cont_int_map_shift.center.transform_to(HeliocentricEarthEcliptic(obstime=dkist_fitv_tom_cont_int_map_shift.date)).cartesian.xyz.to(u.R_sun).value


vec_sun_earth = dkist_fitv_tom_cont_int_map_shift.observer_coordinate.cartesian.xyz.to(u.R_sun).value


vec_dkist_earth = vec_sun_earth - vec_sun_dkist


dkist_mu = np.dot(vec_sun_dkist,vec_dkist_earth) / (np.linalg.norm(vec_sun_dkist) * np.linalg.norm(vec_dkist_earth))
dkist_mu


fig = plt.figure(figsize=(5,5),constrained_layout=True)

ax = fig.add_subplot(111,projection=hri_174_map_shifted_toaia)
im = hri_174_map_shifted_toaia.plot()

bounds = ax.axis()
dkist_fitv_tom_btot_map_shift.draw_quadrangle(dkist_fitv_tom_btot_map_shift.bottom_left_coord,
                                              top_right=dkist_fitv_tom_btot_map_shift.top_right_coord,label='ViSP crop',
        edgecolor="white",lw=1,alpha=1,axes=ax,ls="--")
ax.axis(bounds)




dkist_fitv_tom_btot_map_shift.data.shape


dkist_repro_wcs = sunpy.map.make_fitswcs_header([2800,1100],
                                                dkist_fitv_tom_btot_map_shift.center.transform_to(hri_174_map_shifted_toaia.coordinate_frame),
                                                scale=u.Quantity(dkist_fitv_tom_btot_map_shift.scale)* \
                                                dkist_fitv_tom_btot_map_shift.observer_coordinate.radius/hri_174_map_shifted_toaia.observer_coordinate.radius,
                                                telescope="DKIST",instrument="ViSP")


dkist_fitv_tom_btot_map_shift_repro = dkist_fitv_tom_btot_map_shift.reproject_to(WCS(dkist_repro_wcs))


hri_174_map_crop_to_visp = hri_174_map_shifted_toaia.rotate().submap(dkist_fitv_tom_btot_map_shift_repro.bottom_left_coord,
                                                            top_right=dkist_fitv_tom_btot_map_shift_repro.top_right_coord)
hri_174_map_repro_to_visp = hri_174_map_crop_to_visp.reproject_to(dkist_fitv_tom_btot_map_shift_repro.wcs)


fig = plt.figure(figsize=(9,5),constrained_layout=True)

ax1 = plt.subplot(121,projection=dkist_fitv_tom_btot_map_shift_repro)
im1 = dkist_fitv_tom_btot_map_shift_repro.plot()
plt.colorbar(im1,shrink=1)

ax2 = plt.subplot(122,projection=hri_174_map_crop_to_visp)
im2 = hri_174_map_crop_to_visp.plot()
ax2.set_ylabel(' ')

for ax_ in (ax1,ax2):
    bounds = ax_.axis()
    eis_hhflare_195_velmap_derot.draw_contours([-10,-5],colors=["purple","green"], axes=ax_, alpha=0.5)
    ax_.axis(bounds)


SunBlinker(dkist_fitv_tom_btot_map_shift_repro,hri_174_map_repro_to_visp)



def get_map_edge_coords(map):
    map_edges = sunpy.map.map_edges(map)

    x_pix = []
    y_pix = []

    for ii in range(map_edges[1].shape[0]):
        x_pix.append(map_edges[1][ii,0].value)
        y_pix.append(map_edges[1][ii,1].value)

    for ii in range(map_edges[3].shape[0]):
        x_pix.append(map_edges[3][ii,0].value)
        y_pix.append(map_edges[3][ii,1].value)

    for ii in range(map_edges[0].shape[0]-1,-1,-1):
        x_pix.append(map_edges[0][ii,0].value)
        y_pix.append(map_edges[0][ii,1].value)

    for ii in range(map_edges[2].shape[0]-1,-1,-1):
        x_pix.append(map_edges[2][ii,0].value)
        y_pix.append(map_edges[2][ii,1].value)
    
    return map.pixel_to_world(x_pix*u.pix,y_pix*u.pix)


vbi_blue_bottom_left = -418.58024691358025 + 4.5, 175.80246913580248 + 1.0
vbi_blue_top_right = -375.4938271604938 + 4.5, 219.7530864197531 + 1.0
vbi_red_bottom_left = -412.1764697297304 + 4.5,	183.05064621104734 + 1.0
vbi_red_top_right = -352.0588233868556 + 4.5, 243.2979971060602 + 1.0

vbi_blue_bottom_left = SkyCoord(vbi_blue_bottom_left[0]*u.arcsec, vbi_blue_bottom_left[1]*u.arcsec, 
                                frame="helioprojective", observer="earth", obstime=Time("2022-10-24T19:01:52"))
vbi_blue_top_right = SkyCoord(vbi_blue_top_right[0]*u.arcsec, vbi_blue_top_right[1]*u.arcsec,
                                frame="helioprojective", observer="earth", obstime=Time("2022-10-24T19:01:52"))
vbi_red_bottom_left = SkyCoord(vbi_red_bottom_left[0]*u.arcsec, vbi_red_bottom_left[1]*u.arcsec,
                                frame="helioprojective", observer="earth", obstime=Time("2022-10-24T19:01:49"))
vbi_red_top_right = SkyCoord(vbi_red_top_right[0]*u.arcsec, vbi_red_top_right[1]*u.arcsec,
                                frame="helioprojective", observer="earth", obstime=Time("2022-10-24T19:01:49"))



fig = plt.figure(figsize=(9,5))

ax1 = fig.add_axes([0,0,0.5,1],projection=aia_171_map_crop)
im1 = aia_171_map_crop.plot(axes=ax1)

bounds = ax1.axis()
with propagate_with_solar_surface(rotation_model="rigid"):
    line_eis = ax1.plot_coord(get_map_edge_coords(eis_hhflare_195_velmap_shift),color="w",lw=1,ls="--",alpha=0.9,)
    ax1.plot_coord(get_map_edge_coords(eis_195_velmap_shift),color="w",lw=1,ls="--",alpha=0.9,)
    # ax1.plot_coord(get_map_edge_coords(spice_NeVIII_intmap_derot_shift),color="r",lw=1,ls="--",alpha=0.9,)
    line_spice = ax1.plot_coord(get_map_edge_coords(spice_NeVIII_intmap_derot_shift_crop),color="purple",lw=1,ls="--",alpha=0.9,)
    line_phi = ax1.plot_coord(get_map_edge_coords(phi_los_map_shifted),color="lime",lw=1,ls="--",alpha=0.9,)

    line_visp = ax1.plot_coord(get_map_edge_coords(dkist_fitv_tom_cont_int_map_shift),color="g",lw=1,ls="--",alpha=0.9,)

    line_hri = ax1.plot_coord(get_map_edge_coords(hri_174_map_shifted_toaia),color="b",lw=1,ls="--",alpha=0.9,)
    line_vbi_blue = aia_171_map_crop.draw_quadrangle(vbi_blue_bottom_left,top_right=vbi_blue_top_right,axes=ax1,
                                    color="grey",lw=1,ls="--",alpha=0.9)
    line_vbi_red = aia_171_map_crop.draw_quadrangle(vbi_red_bottom_left,top_right=vbi_red_top_right,axes=ax1,
                                    color="aqua",lw=1,ls="--",alpha=0.9)
    line_iris = ax1.plot_coord(get_map_edge_coords(iris_1400_sji_1920_map),color="red",lw=1,ls="--",alpha=0.9,)
    ax1.plot_coord(get_map_edge_coords(iris_1400_sji_2322_map),color="red",lw=1,ls="--",alpha=0.9,)
ax1.axis(bounds)

ax2 = fig.add_axes([0.5,0.2,0.5,0.8],projection=hri_174_map_shifted_toaia)
im2 = hri_174_map_shifted_toaia.plot(axes=ax2)

bounds = ax2.axis()
with propagate_with_solar_surface(rotation_model="rigid"):
    ax2.plot_coord(get_map_edge_coords(eis_hhflare_195_velmap_shift),color="w",lw=1,ls="--",alpha=0.9,)
    ax2.plot_coord(get_map_edge_coords(eis_195_velmap_shift),color="w",lw=1,ls="--",alpha=0.9,)
    # ax2.plot_coord(get_map_edge_coords(spice_NeVIII_intmap_derot_shift),color="r",lw=1,ls="--",alpha=0.9,)
    ax2.plot_coord(get_map_edge_coords(spice_NeVIII_intmap_derot_shift_crop),color="purple",lw=1,ls="--",alpha=0.9,)
    ax2.plot_coord(get_map_edge_coords(phi_los_map_shifted),color="lime",lw=1,ls="--",alpha=0.9,)

    ax2.plot_coord(get_map_edge_coords(dkist_fitv_tom_cont_int_map_shift),color="g",lw=1,ls="--",alpha=0.9,)

    ax2.plot_coord(get_map_edge_coords(hri_174_map_shifted_toaia),color="b",lw=1,ls="--",alpha=0.9,)
    aia_171_map_crop.draw_quadrangle(vbi_blue_bottom_left,top_right=vbi_blue_top_right,axes=ax2,
                                    color="grey",lw=1,ls="--",alpha=0.9)
    aia_171_map_crop.draw_quadrangle(vbi_red_bottom_left,top_right=vbi_red_top_right,axes=ax2,
                                    color="aqua",lw=1,ls="--",alpha=0.9)
    ax2.plot_coord(get_map_edge_coords(iris_1400_sji_1920_map),color="red",lw=1,ls="--",alpha=0.9,)
    ax2.plot_coord(get_map_edge_coords(iris_1400_sji_2322_map),color="red",lw=1,ls="--",alpha=0.9,)

    ax2.axis(bounds)

    ax2.set_xlabel(' ')
    ax2.set_ylabel(' ')

    ax2.legend([line_eis[0],line_spice[0],line_phi[0],line_visp[0],line_hri[0],line_vbi_blue,line_vbi_red,line_iris[0]],
            ["EIS","SPICE","PHI","ViSP","HRI","VBI blue*","VBI red*","IRIS/SJI"],fontsize=10,
            ncol=4,bbox_to_anchor=(-0.1,-0.25,1.0,0.3),facecolor="gainsboro")

    plt.show()


