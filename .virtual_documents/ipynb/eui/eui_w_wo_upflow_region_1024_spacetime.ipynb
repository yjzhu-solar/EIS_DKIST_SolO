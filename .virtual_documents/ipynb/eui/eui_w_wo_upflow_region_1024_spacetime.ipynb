import numpy as np
import matplotlib.pyplot as plt
from matplotlib.widgets import Slider
import matplotlib.patches as patches
import pandas as pd
import sunpy
import sunpy.map
from sunpy.coordinates import (get_earth, get_horizons_coord,
                                Helioprojective, propagate_with_solar_surface)
import sunkit_image
import sunkit_image.coalignment as coalignment
import astropy
from astropy.coordinates import SkyCoord
from astropy.wcs import WCS
import astropy.units as u
import astropy.constants as const
from astropy.io import fits
import astropy.time
from ndcube import NDCube
from ndcube.extra_coords import (SkyCoordTableCoordinate, TimeTableCoordinate,
                                 QuantityTableCoordinate)
from scipy.interpolate import interp1d
from skimage import draw, measure
import skimage.measure.profile
from skimage.filters import sobel
import cv2
import alphashape
from map_coalign import MapSequenceCoalign

import cmcrameri.cm as cmcm
from mpl_toolkits.axes_grid1.inset_locator import inset_axes
from matplotlib.ticker import (AutoLocator, AutoMinorLocator, 
    FixedLocator, FixedFormatter, LogLocator, StrMethodFormatter)
from ipywidgets import interactive, widgets
from IPython.display import display, clear_output
from astropy.visualization import (AsinhStretch, LinearStretch,
        LogStretch, ImageNormalize)
import os
from sun_blinker import SunBlinker
from copy import deepcopy   
from glob import glob
import h5py
import itertools
from tqdm import tqdm


Txshift_hri, Tyshift_hri = (1.66986 + 2.49223)*u.arcsec,(7.60204 - 2.76366 )*u.arcsec


eui_files = sorted(glob("../../src/EUI/HRI/euv174/20221024/coalign_step/*.fits"))
eui_map_seq_coalign = MapSequenceCoalign(sunpy.map.Map(eui_files[:],))


eis_195_velmap_derot_repro_hrifov = sunpy.map.Map("../../src/EIS/DHB_007_v2/20221025T0023/sunpymaps/eis_195_velmap_derot_repro_hrifov.fits")


eis_hhflare_195_velmap_derot_repro_hrifov = sunpy.map.Map("../../src/coalign_map/20221024/eis_hhflare_195_velmap_derot_repro_hrifov.fits")


eui_map_181_shift = eui_map_seq_coalign[181].shift_reference_coord(Txshift_hri, Tyshift_hri)
eui_map_181_shift.meta["rsun_ref"] = eis_195_velmap_derot_repro_hrifov.meta["rsun_ref"]
eui_map_wcs_all = eui_map_181_shift.wcs


def get_intensity_spacetime_cut_skimage_profile(slit_coords,map_seq,linewidth=2):
    slit_coords_idx,slit_coords_idy  = eui_map_wcs_all.world_to_pixel(slit_coords)
    # slit_coords_idx,slit_coords_idy = np.rint(slit_coords_idx).astype(int), np.rint(slit_coords_idy).astype(int)

    for ii in range(len(slit_coords_idx)-1):
        pixels_0_idy_, pixels_0_idx_ = measure.profile._line_profile_coordinates((slit_coords_idy[ii], slit_coords_idx[ii]),
                                     (slit_coords_idy[ii+1], slit_coords_idx[ii+1]), linewidth=linewidth)
        if ii == 0:
            pixels_0_idy, pixels_0_idx = pixels_0_idy_, pixels_0_idx_
        else:
            pixels_0_idy = np.vstack((pixels_0_idy,pixels_0_idy_))
            pixels_0_idx = np.vstack((pixels_0_idx,pixels_0_idx_))

    pixels_0_idy_center = np.nanmean(pixels_0_idy,axis=1)
    pixels_0_idx_center = np.nanmean(pixels_0_idx,axis=1)
    pixels_0_center = eui_map_wcs_all.pixel_to_world(pixels_0_idx_center,pixels_0_idy_center)

    pixels_center_distance = []

    for ii, pixels_center_ in enumerate(pixels_0_center):
        if ii == 0:
            pixels_center_distance.append(0*u.arcsec)
        else:
            pixels_center_distance.append(pixels_0_center[ii].separation(pixels_0_center[ii-1]).to(u.arcsec) + pixels_center_distance[ii-1])
    pixels_center_distance = u.Quantity(pixels_center_distance).to_value(u.rad)*map_seq[181].dsun


    intensity = []
    for map_ in map_seq[:]:
        map_fake_ = sunpy.map.Map(map_.data, eui_map_181_shift.meta)
        for ii in range(len(slit_coords_idx)-1):
            line = measure.profile_line(map_fake_.data, (slit_coords_idy[ii], slit_coords_idx[ii]), (slit_coords_idy[ii+1], slit_coords_idx[ii+1]), linewidth=linewidth,
                                    reduce_func=np.nanmean)
            if ii == 0:
                intensity_ = line
            else:
                intensity_ = np.concatenate((intensity_,line))
        
        intensity.append(intensity_)
    
    return pixels_0_center,pixels_center_distance,eui_map_wcs_all.pixel_to_world(pixels_0_idx,pixels_0_idy) ,u.Quantity(intensity)
    



def plot_spacetime_plot(eui_map_seq, eui_map_wcs_all, bottom_left, top_right, 
                       slit_coords, linewidth=6):

    eui_map_seq_crop = eui_map_seq.submap(bottom_left, top_right=top_right)

    slit_pixels_0_profile,slit_pixels_0_distance_profile, \
    slit_pixels_0_profile_all,slit_intensity_profile = \
    get_intensity_spacetime_cut_skimage_profile(slit_coords,eui_map_seq,linewidth=linewidth)

    slit_spacetime_distance_wcs = (QuantityTableCoordinate(slit_pixels_0_distance_profile.to(u.Mm),
                                                physical_types="length",names="distance") &
                        TimeTableCoordinate(astropy.time.Time([map_.date for map_ in eui_map_seq]),
                                            physical_types="time",names="time")).wcs

    

    fig = plt.figure(figsize=(10,4),layout='constrained')
    gs = fig.add_gridspec(1,2,width_ratios=[1,1.5])
    ax1 = fig.add_subplot(gs[:,0],projection=eui_map_wcs_all)
    ax1.imshow(eui_map_seq_coalign[181].data,origin="lower",cmap="solar orbiterhri_euv174",
               norm=ImageNormalize(data=eui_map_seq_crop[181].data,stretch=AsinhStretch(0.3)))

    ax1.grid('on',lw=0.5,ls=':',alpha=0.5)
    ax1.set_xlabel('Solar-X [arcsec]')
    ax1.set_ylabel('Solar-Y [arcsec]')

    eis_195_velmap_derot_repro_hrifov.draw_contours(levels=[-10,-5,5,10],
                                                    colors=["#005CAF","#58B2DC","#F05E1C","#E83015"],alpha=0.8,
                                                                   axes=ax1)
    ax1.set_xlim(bottom_left[0].value, top_right[0].value)
    ax1.set_ylim(bottom_left[1].value, top_right[1].value)

    slit_intensity_box_car = cv2.GaussianBlur(slit_intensity_profile,(29,1),15,0)
    slit_intensity_box_car_cube = NDCube(slit_intensity_profile - slit_intensity_box_car,
                                         slit_spacetime_distance_wcs)
    ax1.plot_coord(slit_coords, color="red", lw=2, ls="-")
    ax1.plot_coord(slit_pixels_0_profile_all[:,0], color='blue',lw=2,ls='--')
    ax1.plot_coord(slit_pixels_0_profile_all[:,-1], color='blue',lw=2,ls='--')

    ax2 = fig.add_subplot(gs[:,1],projection=slit_intensity_box_car_cube.wcs)
    slit_intensity_box_car_cube.plot(axes = ax2, plot_axes=('x','y'),cmap='sdoaia171',
                                        aspect="auto")

    return slit_intensity_box_car_cube


slit_6_coords = SkyCoord([730,715]*u.arcsec,
                            [470,485]*u.arcsec,
                            frame=eui_map_181_shift.coordinate_frame)

_ = plot_spacetime_plot(eui_map_seq_coalign, eui_map_wcs_all, [500,600]*u.pix, 
                   [670, 760]*u.pix, slit_6_coords)


slit_7_coords = SkyCoord([755,750]*u.arcsec,
                            [460,440]*u.arcsec,
                            frame=eui_map_181_shift.coordinate_frame)

slit_7_cube = plot_spacetime_plot(eui_map_seq_coalign, eui_map_wcs_all, [500,600]*u.pix, 
                   [670, 760]*u.pix, slit_7_coords)


slit_7_cube.wcs.to_fits()


plt.imshow(sobel(slit_7_cube.data).T,origin='lower',aspect='auto')


parabola_template = np.zeroes((50,10))



plt.imshow(cv2.Canny(slit_7_cube.data.astype(np.int8),50,1500).T,origin='lower',aspect='auto')
