import numpy as np
import matplotlib.pyplot as plt
import h5py
from glob import glob
import os


no_upflow_fit_params = []
no_upflow_fit_xdata = []
no_upflow_fit_curve = []

upflow_fit_params = []
upflow_fit_xdata = []
upflow_fit_curve = []


upflow_slit_dirs = sorted(glob('../../sav/dynamic_fibrils/upflow/F*/',recursive=True))
upflow_slit_dirs


no_upflow_slit_dirs = sorted(glob('../../sav/dynamic_fibrils/no_upflow/M*',recursive=True))
no_upflow_slit_dirs


upflow_fit_number = 0


upflow_fit_params = []
upflow_fit_xdata = []
upflow_fit_curve = []

no_upflow_fit_params = []
no_upflow_fit_xdata = []
no_upflow_fit_curve = []


for ii, dir in enumerate(upflow_slit_dirs):
    with h5py.File(os.path.join(dir, 'spacetime_fit.h5'),'r') as hf:
        keys = hf.keys()
        fit_number = hf['fit_number'][()]
        upflow_fit_number += fit_number 

        if ii == 0:
            upflow_fit_params = hf['fit_params_world'][()]
        else:
            upflow_fit_params = np.vstack((upflow_fit_params, hf['fit_params_world'][()]))

        for jj in range(fit_number):
            upflow_fit_curve.append(hf[f'fit_curves_world_{jj}'][()])
            upflow_fit_xdata.append(hf[f'fit_xdata_world_{jj}'][()])


no_upflow_fit_number = 0
for ii, dir in enumerate(no_upflow_slit_dirs):
    with h5py.File(os.path.join(dir, 'spacetime_fit.h5'),'r') as hf:
        keys = hf.keys()
        fit_number = hf['fit_params_world'][()].shape[0]
        no_upflow_fit_number += fit_number 

        if ii == 0:
            no_upflow_fit_params = hf['fit_params_world'][()]
        else:
            no_upflow_fit_params = np.vstack((no_upflow_fit_params, hf['fit_params_world'][()]))

        for jj in range(fit_number):
            
            no_upflow_fit_curve.append(hf[f'fit_curves_world_{jj}'][()])
            no_upflow_fit_xdata.append(hf[f'fit_xdata_world_{jj}'][()])


def get_duration_height_speed_acceleration(fit_params, fit_curves, fit_xdata):
    xdata_start = [xdata_[0] for xdata_ in fit_xdata]
    xdata_end = [xdata_[-1] for xdata_ in fit_xdata]
    ydata_start = [ydata_[0] for ydata_ in fit_curves]
    ydata_end = [ydata_[-1] for ydata_ in fit_curves]
    t_max_height = - fit_params[:,1]/2/fit_params[:,0]
    max_height = fit_params[:,0]*t_max_height**2 + fit_params[:,1]*t_max_height + fit_params[:,2] - np.nanmin([ydata_start,ydata_end],axis=0)

    t_duration = 2*np.nanmax(np.abs(t_max_height[None,:] - np.asarray([xdata_start, xdata_end])),axis=0)
    acceleration = 2*fit_params[:,0]
    max_speed = np.abs(2*acceleration*(t_max_height - t_duration/2) + fit_params[:,1])

    return t_duration, max_height,acceleration, max_speed
    


upflow_duration, upflow_max_h, upflow_acc, upflow_max_v = \
get_duration_height_speed_acceleration(upflow_fit_params, upflow_fit_curve, upflow_fit_xdata)


no_upflow_duration, no_upflow_max_h, no_upflow_acc, no_upflow_max_v = \
get_duration_height_speed_acceleration(no_upflow_fit_params, no_upflow_fit_curve, no_upflow_fit_xdata)


upflow_style = dict(facecolor=(245./255,150./255,170./255,0.3),label="upflow",lw=1.5,
        ls="-",edgecolor=(245./255,150./255,170./255,1),histtype="stepfilled")
no_upflow_style = dict(facecolor=(88./255,178./255,220./255,0.3),label="moss",lw=1.5,
        ls="-",edgecolor=(88./255,178./255,220./255,1),histtype="stepfilled")

fig, ((ax1,ax2),(ax3,ax4)) = plt.subplots(2,2,layout='constrained')
ax1.hist(-upflow_acc*1e3,range=(0,300),bins=10, **upflow_style)
ax2.hist(upflow_max_h,range=(500,3000),bins=10, **upflow_style)
ax3.hist(upflow_max_v,range=(5,40),bins=10, **upflow_style)
ax4.hist(upflow_duration,range=(100,600),bins=10, **upflow_style)

ax1.hist(-no_upflow_acc*1e3,range=(0,300),bins=10, **no_upflow_style)
ax2.hist(no_upflow_max_h,range=(500,3000),bins=10, **no_upflow_style)
ax3.hist(no_upflow_max_v,range=(5,40),bins=10, **no_upflow_style)
ax4.hist(no_upflow_duration,range=(100,600),bins=10, **no_upflow_style)

ax1.legend(bbox_to_anchor=(0.,1.1,1,0.1),ncol=2,mode="expand",handletextpad=0.4,
            handlelength=1.5,frameon=False)

ax1.set_xlabel(r'Acceleration [$\rm m\,s^{-2}$]')
ax2.set_xlabel(r'Height [$\rm km$]')
ax3.set_xlabel(r'$v_{\rm max}$ [$\rm km\,s^{-1}$]')
ax4.set_xlabel(r'Duration [s]')
