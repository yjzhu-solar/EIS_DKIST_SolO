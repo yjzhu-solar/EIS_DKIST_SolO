{
 "cells": [
  {
   "cell_type": "code",
   "execution_count": 1,
   "metadata": {},
   "outputs": [],
   "source": [
    "import numpy as np\n",
    "import sunpy\n",
    "import sunpy.map    \n",
    "import matplotlib.pyplot as plt\n",
    "import astropy\n",
    "from astropy.io import fits\n",
    "from astropy.wcs import WCS\n",
    "from astropy.coordinates import SkyCoord\n",
    "from astropy import units as u\n",
    "from sunpy.coordinates import get_horizons_coord"
   ]
  },
  {
   "cell_type": "code",
   "execution_count": 2,
   "metadata": {},
   "outputs": [
    {
     "name": "stdout",
     "output_type": "stream",
     "text": [
      "INFO: Obtained JPL HORIZONS location for Solar Orbiter (spacecraft) (-144 [sunpy.coordinates.ephemeris]\n"
     ]
    }
   ],
   "source": [
    "hmi_los_map = sunpy.map.Map(\"../../src/HMI/20221024/lvl15/hmi.M_45s.20221024_192100_TAI.2.magnetogram.fits\")\n",
    "fake_hmi_header = sunpy.map.make_fitswcs_header(hmi_los_map.data.shape,\n",
    "                                                SkyCoord(0*u.arcsec, 0*u.arcsec,\n",
    "                                                         obstime=hmi_los_map.reference_coordinate.obstime,\n",
    "                                                         observer=get_horizons_coord(\"solar orbiter\",time=hmi_los_map.reference_coordinate.obstime),\n",
    "                                                         rsun=hmi_los_map.reference_coordinate.rsun,\n",
    "                                                         frame=\"helioprojective\"),\n",
    "                                                scale=u.Quantity(hmi_los_map.scale))\n",
    "\n",
    "fake_hmi_map = hmi_los_map.reproject_to(WCS(fake_hmi_header))\n",
    "fake_hmi_map.save(\"../../src/coalign_map/test_fake_hmi.fits\",overwrite=True)"
   ]
  },
  {
   "cell_type": "code",
   "execution_count": 4,
   "metadata": {},
   "outputs": [
    {
     "data": {
      "text/latex": [
       "$696000 \\; \\mathrm{km}$"
      ],
      "text/plain": [
       "<Quantity 696000. km>"
      ]
     },
     "execution_count": 4,
     "metadata": {},
     "output_type": "execute_result"
    }
   ],
   "source": [
    "hmi_los_map.reference_coordinate.rsun"
   ]
  },
  {
   "cell_type": "code",
   "execution_count": 3,
   "metadata": {},
   "outputs": [
    {
     "name": "stderr",
     "output_type": "stream",
     "text": [
      "WARNING: VerifyWarning: Invalid 'BLANK' keyword in header.  The 'BLANK' keyword is only applicable to integer data, and will be ignored in this HDU. [astropy.io.fits.hdu.image]\n"
     ]
    },
    {
     "name": "stdout",
     "output_type": "stream",
     "text": [
      "INFO: Obtained JPL HORIZONS location for Solar Orbiter (spacecraft) (-144 [sunpy.coordinates.ephemeris]\n"
     ]
    }
   ],
   "source": [
    "hmi_los_map_mod_rsun_ref = sunpy.map.Map(\"../../src/HMI/20221024/lvl15/hmi.M_45s.20221024_192100_TAI.2.magnetogram.fits\")\n",
    "hmi_los_map_mod_rsun_ref.meta['rsun_ref'] = 695700000.0\n",
    "hmi_los_map_mod_rsun_ref.save(\"../../src/coalign_map/hmi_mod_rsun_ref.fits\",overwrite=True)\n",
    "\n",
    "fake_hmi_header_rsun_ref = sunpy.map.make_fitswcs_header(hmi_los_map_mod_rsun_ref.data.shape,\n",
    "                                                SkyCoord(0*u.arcsec, 0*u.arcsec,\n",
    "                                                         obstime=hmi_los_map_mod_rsun_ref.reference_coordinate.obstime,\n",
    "                                                         observer=get_horizons_coord(\"solar orbiter\",time=hmi_los_map_mod_rsun_ref.reference_coordinate.obstime),\n",
    "                                                         rsun=hmi_los_map_mod_rsun_ref.reference_coordinate.rsun,\n",
    "                                                         frame=\"helioprojective\"),\n",
    "                                                scale=u.Quantity(hmi_los_map_mod_rsun_ref.scale))\n",
    "fake_hmi_map_rsun_ref = hmi_los_map_mod_rsun_ref.reproject_to(WCS(fake_hmi_header_rsun_ref))\n",
    "fake_hmi_map_rsun_ref.save(\"../../src/coalign_map/test_fake_hmi_rsun_ref.fits\",overwrite=True)"
   ]
  },
  {
   "cell_type": "code",
   "execution_count": 5,
   "metadata": {},
   "outputs": [
    {
     "data": {
      "text/latex": [
       "$695700 \\; \\mathrm{km}$"
      ],
      "text/plain": [
       "<Quantity 695700. km>"
      ]
     },
     "execution_count": 5,
     "metadata": {},
     "output_type": "execute_result"
    }
   ],
   "source": [
    "hmi_los_map_mod_rsun_ref.reference_coordinate.rsun"
   ]
  }
 ],
 "metadata": {
  "kernelspec": {
   "display_name": "sunpy",
   "language": "python",
   "name": "python3"
  },
  "language_info": {
   "codemirror_mode": {
    "name": "ipython",
    "version": 3
   },
   "file_extension": ".py",
   "mimetype": "text/x-python",
   "name": "python",
   "nbconvert_exporter": "python",
   "pygments_lexer": "ipython3",
   "version": "3.11.7"
  }
 },
 "nbformat": 4,
 "nbformat_minor": 2
}
