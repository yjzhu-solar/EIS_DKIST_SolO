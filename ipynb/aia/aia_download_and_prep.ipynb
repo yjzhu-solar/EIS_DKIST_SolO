{
 "cells": [
  {
   "cell_type": "code",
   "execution_count": 39,
   "metadata": {},
   "outputs": [],
   "source": [
    "from astropy import units as u\n",
    "from sunpy.net import Fido\n",
    "from sunpy.net import attrs as a\n",
    "import datetime \n",
    "import os\n",
    "import pandas as pd\n",
    "import sunpy\n",
    "import sunpy.map\n",
    "from aiapy.calibrate import normalize_exposure, register, update_pointing"
   ]
  },
  {
   "cell_type": "code",
   "execution_count": 2,
   "metadata": {},
   "outputs": [
    {
     "data": {
      "text/html": [
       "<div>\n",
       "<style scoped>\n",
       "    .dataframe tbody tr th:only-of-type {\n",
       "        vertical-align: middle;\n",
       "    }\n",
       "\n",
       "    .dataframe tbody tr th {\n",
       "        vertical-align: top;\n",
       "    }\n",
       "\n",
       "    .dataframe thead th {\n",
       "        text-align: right;\n",
       "    }\n",
       "</style>\n",
       "<table border=\"1\" class=\"dataframe\">\n",
       "  <thead>\n",
       "    <tr style=\"text-align: right;\">\n",
       "      <th></th>\n",
       "      <th>obs_start</th>\n",
       "      <th>obs_end</th>\n",
       "      <th>texp</th>\n",
       "      <th>stud_acr</th>\n",
       "      <th>repeat</th>\n",
       "      <th>fovx</th>\n",
       "      <th>fovy</th>\n",
       "      <th>cdelt1</th>\n",
       "      <th>des</th>\n",
       "    </tr>\n",
       "  </thead>\n",
       "  <tbody>\n",
       "    <tr>\n",
       "      <th>0</th>\n",
       "      <td>2022-10-19 18:26:00</td>\n",
       "      <td>2022-10-19 22:37:00</td>\n",
       "      <td>10</td>\n",
       "      <td>HH_Flare+AR_180x152H</td>\n",
       "      <td>48</td>\n",
       "      <td>180</td>\n",
       "      <td>152</td>\n",
       "      <td>6</td>\n",
       "      <td>fast, sparse scan, minimal lines</td>\n",
       "    </tr>\n",
       "    <tr>\n",
       "      <th>1</th>\n",
       "      <td>2022-10-20 03:44:00</td>\n",
       "      <td>2022-10-20 04:47:00</td>\n",
       "      <td>60</td>\n",
       "      <td>DHB_007_v2</td>\n",
       "      <td>1</td>\n",
       "      <td>248</td>\n",
       "      <td>512</td>\n",
       "      <td>4</td>\n",
       "      <td>slow scan, long slit, large FOV, more lines</td>\n",
       "    </tr>\n",
       "    <tr>\n",
       "      <th>2</th>\n",
       "      <td>2022-10-20 07:05:00</td>\n",
       "      <td>2022-10-20 11:05:00</td>\n",
       "      <td>10</td>\n",
       "      <td>HH_Flare+AR_180x152H</td>\n",
       "      <td>40</td>\n",
       "      <td>180</td>\n",
       "      <td>152</td>\n",
       "      <td>6</td>\n",
       "      <td>fast, sparse scan, minimal lines</td>\n",
       "    </tr>\n",
       "    <tr>\n",
       "      <th>3</th>\n",
       "      <td>2022-10-20 18:54:00</td>\n",
       "      <td>2022-10-20 20:03:00</td>\n",
       "      <td>10</td>\n",
       "      <td>HH_Flare+AR_180x152H</td>\n",
       "      <td>13</td>\n",
       "      <td>180</td>\n",
       "      <td>152</td>\n",
       "      <td>6</td>\n",
       "      <td>fast, sparse scan, minimal lines</td>\n",
       "    </tr>\n",
       "    <tr>\n",
       "      <th>4</th>\n",
       "      <td>2022-10-20 23:43:00</td>\n",
       "      <td>2022-10-21 02:12:00</td>\n",
       "      <td>60</td>\n",
       "      <td>DHB_007_v2</td>\n",
       "      <td>2</td>\n",
       "      <td>248</td>\n",
       "      <td>512</td>\n",
       "      <td>4</td>\n",
       "      <td>slow scan, long slit, large FOV, more lines</td>\n",
       "    </tr>\n",
       "    <tr>\n",
       "      <th>5</th>\n",
       "      <td>2022-10-21 03:15:00</td>\n",
       "      <td>2022-10-21 05:12:00</td>\n",
       "      <td>10</td>\n",
       "      <td>HH_Flare+AR_180x152H</td>\n",
       "      <td>22</td>\n",
       "      <td>180</td>\n",
       "      <td>152</td>\n",
       "      <td>6</td>\n",
       "      <td>fast, sparse scan, minimal lines</td>\n",
       "    </tr>\n",
       "    <tr>\n",
       "      <th>6</th>\n",
       "      <td>2022-10-21 06:12:00</td>\n",
       "      <td>2022-10-21 17:14:00</td>\n",
       "      <td>10</td>\n",
       "      <td>HH_Flare+AR_180x152H</td>\n",
       "      <td>124</td>\n",
       "      <td>180</td>\n",
       "      <td>152</td>\n",
       "      <td>6</td>\n",
       "      <td>fast, sparse scan, minimal lines</td>\n",
       "    </tr>\n",
       "    <tr>\n",
       "      <th>7</th>\n",
       "      <td>2022-10-21 18:14:00</td>\n",
       "      <td>2022-10-21 22:41:00</td>\n",
       "      <td>10</td>\n",
       "      <td>HH_Flare+AR_180x152H</td>\n",
       "      <td>50</td>\n",
       "      <td>180</td>\n",
       "      <td>152</td>\n",
       "      <td>6</td>\n",
       "      <td>fast, sparse scan, minimal lines</td>\n",
       "    </tr>\n",
       "    <tr>\n",
       "      <th>8</th>\n",
       "      <td>2022-10-22 06:30:00</td>\n",
       "      <td>2022-10-22 07:35:00</td>\n",
       "      <td>60</td>\n",
       "      <td>DHB_007_v2</td>\n",
       "      <td>1</td>\n",
       "      <td>248</td>\n",
       "      <td>512</td>\n",
       "      <td>4</td>\n",
       "      <td>slow scan, long slit, large FOV, more lines</td>\n",
       "    </tr>\n",
       "    <tr>\n",
       "      <th>9</th>\n",
       "      <td>2022-10-22 08:08:00</td>\n",
       "      <td>2022-10-22 10:43:00</td>\n",
       "      <td>10</td>\n",
       "      <td>HH_Flare+AR_180x152H</td>\n",
       "      <td>25</td>\n",
       "      <td>180</td>\n",
       "      <td>152</td>\n",
       "      <td>6</td>\n",
       "      <td>fast, sparse scan, minimal lines</td>\n",
       "    </tr>\n",
       "    <tr>\n",
       "      <th>10</th>\n",
       "      <td>2022-10-22 11:18:00</td>\n",
       "      <td>2022-10-22 17:48:00</td>\n",
       "      <td>10</td>\n",
       "      <td>HH_Flare+AR_180x152H</td>\n",
       "      <td>63</td>\n",
       "      <td>180</td>\n",
       "      <td>152</td>\n",
       "      <td>6</td>\n",
       "      <td>fast, sparse scan, minimal lines</td>\n",
       "    </tr>\n",
       "    <tr>\n",
       "      <th>11</th>\n",
       "      <td>2022-10-22 18:34:00</td>\n",
       "      <td>2022-10-22 19:27:00</td>\n",
       "      <td>10</td>\n",
       "      <td>HH_Flare+AR_180x152H</td>\n",
       "      <td>10</td>\n",
       "      <td>180</td>\n",
       "      <td>152</td>\n",
       "      <td>6</td>\n",
       "      <td>fast, sparse scan, minimal lines</td>\n",
       "    </tr>\n",
       "    <tr>\n",
       "      <th>12</th>\n",
       "      <td>2022-10-22 21:40:00</td>\n",
       "      <td>2022-10-23 00:20:00</td>\n",
       "      <td>60</td>\n",
       "      <td>DHB_007_v2</td>\n",
       "      <td>2</td>\n",
       "      <td>248</td>\n",
       "      <td>512</td>\n",
       "      <td>4</td>\n",
       "      <td>slow scan, long slit, large FOV, more lines</td>\n",
       "    </tr>\n",
       "    <tr>\n",
       "      <th>13</th>\n",
       "      <td>2022-10-23 00:44:00</td>\n",
       "      <td>2022-10-23 04:39:00</td>\n",
       "      <td>10</td>\n",
       "      <td>EL_DHB_01</td>\n",
       "      <td>48</td>\n",
       "      <td>50</td>\n",
       "      <td>152</td>\n",
       "      <td>2</td>\n",
       "      <td>fast scan, small step size and FOV,  more line...</td>\n",
       "    </tr>\n",
       "    <tr>\n",
       "      <th>14</th>\n",
       "      <td>2022-10-23 07:05:00</td>\n",
       "      <td>2022-10-23 17:56:00</td>\n",
       "      <td>10</td>\n",
       "      <td>HH_Flare+AR_180x152H</td>\n",
       "      <td>94</td>\n",
       "      <td>180</td>\n",
       "      <td>152</td>\n",
       "      <td>6</td>\n",
       "      <td>fast, sparse scan, minimal lines</td>\n",
       "    </tr>\n",
       "    <tr>\n",
       "      <th>15</th>\n",
       "      <td>2022-10-23 19:01:00</td>\n",
       "      <td>2022-10-23 19:49:00</td>\n",
       "      <td>10</td>\n",
       "      <td>HH_Flare+AR_180x152H</td>\n",
       "      <td>11</td>\n",
       "      <td>180</td>\n",
       "      <td>152</td>\n",
       "      <td>6</td>\n",
       "      <td>fast, sparse scan, minimal lines</td>\n",
       "    </tr>\n",
       "    <tr>\n",
       "      <th>16</th>\n",
       "      <td>2022-10-23 20:38:00</td>\n",
       "      <td>2022-10-23 23:19:00</td>\n",
       "      <td>60</td>\n",
       "      <td>DHB_007_v2</td>\n",
       "      <td>2</td>\n",
       "      <td>248</td>\n",
       "      <td>512</td>\n",
       "      <td>4</td>\n",
       "      <td>slow scan, long slit, large FOV, more lines</td>\n",
       "    </tr>\n",
       "    <tr>\n",
       "      <th>17</th>\n",
       "      <td>2022-10-23 23:50:00</td>\n",
       "      <td>2022-10-24 00:51:00</td>\n",
       "      <td>40</td>\n",
       "      <td>HPW021VEL260x512v2</td>\n",
       "      <td>1</td>\n",
       "      <td>261</td>\n",
       "      <td>512</td>\n",
       "      <td>3</td>\n",
       "      <td>slow scan, long slit, large FOV, more lines</td>\n",
       "    </tr>\n",
       "    <tr>\n",
       "      <th>18</th>\n",
       "      <td>2022-10-24 01:15:00</td>\n",
       "      <td>2022-10-24 02:16:00</td>\n",
       "      <td>60</td>\n",
       "      <td>Atlas_60</td>\n",
       "      <td>1</td>\n",
       "      <td>120</td>\n",
       "      <td>160</td>\n",
       "      <td>2</td>\n",
       "      <td>slow scan, small stepsize and FOV, full CCDs, ...</td>\n",
       "    </tr>\n",
       "    <tr>\n",
       "      <th>19</th>\n",
       "      <td>2022-10-24 02:49:00</td>\n",
       "      <td>2022-10-24 03:50:00</td>\n",
       "      <td>40</td>\n",
       "      <td>HPW021VEL260x512v2</td>\n",
       "      <td>1</td>\n",
       "      <td>261</td>\n",
       "      <td>512</td>\n",
       "      <td>3</td>\n",
       "      <td>slow scan, long slit, large FOV, more lines</td>\n",
       "    </tr>\n",
       "    <tr>\n",
       "      <th>20</th>\n",
       "      <td>2022-10-24 08:00:00</td>\n",
       "      <td>2022-10-24 17:22:00</td>\n",
       "      <td>10</td>\n",
       "      <td>HH_Flare+AR_180x152H</td>\n",
       "      <td>85</td>\n",
       "      <td>180</td>\n",
       "      <td>152</td>\n",
       "      <td>6</td>\n",
       "      <td>fast, sparse scan, minimal lines</td>\n",
       "    </tr>\n",
       "    <tr>\n",
       "      <th>21</th>\n",
       "      <td>2022-10-24 18:08:00</td>\n",
       "      <td>2022-10-24 22:17:00</td>\n",
       "      <td>10</td>\n",
       "      <td>HH_Flare+AR_180x152H</td>\n",
       "      <td>33</td>\n",
       "      <td>180</td>\n",
       "      <td>152</td>\n",
       "      <td>6</td>\n",
       "      <td>fast, sparse scan, minimal lines</td>\n",
       "    </tr>\n",
       "    <tr>\n",
       "      <th>22</th>\n",
       "      <td>2022-10-25 00:23:00</td>\n",
       "      <td>2022-10-25 02:52:00</td>\n",
       "      <td>60</td>\n",
       "      <td>DHB_007_v2</td>\n",
       "      <td>2</td>\n",
       "      <td>248</td>\n",
       "      <td>512</td>\n",
       "      <td>4</td>\n",
       "      <td>slow scan, long slit, large FOV, more lines</td>\n",
       "    </tr>\n",
       "    <tr>\n",
       "      <th>23</th>\n",
       "      <td>2022-10-25 13:01:00</td>\n",
       "      <td>2022-10-25 16:13:00</td>\n",
       "      <td>10</td>\n",
       "      <td>HH_Flare+AR_180x152H</td>\n",
       "      <td>36</td>\n",
       "      <td>180</td>\n",
       "      <td>152</td>\n",
       "      <td>6</td>\n",
       "      <td>fast, sparse scan, minimal lines</td>\n",
       "    </tr>\n",
       "    <tr>\n",
       "      <th>24</th>\n",
       "      <td>2022-10-25 18:34:00</td>\n",
       "      <td>2022-10-25 19:27:00</td>\n",
       "      <td>10</td>\n",
       "      <td>HH_Flare+AR_180x152H</td>\n",
       "      <td>10</td>\n",
       "      <td>180</td>\n",
       "      <td>152</td>\n",
       "      <td>6</td>\n",
       "      <td>fast, sparse scan, minimal lines</td>\n",
       "    </tr>\n",
       "    <tr>\n",
       "      <th>25</th>\n",
       "      <td>2022-10-25 20:11:00</td>\n",
       "      <td>2022-10-25 22:52:00</td>\n",
       "      <td>60</td>\n",
       "      <td>DHB_007_v2</td>\n",
       "      <td>2</td>\n",
       "      <td>248</td>\n",
       "      <td>512</td>\n",
       "      <td>4</td>\n",
       "      <td>slow scan, long slit, large FOV, more lines</td>\n",
       "    </tr>\n",
       "    <tr>\n",
       "      <th>26</th>\n",
       "      <td>2022-10-25 23:24:00</td>\n",
       "      <td>2022-10-26 03:18:00</td>\n",
       "      <td>10</td>\n",
       "      <td>EL_DHB_01</td>\n",
       "      <td>48</td>\n",
       "      <td>50</td>\n",
       "      <td>152</td>\n",
       "      <td>2</td>\n",
       "      <td>fast scan, small step size and FOV,  more line...</td>\n",
       "    </tr>\n",
       "    <tr>\n",
       "      <th>27</th>\n",
       "      <td>2022-10-26 07:13:00</td>\n",
       "      <td>2022-10-26 09:55:00</td>\n",
       "      <td>60</td>\n",
       "      <td>DHB_007_v2</td>\n",
       "      <td>60</td>\n",
       "      <td>248</td>\n",
       "      <td>512</td>\n",
       "      <td>4</td>\n",
       "      <td>slow scan, long slit, large FOV, more lines</td>\n",
       "    </tr>\n",
       "    <tr>\n",
       "      <th>28</th>\n",
       "      <td>2022-10-26 15:44:00</td>\n",
       "      <td>2022-10-26 16:53:00</td>\n",
       "      <td>10</td>\n",
       "      <td>HH_Flare+AR_180x152H</td>\n",
       "      <td>13</td>\n",
       "      <td>180</td>\n",
       "      <td>152</td>\n",
       "      <td>6</td>\n",
       "      <td>fast, sparse scan, minimal lines</td>\n",
       "    </tr>\n",
       "    <tr>\n",
       "      <th>29</th>\n",
       "      <td>2022-10-26 19:09:00</td>\n",
       "      <td>2022-10-26 23:21:00</td>\n",
       "      <td>10</td>\n",
       "      <td>HH_Flare+AR_180x152H</td>\n",
       "      <td>33</td>\n",
       "      <td>180</td>\n",
       "      <td>152</td>\n",
       "      <td>6</td>\n",
       "      <td>fast, sparse scan, minimal lines</td>\n",
       "    </tr>\n",
       "    <tr>\n",
       "      <th>30</th>\n",
       "      <td>2022-10-27 10:59:00</td>\n",
       "      <td>2022-10-27 15:43:00</td>\n",
       "      <td>10</td>\n",
       "      <td>EL_DHB_01</td>\n",
       "      <td>58</td>\n",
       "      <td>50</td>\n",
       "      <td>152</td>\n",
       "      <td>2</td>\n",
       "      <td>fast scan, small step size and FOV,  more line...</td>\n",
       "    </tr>\n",
       "    <tr>\n",
       "      <th>31</th>\n",
       "      <td>2022-10-28 11:30:00</td>\n",
       "      <td>2022-10-28 12:31:00</td>\n",
       "      <td>40</td>\n",
       "      <td>HPW021VEL260x512v2</td>\n",
       "      <td>1</td>\n",
       "      <td>261</td>\n",
       "      <td>512</td>\n",
       "      <td>3</td>\n",
       "      <td>slow scan, long slit, large FOV, more lines</td>\n",
       "    </tr>\n",
       "    <tr>\n",
       "      <th>32</th>\n",
       "      <td>2022-10-28 13:00:00</td>\n",
       "      <td>2022-10-28 14:02:00</td>\n",
       "      <td>60</td>\n",
       "      <td>Atlas_60</td>\n",
       "      <td>1</td>\n",
       "      <td>120</td>\n",
       "      <td>160</td>\n",
       "      <td>2</td>\n",
       "      <td>slow scan, small stepsize and FOV, full CCDs, ...</td>\n",
       "    </tr>\n",
       "  </tbody>\n",
       "</table>\n",
       "</div>"
      ],
      "text/plain": [
       "             obs_start             obs_end  texp              stud_acr  \\\n",
       "0  2022-10-19 18:26:00 2022-10-19 22:37:00    10  HH_Flare+AR_180x152H   \n",
       "1  2022-10-20 03:44:00 2022-10-20 04:47:00    60            DHB_007_v2   \n",
       "2  2022-10-20 07:05:00 2022-10-20 11:05:00    10  HH_Flare+AR_180x152H   \n",
       "3  2022-10-20 18:54:00 2022-10-20 20:03:00    10  HH_Flare+AR_180x152H   \n",
       "4  2022-10-20 23:43:00 2022-10-21 02:12:00    60            DHB_007_v2   \n",
       "5  2022-10-21 03:15:00 2022-10-21 05:12:00    10  HH_Flare+AR_180x152H   \n",
       "6  2022-10-21 06:12:00 2022-10-21 17:14:00    10  HH_Flare+AR_180x152H   \n",
       "7  2022-10-21 18:14:00 2022-10-21 22:41:00    10  HH_Flare+AR_180x152H   \n",
       "8  2022-10-22 06:30:00 2022-10-22 07:35:00    60            DHB_007_v2   \n",
       "9  2022-10-22 08:08:00 2022-10-22 10:43:00    10  HH_Flare+AR_180x152H   \n",
       "10 2022-10-22 11:18:00 2022-10-22 17:48:00    10  HH_Flare+AR_180x152H   \n",
       "11 2022-10-22 18:34:00 2022-10-22 19:27:00    10  HH_Flare+AR_180x152H   \n",
       "12 2022-10-22 21:40:00 2022-10-23 00:20:00    60            DHB_007_v2   \n",
       "13 2022-10-23 00:44:00 2022-10-23 04:39:00    10             EL_DHB_01   \n",
       "14 2022-10-23 07:05:00 2022-10-23 17:56:00    10  HH_Flare+AR_180x152H   \n",
       "15 2022-10-23 19:01:00 2022-10-23 19:49:00    10  HH_Flare+AR_180x152H   \n",
       "16 2022-10-23 20:38:00 2022-10-23 23:19:00    60            DHB_007_v2   \n",
       "17 2022-10-23 23:50:00 2022-10-24 00:51:00    40    HPW021VEL260x512v2   \n",
       "18 2022-10-24 01:15:00 2022-10-24 02:16:00    60              Atlas_60   \n",
       "19 2022-10-24 02:49:00 2022-10-24 03:50:00    40    HPW021VEL260x512v2   \n",
       "20 2022-10-24 08:00:00 2022-10-24 17:22:00    10  HH_Flare+AR_180x152H   \n",
       "21 2022-10-24 18:08:00 2022-10-24 22:17:00    10  HH_Flare+AR_180x152H   \n",
       "22 2022-10-25 00:23:00 2022-10-25 02:52:00    60            DHB_007_v2   \n",
       "23 2022-10-25 13:01:00 2022-10-25 16:13:00    10  HH_Flare+AR_180x152H   \n",
       "24 2022-10-25 18:34:00 2022-10-25 19:27:00    10  HH_Flare+AR_180x152H   \n",
       "25 2022-10-25 20:11:00 2022-10-25 22:52:00    60            DHB_007_v2   \n",
       "26 2022-10-25 23:24:00 2022-10-26 03:18:00    10             EL_DHB_01   \n",
       "27 2022-10-26 07:13:00 2022-10-26 09:55:00    60            DHB_007_v2   \n",
       "28 2022-10-26 15:44:00 2022-10-26 16:53:00    10  HH_Flare+AR_180x152H   \n",
       "29 2022-10-26 19:09:00 2022-10-26 23:21:00    10  HH_Flare+AR_180x152H   \n",
       "30 2022-10-27 10:59:00 2022-10-27 15:43:00    10             EL_DHB_01   \n",
       "31 2022-10-28 11:30:00 2022-10-28 12:31:00    40    HPW021VEL260x512v2   \n",
       "32 2022-10-28 13:00:00 2022-10-28 14:02:00    60              Atlas_60   \n",
       "\n",
       "    repeat  fovx  fovy  cdelt1  \\\n",
       "0       48   180   152       6   \n",
       "1        1   248   512       4   \n",
       "2       40   180   152       6   \n",
       "3       13   180   152       6   \n",
       "4        2   248   512       4   \n",
       "5       22   180   152       6   \n",
       "6      124   180   152       6   \n",
       "7       50   180   152       6   \n",
       "8        1   248   512       4   \n",
       "9       25   180   152       6   \n",
       "10      63   180   152       6   \n",
       "11      10   180   152       6   \n",
       "12       2   248   512       4   \n",
       "13      48    50   152       2   \n",
       "14      94   180   152       6   \n",
       "15      11   180   152       6   \n",
       "16       2   248   512       4   \n",
       "17       1   261   512       3   \n",
       "18       1   120   160       2   \n",
       "19       1   261   512       3   \n",
       "20      85   180   152       6   \n",
       "21      33   180   152       6   \n",
       "22       2   248   512       4   \n",
       "23      36   180   152       6   \n",
       "24      10   180   152       6   \n",
       "25       2   248   512       4   \n",
       "26      48    50   152       2   \n",
       "27      60   248   512       4   \n",
       "28      13   180   152       6   \n",
       "29      33   180   152       6   \n",
       "30      58    50   152       2   \n",
       "31       1   261   512       3   \n",
       "32       1   120   160       2   \n",
       "\n",
       "                                                  des  \n",
       "0                   fast, sparse scan, minimal lines   \n",
       "1        slow scan, long slit, large FOV, more lines   \n",
       "2                   fast, sparse scan, minimal lines   \n",
       "3                   fast, sparse scan, minimal lines   \n",
       "4        slow scan, long slit, large FOV, more lines   \n",
       "5                   fast, sparse scan, minimal lines   \n",
       "6                   fast, sparse scan, minimal lines   \n",
       "7                   fast, sparse scan, minimal lines   \n",
       "8        slow scan, long slit, large FOV, more lines   \n",
       "9                   fast, sparse scan, minimal lines   \n",
       "10                  fast, sparse scan, minimal lines   \n",
       "11                  fast, sparse scan, minimal lines   \n",
       "12       slow scan, long slit, large FOV, more lines   \n",
       "13  fast scan, small step size and FOV,  more line...  \n",
       "14                  fast, sparse scan, minimal lines   \n",
       "15                  fast, sparse scan, minimal lines   \n",
       "16       slow scan, long slit, large FOV, more lines   \n",
       "17       slow scan, long slit, large FOV, more lines   \n",
       "18  slow scan, small stepsize and FOV, full CCDs, ...  \n",
       "19       slow scan, long slit, large FOV, more lines   \n",
       "20                  fast, sparse scan, minimal lines   \n",
       "21                  fast, sparse scan, minimal lines   \n",
       "22       slow scan, long slit, large FOV, more lines   \n",
       "23                  fast, sparse scan, minimal lines   \n",
       "24                  fast, sparse scan, minimal lines   \n",
       "25       slow scan, long slit, large FOV, more lines   \n",
       "26  fast scan, small step size and FOV,  more line...  \n",
       "27       slow scan, long slit, large FOV, more lines   \n",
       "28                  fast, sparse scan, minimal lines   \n",
       "29                  fast, sparse scan, minimal lines   \n",
       "30  fast scan, small step size and FOV,  more line...  \n",
       "31       slow scan, long slit, large FOV, more lines   \n",
       "32  slow scan, small stepsize and FOV, full CCDs, ...  "
      ]
     },
     "execution_count": 2,
     "metadata": {},
     "output_type": "execute_result"
    }
   ],
   "source": [
    "eis_list_file = \"../../src/EIS/eis_obs_list.xlsx\"\n",
    "\n",
    "eis_list_df = pd.read_excel(eis_list_file, sheet_name=\"Sheet1\")\n",
    "eis_list_df"
   ]
  },
  {
   "cell_type": "code",
   "execution_count": 41,
   "metadata": {},
   "outputs": [],
   "source": [
    "aia_download_dir = \"../../src/AIA/193/lvl1/\"\n",
    "aia_save_dir = \"../../src/AIA/193/lvl15/\""
   ]
  },
  {
   "cell_type": "code",
   "execution_count": 44,
   "metadata": {},
   "outputs": [
    {
     "data": {
      "application/vnd.jupyter.widget-view+json": {
       "model_id": "c8b9b2164b64407f8cfe6d3e6edeb389",
       "version_major": 2,
       "version_minor": 0
      },
      "text/plain": [
       "Files Downloaded:   0%|          | 0/1 [00:00<?, ?file/s]"
      ]
     },
     "metadata": {},
     "output_type": "display_data"
    },
    {
     "name": "stderr",
     "output_type": "stream",
     "text": [
      "WARNING: VerifyWarning: Invalid 'BLANK' keyword in header.  The 'BLANK' keyword is only applicable to integer data, and will be ignored in this HDU. [astropy.io.fits.hdu.image]\n"
     ]
    },
    {
     "data": {
      "application/vnd.jupyter.widget-view+json": {
       "model_id": "ce31d8cb6f374bbbba4576e640d9bc14",
       "version_major": 2,
       "version_minor": 0
      },
      "text/plain": [
       "Files Downloaded:   0%|          | 0/1 [00:00<?, ?file/s]"
      ]
     },
     "metadata": {},
     "output_type": "display_data"
    },
    {
     "data": {
      "application/vnd.jupyter.widget-view+json": {
       "model_id": "8e3e96f7ce8f4132b46390f3e60fecfe",
       "version_major": 2,
       "version_minor": 0
      },
      "text/plain": [
       "aia_lev1_193a_2022_10_20t04_15_40_84z_image_lev1.fits:   0%|          | 0.00/11.9M [00:00<?, ?B/s]"
      ]
     },
     "metadata": {},
     "output_type": "display_data"
    },
    {
     "name": "stderr",
     "output_type": "stream",
     "text": [
      "WARNING: VerifyWarning: Invalid 'BLANK' keyword in header.  The 'BLANK' keyword is only applicable to integer data, and will be ignored in this HDU. [astropy.io.fits.hdu.image]\n"
     ]
    },
    {
     "data": {
      "application/vnd.jupyter.widget-view+json": {
       "model_id": "666555b94b0a463aa36edd49e01ae4f1",
       "version_major": 2,
       "version_minor": 0
      },
      "text/plain": [
       "Files Downloaded:   0%|          | 0/1 [00:00<?, ?file/s]"
      ]
     },
     "metadata": {},
     "output_type": "display_data"
    },
    {
     "data": {
      "application/vnd.jupyter.widget-view+json": {
       "model_id": "a70adb7fc38c44a485ea770f0b530f6b",
       "version_major": 2,
       "version_minor": 0
      },
      "text/plain": [
       "aia_lev1_193a_2022_10_20t09_05_04_84z_image_lev1.fits:   0%|          | 0.00/12.0M [00:00<?, ?B/s]"
      ]
     },
     "metadata": {},
     "output_type": "display_data"
    },
    {
     "name": "stderr",
     "output_type": "stream",
     "text": [
      "WARNING: VerifyWarning: Invalid 'BLANK' keyword in header.  The 'BLANK' keyword is only applicable to integer data, and will be ignored in this HDU. [astropy.io.fits.hdu.image]\n"
     ]
    },
    {
     "data": {
      "application/vnd.jupyter.widget-view+json": {
       "model_id": "fab0640ab8834718b9a9929303f5a179",
       "version_major": 2,
       "version_minor": 0
      },
      "text/plain": [
       "Files Downloaded:   0%|          | 0/1 [00:00<?, ?file/s]"
      ]
     },
     "metadata": {},
     "output_type": "display_data"
    },
    {
     "data": {
      "application/vnd.jupyter.widget-view+json": {
       "model_id": "f71ba0d8112a4ad78d9c7f8b5d10a16b",
       "version_major": 2,
       "version_minor": 0
      },
      "text/plain": [
       "aia_lev1_193a_2022_10_20t19_28_40_84z_image_lev1.fits:   0%|          | 0.00/11.9M [00:00<?, ?B/s]"
      ]
     },
     "metadata": {},
     "output_type": "display_data"
    },
    {
     "name": "stderr",
     "output_type": "stream",
     "text": [
      "WARNING: VerifyWarning: Invalid 'BLANK' keyword in header.  The 'BLANK' keyword is only applicable to integer data, and will be ignored in this HDU. [astropy.io.fits.hdu.image]\n"
     ]
    },
    {
     "data": {
      "application/vnd.jupyter.widget-view+json": {
       "model_id": "8394cb1453d34eab95fd60f141250ae1",
       "version_major": 2,
       "version_minor": 0
      },
      "text/plain": [
       "Files Downloaded:   0%|          | 0/1 [00:00<?, ?file/s]"
      ]
     },
     "metadata": {},
     "output_type": "display_data"
    },
    {
     "data": {
      "application/vnd.jupyter.widget-view+json": {
       "model_id": "c20695e1cad74cdeaac2fec18eed0dc5",
       "version_major": 2,
       "version_minor": 0
      },
      "text/plain": [
       "aia_lev1_193a_2022_10_21t00_57_40_84z_image_lev1.fits:   0%|          | 0.00/11.9M [00:00<?, ?B/s]"
      ]
     },
     "metadata": {},
     "output_type": "display_data"
    },
    {
     "name": "stderr",
     "output_type": "stream",
     "text": [
      "WARNING: VerifyWarning: Invalid 'BLANK' keyword in header.  The 'BLANK' keyword is only applicable to integer data, and will be ignored in this HDU. [astropy.io.fits.hdu.image]\n"
     ]
    },
    {
     "data": {
      "application/vnd.jupyter.widget-view+json": {
       "model_id": "1223acf5b8844c7ab88ec0672a559996",
       "version_major": 2,
       "version_minor": 0
      },
      "text/plain": [
       "Files Downloaded:   0%|          | 0/1 [00:00<?, ?file/s]"
      ]
     },
     "metadata": {},
     "output_type": "display_data"
    },
    {
     "data": {
      "application/vnd.jupyter.widget-view+json": {
       "model_id": "4e11348ec4594d558178d57504b03c31",
       "version_major": 2,
       "version_minor": 0
      },
      "text/plain": [
       "aia_lev1_193a_2022_10_21t04_13_40_84z_image_lev1.fits:   0%|          | 0.00/11.8M [00:00<?, ?B/s]"
      ]
     },
     "metadata": {},
     "output_type": "display_data"
    },
    {
     "name": "stderr",
     "output_type": "stream",
     "text": [
      "WARNING: VerifyWarning: Invalid 'BLANK' keyword in header.  The 'BLANK' keyword is only applicable to integer data, and will be ignored in this HDU. [astropy.io.fits.hdu.image]\n"
     ]
    },
    {
     "data": {
      "application/vnd.jupyter.widget-view+json": {
       "model_id": "eb2037e1f0fe4a7d9a659fa71e1fffb8",
       "version_major": 2,
       "version_minor": 0
      },
      "text/plain": [
       "Files Downloaded:   0%|          | 0/1 [00:00<?, ?file/s]"
      ]
     },
     "metadata": {},
     "output_type": "display_data"
    },
    {
     "data": {
      "application/vnd.jupyter.widget-view+json": {
       "model_id": "3aebf39cbadc43ac8465239415af8398",
       "version_major": 2,
       "version_minor": 0
      },
      "text/plain": [
       "aia_lev1_193a_2022_10_21t11_43_04_84z_image_lev1.fits:   0%|          | 0.00/11.9M [00:00<?, ?B/s]"
      ]
     },
     "metadata": {},
     "output_type": "display_data"
    },
    {
     "name": "stderr",
     "output_type": "stream",
     "text": [
      "WARNING: VerifyWarning: Invalid 'BLANK' keyword in header.  The 'BLANK' keyword is only applicable to integer data, and will be ignored in this HDU. [astropy.io.fits.hdu.image]\n"
     ]
    },
    {
     "data": {
      "application/vnd.jupyter.widget-view+json": {
       "model_id": "702d3b5fbe194ecd80893407c6ba2bcb",
       "version_major": 2,
       "version_minor": 0
      },
      "text/plain": [
       "Files Downloaded:   0%|          | 0/1 [00:00<?, ?file/s]"
      ]
     },
     "metadata": {},
     "output_type": "display_data"
    },
    {
     "data": {
      "application/vnd.jupyter.widget-view+json": {
       "model_id": "bb8edec8b0db4d86b5b2b75acfd615d8",
       "version_major": 2,
       "version_minor": 0
      },
      "text/plain": [
       "aia_lev1_193a_2022_10_21t20_27_40_84z_image_lev1.fits:   0%|          | 0.00/11.9M [00:00<?, ?B/s]"
      ]
     },
     "metadata": {},
     "output_type": "display_data"
    },
    {
     "name": "stderr",
     "output_type": "stream",
     "text": [
      "WARNING: VerifyWarning: Invalid 'BLANK' keyword in header.  The 'BLANK' keyword is only applicable to integer data, and will be ignored in this HDU. [astropy.io.fits.hdu.image]\n"
     ]
    },
    {
     "data": {
      "application/vnd.jupyter.widget-view+json": {
       "model_id": "dd9ab2ff03a748eb96721111f07135ba",
       "version_major": 2,
       "version_minor": 0
      },
      "text/plain": [
       "Files Downloaded:   0%|          | 0/1 [00:00<?, ?file/s]"
      ]
     },
     "metadata": {},
     "output_type": "display_data"
    },
    {
     "name": "stdout",
     "output_type": "stream",
     "text": [
      "1/0 files failed to download. Please check `.errors` for details\n"
     ]
    },
    {
     "data": {
      "application/vnd.jupyter.widget-view+json": {
       "model_id": "7dabd852c0794e32a53f3e3191f537d1",
       "version_major": 2,
       "version_minor": 0
      },
      "text/plain": [
       "Files Downloaded:   0%|          | 0/1 [00:00<?, ?file/s]"
      ]
     },
     "metadata": {},
     "output_type": "display_data"
    },
    {
     "data": {
      "application/vnd.jupyter.widget-view+json": {
       "model_id": "afcf57896ab54b98896559975b9e048f",
       "version_major": 2,
       "version_minor": 0
      },
      "text/plain": [
       "aia_lev1_193a_2022_10_22t09_25_40_84z_image_lev1.fits:   0%|          | 0.00/11.9M [00:00<?, ?B/s]"
      ]
     },
     "metadata": {},
     "output_type": "display_data"
    },
    {
     "name": "stderr",
     "output_type": "stream",
     "text": [
      "WARNING: VerifyWarning: Invalid 'BLANK' keyword in header.  The 'BLANK' keyword is only applicable to integer data, and will be ignored in this HDU. [astropy.io.fits.hdu.image]\n"
     ]
    },
    {
     "data": {
      "application/vnd.jupyter.widget-view+json": {
       "model_id": "7ad1da6f7f634a5b9810aab15f8a5e93",
       "version_major": 2,
       "version_minor": 0
      },
      "text/plain": [
       "Files Downloaded:   0%|          | 0/1 [00:00<?, ?file/s]"
      ]
     },
     "metadata": {},
     "output_type": "display_data"
    },
    {
     "data": {
      "application/vnd.jupyter.widget-view+json": {
       "model_id": "386e13c5fb2f40beb99c9a8800e8ee54",
       "version_major": 2,
       "version_minor": 0
      },
      "text/plain": [
       "aia_lev1_193a_2022_10_22t14_33_04_85z_image_lev1.fits:   0%|          | 0.00/11.9M [00:00<?, ?B/s]"
      ]
     },
     "metadata": {},
     "output_type": "display_data"
    },
    {
     "name": "stderr",
     "output_type": "stream",
     "text": [
      "WARNING: VerifyWarning: Invalid 'BLANK' keyword in header.  The 'BLANK' keyword is only applicable to integer data, and will be ignored in this HDU. [astropy.io.fits.hdu.image]\n"
     ]
    },
    {
     "data": {
      "application/vnd.jupyter.widget-view+json": {
       "model_id": "95557bd233f644238d14dda903681f23",
       "version_major": 2,
       "version_minor": 0
      },
      "text/plain": [
       "Files Downloaded:   0%|          | 0/1 [00:00<?, ?file/s]"
      ]
     },
     "metadata": {},
     "output_type": "display_data"
    },
    {
     "data": {
      "application/vnd.jupyter.widget-view+json": {
       "model_id": "beca835192d3491b90cbdf89f4d86a37",
       "version_major": 2,
       "version_minor": 0
      },
      "text/plain": [
       "aia_lev1_193a_2022_10_22t19_00_40_84z_image_lev1.fits:   0%|          | 0.00/11.9M [00:00<?, ?B/s]"
      ]
     },
     "metadata": {},
     "output_type": "display_data"
    },
    {
     "name": "stderr",
     "output_type": "stream",
     "text": [
      "WARNING: VerifyWarning: Invalid 'BLANK' keyword in header.  The 'BLANK' keyword is only applicable to integer data, and will be ignored in this HDU. [astropy.io.fits.hdu.image]\n"
     ]
    },
    {
     "data": {
      "application/vnd.jupyter.widget-view+json": {
       "model_id": "b4ba3bf5658a4f55b11c8389658f8904",
       "version_major": 2,
       "version_minor": 0
      },
      "text/plain": [
       "Files Downloaded:   0%|          | 0/1 [00:00<?, ?file/s]"
      ]
     },
     "metadata": {},
     "output_type": "display_data"
    },
    {
     "data": {
      "application/vnd.jupyter.widget-view+json": {
       "model_id": "324913ef67674c5d987ac1e373ab30bd",
       "version_major": 2,
       "version_minor": 0
      },
      "text/plain": [
       "aia_lev1_193a_2022_10_22t23_00_04_84z_image_lev1.fits:   0%|          | 0.00/11.9M [00:00<?, ?B/s]"
      ]
     },
     "metadata": {},
     "output_type": "display_data"
    },
    {
     "name": "stderr",
     "output_type": "stream",
     "text": [
      "WARNING: VerifyWarning: Invalid 'BLANK' keyword in header.  The 'BLANK' keyword is only applicable to integer data, and will be ignored in this HDU. [astropy.io.fits.hdu.image]\n"
     ]
    },
    {
     "data": {
      "application/vnd.jupyter.widget-view+json": {
       "model_id": "d0b45653196b4e3d9d7b16da341e7554",
       "version_major": 2,
       "version_minor": 0
      },
      "text/plain": [
       "Files Downloaded:   0%|          | 0/1 [00:00<?, ?file/s]"
      ]
     },
     "metadata": {},
     "output_type": "display_data"
    },
    {
     "data": {
      "application/vnd.jupyter.widget-view+json": {
       "model_id": "0206f0f5ff59422bbb99fcdfd16cd61b",
       "version_major": 2,
       "version_minor": 0
      },
      "text/plain": [
       "aia_lev1_193a_2022_10_23t02_41_40_84z_image_lev1.fits:   0%|          | 0.00/11.9M [00:00<?, ?B/s]"
      ]
     },
     "metadata": {},
     "output_type": "display_data"
    },
    {
     "name": "stderr",
     "output_type": "stream",
     "text": [
      "WARNING: VerifyWarning: Invalid 'BLANK' keyword in header.  The 'BLANK' keyword is only applicable to integer data, and will be ignored in this HDU. [astropy.io.fits.hdu.image]\n"
     ]
    },
    {
     "data": {
      "application/vnd.jupyter.widget-view+json": {
       "model_id": "d6b886c6e42f480c857a281b3b9aee21",
       "version_major": 2,
       "version_minor": 0
      },
      "text/plain": [
       "Files Downloaded:   0%|          | 0/1 [00:00<?, ?file/s]"
      ]
     },
     "metadata": {},
     "output_type": "display_data"
    },
    {
     "data": {
      "application/vnd.jupyter.widget-view+json": {
       "model_id": "04bdc1166b964573a0fe387663fe410d",
       "version_major": 2,
       "version_minor": 0
      },
      "text/plain": [
       "aia_lev1_193a_2022_10_23t12_30_40_84z_image_lev1.fits:   0%|          | 0.00/11.9M [00:00<?, ?B/s]"
      ]
     },
     "metadata": {},
     "output_type": "display_data"
    },
    {
     "name": "stderr",
     "output_type": "stream",
     "text": [
      "WARNING: VerifyWarning: Invalid 'BLANK' keyword in header.  The 'BLANK' keyword is only applicable to integer data, and will be ignored in this HDU. [astropy.io.fits.hdu.image]\n"
     ]
    },
    {
     "data": {
      "application/vnd.jupyter.widget-view+json": {
       "model_id": "5b7f3461e73548919021b70b15449e61",
       "version_major": 2,
       "version_minor": 0
      },
      "text/plain": [
       "Files Downloaded:   0%|          | 0/1 [00:00<?, ?file/s]"
      ]
     },
     "metadata": {},
     "output_type": "display_data"
    },
    {
     "data": {
      "application/vnd.jupyter.widget-view+json": {
       "model_id": "2efd4390f924498eb36d3da699a190d0",
       "version_major": 2,
       "version_minor": 0
      },
      "text/plain": [
       "aia_lev1_193a_2022_10_23t19_25_04_84z_image_lev1.fits:   0%|          | 0.00/11.9M [00:00<?, ?B/s]"
      ]
     },
     "metadata": {},
     "output_type": "display_data"
    },
    {
     "name": "stderr",
     "output_type": "stream",
     "text": [
      "WARNING: VerifyWarning: Invalid 'BLANK' keyword in header.  The 'BLANK' keyword is only applicable to integer data, and will be ignored in this HDU. [astropy.io.fits.hdu.image]\n"
     ]
    },
    {
     "data": {
      "application/vnd.jupyter.widget-view+json": {
       "model_id": "6d3711818ea648aba12d6edec5223664",
       "version_major": 2,
       "version_minor": 0
      },
      "text/plain": [
       "Files Downloaded:   0%|          | 0/1 [00:00<?, ?file/s]"
      ]
     },
     "metadata": {},
     "output_type": "display_data"
    },
    {
     "name": "stdout",
     "output_type": "stream",
     "text": [
      "1/0 files failed to download. Please check `.errors` for details\n"
     ]
    },
    {
     "data": {
      "application/vnd.jupyter.widget-view+json": {
       "model_id": "dfdb729acb4e47d1ac92b003d71ea557",
       "version_major": 2,
       "version_minor": 0
      },
      "text/plain": [
       "Files Downloaded:   0%|          | 0/1 [00:00<?, ?file/s]"
      ]
     },
     "metadata": {},
     "output_type": "display_data"
    },
    {
     "data": {
      "application/vnd.jupyter.widget-view+json": {
       "model_id": "cc82c814829c497bbc1e1d890fec053d",
       "version_major": 2,
       "version_minor": 0
      },
      "text/plain": [
       "aia_lev1_193a_2022_10_24t00_20_40_85z_image_lev1.fits:   0%|          | 0.00/11.9M [00:00<?, ?B/s]"
      ]
     },
     "metadata": {},
     "output_type": "display_data"
    },
    {
     "name": "stderr",
     "output_type": "stream",
     "text": [
      "WARNING: VerifyWarning: Invalid 'BLANK' keyword in header.  The 'BLANK' keyword is only applicable to integer data, and will be ignored in this HDU. [astropy.io.fits.hdu.image]\n"
     ]
    },
    {
     "data": {
      "application/vnd.jupyter.widget-view+json": {
       "model_id": "3719b1968c324fe78d4e881603b7b87b",
       "version_major": 2,
       "version_minor": 0
      },
      "text/plain": [
       "Files Downloaded:   0%|          | 0/1 [00:00<?, ?file/s]"
      ]
     },
     "metadata": {},
     "output_type": "display_data"
    },
    {
     "name": "stdout",
     "output_type": "stream",
     "text": [
      "1/0 files failed to download. Please check `.errors` for details\n"
     ]
    },
    {
     "data": {
      "application/vnd.jupyter.widget-view+json": {
       "model_id": "1be28d32021b4267bf7d32cdd9a46273",
       "version_major": 2,
       "version_minor": 0
      },
      "text/plain": [
       "Files Downloaded:   0%|          | 0/1 [00:00<?, ?file/s]"
      ]
     },
     "metadata": {},
     "output_type": "display_data"
    },
    {
     "data": {
      "application/vnd.jupyter.widget-view+json": {
       "model_id": "64a63c603fec4db4ad9642aa28226035",
       "version_major": 2,
       "version_minor": 0
      },
      "text/plain": [
       "aia_lev1_193a_2022_10_24t03_19_40_84z_image_lev1.fits:   0%|          | 0.00/11.9M [00:00<?, ?B/s]"
      ]
     },
     "metadata": {},
     "output_type": "display_data"
    },
    {
     "name": "stderr",
     "output_type": "stream",
     "text": [
      "WARNING: VerifyWarning: Invalid 'BLANK' keyword in header.  The 'BLANK' keyword is only applicable to integer data, and will be ignored in this HDU. [astropy.io.fits.hdu.image]\n"
     ]
    },
    {
     "data": {
      "application/vnd.jupyter.widget-view+json": {
       "model_id": "487299d3086d459797e582246d690b51",
       "version_major": 2,
       "version_minor": 0
      },
      "text/plain": [
       "Files Downloaded:   0%|          | 0/1 [00:00<?, ?file/s]"
      ]
     },
     "metadata": {},
     "output_type": "display_data"
    },
    {
     "data": {
      "application/vnd.jupyter.widget-view+json": {
       "model_id": "3b8b6acfcbf9468fa07617bae920d033",
       "version_major": 2,
       "version_minor": 0
      },
      "text/plain": [
       "aia_lev1_193a_2022_10_24t12_41_04_85z_image_lev1.fits:   0%|          | 0.00/11.9M [00:00<?, ?B/s]"
      ]
     },
     "metadata": {},
     "output_type": "display_data"
    },
    {
     "name": "stderr",
     "output_type": "stream",
     "text": [
      "WARNING: VerifyWarning: Invalid 'BLANK' keyword in header.  The 'BLANK' keyword is only applicable to integer data, and will be ignored in this HDU. [astropy.io.fits.hdu.image]\n"
     ]
    },
    {
     "data": {
      "application/vnd.jupyter.widget-view+json": {
       "model_id": "36d60751ff294e6f878870a4d80740b4",
       "version_major": 2,
       "version_minor": 0
      },
      "text/plain": [
       "Files Downloaded:   0%|          | 0/1 [00:00<?, ?file/s]"
      ]
     },
     "metadata": {},
     "output_type": "display_data"
    },
    {
     "data": {
      "application/vnd.jupyter.widget-view+json": {
       "model_id": "c0c2e8c5204f43b882f01bd8f5ca28cf",
       "version_major": 2,
       "version_minor": 0
      },
      "text/plain": [
       "aia_lev1_193a_2022_10_24t20_12_40_84z_image_lev1.fits:   0%|          | 0.00/11.9M [00:00<?, ?B/s]"
      ]
     },
     "metadata": {},
     "output_type": "display_data"
    },
    {
     "name": "stderr",
     "output_type": "stream",
     "text": [
      "WARNING: VerifyWarning: Invalid 'BLANK' keyword in header.  The 'BLANK' keyword is only applicable to integer data, and will be ignored in this HDU. [astropy.io.fits.hdu.image]\n"
     ]
    },
    {
     "data": {
      "application/vnd.jupyter.widget-view+json": {
       "model_id": "01864ea554d840faaab613f734c1c202",
       "version_major": 2,
       "version_minor": 0
      },
      "text/plain": [
       "Files Downloaded:   0%|          | 0/1 [00:00<?, ?file/s]"
      ]
     },
     "metadata": {},
     "output_type": "display_data"
    },
    {
     "data": {
      "application/vnd.jupyter.widget-view+json": {
       "model_id": "25485426219a439d957bb54401ac0c7a",
       "version_major": 2,
       "version_minor": 0
      },
      "text/plain": [
       "aia_lev1_193a_2022_10_25t01_37_40_84z_image_lev1.fits:   0%|          | 0.00/12.0M [00:00<?, ?B/s]"
      ]
     },
     "metadata": {},
     "output_type": "display_data"
    },
    {
     "name": "stdout",
     "output_type": "stream",
     "text": [
      "1/0 files failed to download. Please check `.errors` for details\n"
     ]
    },
    {
     "data": {
      "application/vnd.jupyter.widget-view+json": {
       "model_id": "02dbe95bdef242f9b8c8055cf0007314",
       "version_major": 2,
       "version_minor": 0
      },
      "text/plain": [
       "Files Downloaded:   0%|          | 0/1 [00:00<?, ?file/s]"
      ]
     },
     "metadata": {},
     "output_type": "display_data"
    },
    {
     "data": {
      "application/vnd.jupyter.widget-view+json": {
       "model_id": "68ff3c0b1a334b9c8263668f12caee56",
       "version_major": 2,
       "version_minor": 0
      },
      "text/plain": [
       "aia_lev1_193a_2022_10_25t14_37_04_83z_image_lev1.fits:   0%|          | 0.00/12.0M [00:00<?, ?B/s]"
      ]
     },
     "metadata": {},
     "output_type": "display_data"
    },
    {
     "name": "stderr",
     "output_type": "stream",
     "text": [
      "WARNING: VerifyWarning: Invalid 'BLANK' keyword in header.  The 'BLANK' keyword is only applicable to integer data, and will be ignored in this HDU. [astropy.io.fits.hdu.image]\n"
     ]
    },
    {
     "data": {
      "application/vnd.jupyter.widget-view+json": {
       "model_id": "18a71cd4755d40978f1c350215520853",
       "version_major": 2,
       "version_minor": 0
      },
      "text/plain": [
       "Files Downloaded:   0%|          | 0/1 [00:00<?, ?file/s]"
      ]
     },
     "metadata": {},
     "output_type": "display_data"
    },
    {
     "data": {
      "application/vnd.jupyter.widget-view+json": {
       "model_id": "ed69a572c9d840a78c945660f0aab120",
       "version_major": 2,
       "version_minor": 0
      },
      "text/plain": [
       "aia_lev1_193a_2022_10_25t19_00_40_83z_image_lev1.fits:   0%|          | 0.00/12.0M [00:00<?, ?B/s]"
      ]
     },
     "metadata": {},
     "output_type": "display_data"
    },
    {
     "name": "stderr",
     "output_type": "stream",
     "text": [
      "WARNING: VerifyWarning: Invalid 'BLANK' keyword in header.  The 'BLANK' keyword is only applicable to integer data, and will be ignored in this HDU. [astropy.io.fits.hdu.image]\n"
     ]
    },
    {
     "data": {
      "application/vnd.jupyter.widget-view+json": {
       "model_id": "bc60bd90882a4faaa13966072c114073",
       "version_major": 2,
       "version_minor": 0
      },
      "text/plain": [
       "Files Downloaded:   0%|          | 0/1 [00:00<?, ?file/s]"
      ]
     },
     "metadata": {},
     "output_type": "display_data"
    },
    {
     "data": {
      "application/vnd.jupyter.widget-view+json": {
       "model_id": "890427a87ebe4ccca071abcf218a47a7",
       "version_major": 2,
       "version_minor": 0
      },
      "text/plain": [
       "aia_lev1_193a_2022_10_25t21_31_40_84z_image_lev1.fits:   0%|          | 0.00/12.0M [00:00<?, ?B/s]"
      ]
     },
     "metadata": {},
     "output_type": "display_data"
    },
    {
     "name": "stderr",
     "output_type": "stream",
     "text": [
      "WARNING: VerifyWarning: Invalid 'BLANK' keyword in header.  The 'BLANK' keyword is only applicable to integer data, and will be ignored in this HDU. [astropy.io.fits.hdu.image]\n"
     ]
    },
    {
     "data": {
      "application/vnd.jupyter.widget-view+json": {
       "model_id": "6887390f72da4bb4a83efbaf763906ab",
       "version_major": 2,
       "version_minor": 0
      },
      "text/plain": [
       "Files Downloaded:   0%|          | 0/1 [00:00<?, ?file/s]"
      ]
     },
     "metadata": {},
     "output_type": "display_data"
    },
    {
     "data": {
      "application/vnd.jupyter.widget-view+json": {
       "model_id": "3e19c713b1f046de98f97bb4061bb36e",
       "version_major": 2,
       "version_minor": 0
      },
      "text/plain": [
       "aia_lev1_193a_2022_10_26t01_21_04_84z_image_lev1.fits:   0%|          | 0.00/12.0M [00:00<?, ?B/s]"
      ]
     },
     "metadata": {},
     "output_type": "display_data"
    },
    {
     "name": "stderr",
     "output_type": "stream",
     "text": [
      "WARNING: VerifyWarning: Invalid 'BLANK' keyword in header.  The 'BLANK' keyword is only applicable to integer data, and will be ignored in this HDU. [astropy.io.fits.hdu.image]\n"
     ]
    },
    {
     "data": {
      "application/vnd.jupyter.widget-view+json": {
       "model_id": "eb2fe6cb2fb2442d9ccaf5cc5f7ded22",
       "version_major": 2,
       "version_minor": 0
      },
      "text/plain": [
       "Files Downloaded:   0%|          | 0/1 [00:00<?, ?file/s]"
      ]
     },
     "metadata": {},
     "output_type": "display_data"
    },
    {
     "data": {
      "application/vnd.jupyter.widget-view+json": {
       "model_id": "6a3f404dce4540239b521796e646c4cb",
       "version_major": 2,
       "version_minor": 0
      },
      "text/plain": [
       "aia_lev1_193a_2022_10_26t08_34_04_84z_image_lev1.fits:   0%|          | 0.00/12.0M [00:00<?, ?B/s]"
      ]
     },
     "metadata": {},
     "output_type": "display_data"
    },
    {
     "name": "stderr",
     "output_type": "stream",
     "text": [
      "WARNING: VerifyWarning: Invalid 'BLANK' keyword in header.  The 'BLANK' keyword is only applicable to integer data, and will be ignored in this HDU. [astropy.io.fits.hdu.image]\n"
     ]
    },
    {
     "data": {
      "application/vnd.jupyter.widget-view+json": {
       "model_id": "78ae83a5bb204ca6a5d9e33e5f8228d3",
       "version_major": 2,
       "version_minor": 0
      },
      "text/plain": [
       "Files Downloaded:   0%|          | 0/1 [00:00<?, ?file/s]"
      ]
     },
     "metadata": {},
     "output_type": "display_data"
    },
    {
     "data": {
      "application/vnd.jupyter.widget-view+json": {
       "model_id": "e1a7f26613b84a1085a80913d340a83e",
       "version_major": 2,
       "version_minor": 0
      },
      "text/plain": [
       "aia_lev1_193a_2022_10_26t16_18_40_85z_image_lev1.fits:   0%|          | 0.00/12.0M [00:00<?, ?B/s]"
      ]
     },
     "metadata": {},
     "output_type": "display_data"
    },
    {
     "name": "stderr",
     "output_type": "stream",
     "text": [
      "WARNING: VerifyWarning: Invalid 'BLANK' keyword in header.  The 'BLANK' keyword is only applicable to integer data, and will be ignored in this HDU. [astropy.io.fits.hdu.image]\n"
     ]
    },
    {
     "data": {
      "application/vnd.jupyter.widget-view+json": {
       "model_id": "01320354e0b144d68b39bb8b9368e6d1",
       "version_major": 2,
       "version_minor": 0
      },
      "text/plain": [
       "Files Downloaded:   0%|          | 0/1 [00:00<?, ?file/s]"
      ]
     },
     "metadata": {},
     "output_type": "display_data"
    },
    {
     "data": {
      "application/vnd.jupyter.widget-view+json": {
       "model_id": "969e9d2917e34c349ac8a2c59f72dec2",
       "version_major": 2,
       "version_minor": 0
      },
      "text/plain": [
       "aia_lev1_193a_2022_10_26t21_15_04_84z_image_lev1.fits:   0%|          | 0.00/12.0M [00:00<?, ?B/s]"
      ]
     },
     "metadata": {},
     "output_type": "display_data"
    },
    {
     "name": "stderr",
     "output_type": "stream",
     "text": [
      "WARNING: VerifyWarning: Invalid 'BLANK' keyword in header.  The 'BLANK' keyword is only applicable to integer data, and will be ignored in this HDU. [astropy.io.fits.hdu.image]\n"
     ]
    },
    {
     "data": {
      "application/vnd.jupyter.widget-view+json": {
       "model_id": "3708d07a5aee4a5190c944621116e87d",
       "version_major": 2,
       "version_minor": 0
      },
      "text/plain": [
       "Files Downloaded:   0%|          | 0/1 [00:00<?, ?file/s]"
      ]
     },
     "metadata": {},
     "output_type": "display_data"
    },
    {
     "data": {
      "application/vnd.jupyter.widget-view+json": {
       "model_id": "385b3357caba4d9d835fe4558aaa4b34",
       "version_major": 2,
       "version_minor": 0
      },
      "text/plain": [
       "aia_lev1_193a_2022_10_27t13_21_04_83z_image_lev1.fits:   0%|          | 0.00/12.0M [00:00<?, ?B/s]"
      ]
     },
     "metadata": {},
     "output_type": "display_data"
    },
    {
     "name": "stderr",
     "output_type": "stream",
     "text": [
      "WARNING: VerifyWarning: Invalid 'BLANK' keyword in header.  The 'BLANK' keyword is only applicable to integer data, and will be ignored in this HDU. [astropy.io.fits.hdu.image]\n"
     ]
    },
    {
     "data": {
      "application/vnd.jupyter.widget-view+json": {
       "model_id": "5fe9c1777aec4b1a94f7cf534e88bfaf",
       "version_major": 2,
       "version_minor": 0
      },
      "text/plain": [
       "Files Downloaded:   0%|          | 0/1 [00:00<?, ?file/s]"
      ]
     },
     "metadata": {},
     "output_type": "display_data"
    },
    {
     "data": {
      "application/vnd.jupyter.widget-view+json": {
       "model_id": "05c93ff1323545e28112965b3fcd4791",
       "version_major": 2,
       "version_minor": 0
      },
      "text/plain": [
       "aia_lev1_193a_2022_10_28t12_00_40_83z_image_lev1.fits:   0%|          | 0.00/12.1M [00:00<?, ?B/s]"
      ]
     },
     "metadata": {},
     "output_type": "display_data"
    },
    {
     "name": "stderr",
     "output_type": "stream",
     "text": [
      "WARNING: VerifyWarning: Invalid 'BLANK' keyword in header.  The 'BLANK' keyword is only applicable to integer data, and will be ignored in this HDU. [astropy.io.fits.hdu.image]\n"
     ]
    },
    {
     "data": {
      "application/vnd.jupyter.widget-view+json": {
       "model_id": "a9627adfccad4652a98ae6f855f916cf",
       "version_major": 2,
       "version_minor": 0
      },
      "text/plain": [
       "Files Downloaded:   0%|          | 0/1 [00:00<?, ?file/s]"
      ]
     },
     "metadata": {},
     "output_type": "display_data"
    },
    {
     "data": {
      "application/vnd.jupyter.widget-view+json": {
       "model_id": "fdc5353fd24c4682a4749bd38a45697d",
       "version_major": 2,
       "version_minor": 0
      },
      "text/plain": [
       "aia_lev1_193a_2022_10_28t13_31_04_84z_image_lev1.fits:   0%|          | 0.00/12.0M [00:00<?, ?B/s]"
      ]
     },
     "metadata": {},
     "output_type": "display_data"
    },
    {
     "name": "stderr",
     "output_type": "stream",
     "text": [
      "WARNING: VerifyWarning: Invalid 'BLANK' keyword in header.  The 'BLANK' keyword is only applicable to integer data, and will be ignored in this HDU. [astropy.io.fits.hdu.image]\n"
     ]
    }
   ],
   "source": [
    "for ii, row_ in eis_list_df[:].iterrows():\n",
    "    obs_average = row_[\"obs_start\"] + (row_[\"obs_end\"] - row_[\"obs_start\"]) / 2\n",
    "    \n",
    "\n",
    "    time_range = a.Time(obs_average, obs_average + datetime.timedelta(seconds=15))\n",
    "\n",
    "    aia_search = Fido.search(time_range,\n",
    "                         a.Instrument.aia,\n",
    "                         a.Wavelength(193*u.angstrom),a.Sample(1*u.minute)) \n",
    "    \n",
    "    downloaded_files = Fido.fetch(aia_search, path=aia_download_dir)\n",
    "\n",
    "    for downloaded_file in downloaded_files:\n",
    "        aia_map = sunpy.map.Map(downloaded_file)\n",
    "        map_updated_pointing = update_pointing(aia_map)\n",
    "        map_registered = register(map_updated_pointing)\n",
    "        map_normalized = normalize_exposure(map_registered)\n",
    "\n",
    "        map_normalized.save(aia_save_dir + os.path.basename(downloaded_file).replace(\"lev1\", \"lev15\"),overwrite=True)\n"
   ]
  },
  {
   "cell_type": "code",
   "execution_count": 38,
   "metadata": {},
   "outputs": [
    {
     "data": {
      "text/plain": [
       "<parfive.results.Results object at 0x7f0bb097cd50>\n",
       "['/home/yjzhu/sunpy/data/aia_lev1_193a_2022_10_19t20_31_40_84z_image_lev1.fits']"
      ]
     },
     "execution_count": 38,
     "metadata": {},
     "output_type": "execute_result"
    }
   ],
   "source": [
    "downloaded_file"
   ]
  }
 ],
 "metadata": {
  "kernelspec": {
   "display_name": "sunpy",
   "language": "python",
   "name": "python3"
  },
  "language_info": {
   "codemirror_mode": {
    "name": "ipython",
    "version": 3
   },
   "file_extension": ".py",
   "mimetype": "text/x-python",
   "name": "python",
   "nbconvert_exporter": "python",
   "pygments_lexer": "ipython3",
   "version": "3.11.7"
  }
 },
 "nbformat": 4,
 "nbformat_minor": 2
}
