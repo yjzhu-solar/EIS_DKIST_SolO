{
 "cells": [
  {
   "cell_type": "code",
   "execution_count": 1,
   "metadata": {},
   "outputs": [],
   "source": [
    "from astropy import units as u\n",
    "from sunpy.net import Fido\n",
    "from sunpy.net import attrs as a\n",
    "import datetime \n",
    "import os\n",
    "import pandas as pd\n",
    "import sunpy\n",
    "import sunpy.map\n",
    "from aiapy.calibrate import normalize_exposure, register, update_pointing"
   ]
  },
  {
   "cell_type": "code",
   "execution_count": 3,
   "metadata": {},
   "outputs": [],
   "source": [
    "eis_obs_average = datetime.datetime(2022,10,22,22,12,41)\n",
    "time_range = a.Time(eis_obs_average - datetime.timedelta(seconds=7), \n",
    "                    eis_obs_average + datetime.timedelta(seconds=7))\n",
    "\n",
    "aia_search_193 = Fido.search(time_range,\n",
    "                         a.Instrument.aia,\n",
    "                         a.Wavelength(193*u.angstrom),a.Sample(1*u.minute)) "
   ]
  },
  {
   "cell_type": "code",
   "execution_count": 4,
   "metadata": {},
   "outputs": [
    {
     "data": {
      "text/html": [
       "Results from 1 Provider:</br></br>1 Results from the VSOClient:</br><div><i>VSOQueryResponseTable length=1</i>\n",
       "<table id=\"table140507055857872\" class=\"table-striped table-bordered table-condensed\">\n",
       "<thead><tr><th>Start Time</th><th>End Time</th><th>Source</th><th>Instrument</th><th>Wavelength</th><th>Provider</th><th>Physobs</th><th>Wavetype</th><th>Extent Width</th><th>Extent Length</th><th>Extent Type</th><th>Size</th></tr></thead>\n",
       "<thead><tr><th></th><th></th><th></th><th></th><th>Angstrom</th><th></th><th></th><th></th><th></th><th></th><th></th><th>Mibyte</th></tr></thead>\n",
       "<thead><tr><th>Time</th><th>Time</th><th>str3</th><th>str3</th><th>float64[2]</th><th>str4</th><th>str9</th><th>str6</th><th>str4</th><th>str4</th><th>str8</th><th>float64</th></tr></thead>\n",
       "<tr><td>2022-10-22 22:12:40.000</td><td>2022-10-22 22:12:41.000</td><td>SDO</td><td>AIA</td><td>193.0 .. 193.0</td><td>JSOC</td><td>intensity</td><td>NARROW</td><td>4096</td><td>4096</td><td>FULLDISK</td><td>64.64844</td></tr>\n",
       "</table></div></br>"
      ],
      "text/plain": [
       "<sunpy.net.fido_factory.UnifiedResponse object at 0x7fca5b5c74d0>\n",
       "Results from 1 Provider:\n",
       "\n",
       "1 Results from the VSOClient:\n",
       "Source: http://vso.stanford.edu/cgi-bin/search\n",
       "Total estimated size: 67.789 Mbyte\n",
       "\n",
       "       Start Time               End Time        Source ... Extent Type   Size  \n",
       "                                                       ...              Mibyte \n",
       "----------------------- ----------------------- ------ ... ----------- --------\n",
       "2022-10-22 22:12:40.000 2022-10-22 22:12:41.000    SDO ...    FULLDISK 64.64844\n"
      ]
     },
     "execution_count": 4,
     "metadata": {},
     "output_type": "execute_result"
    }
   ],
   "source": [
    "aia_search_193"
   ]
  },
  {
   "cell_type": "code",
   "execution_count": null,
   "metadata": {},
   "outputs": [],
   "source": []
  }
 ],
 "metadata": {
  "kernelspec": {
   "display_name": "sunpy",
   "language": "python",
   "name": "python3"
  },
  "language_info": {
   "codemirror_mode": {
    "name": "ipython",
    "version": 3
   },
   "file_extension": ".py",
   "mimetype": "text/x-python",
   "name": "python",
   "nbconvert_exporter": "python",
   "pygments_lexer": "ipython3",
   "version": "3.11.7"
  }
 },
 "nbformat": 4,
 "nbformat_minor": 2
}
