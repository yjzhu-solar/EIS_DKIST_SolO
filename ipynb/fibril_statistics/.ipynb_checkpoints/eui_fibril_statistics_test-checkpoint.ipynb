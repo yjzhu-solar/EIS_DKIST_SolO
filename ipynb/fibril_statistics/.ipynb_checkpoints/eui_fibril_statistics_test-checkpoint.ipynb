{
 "cells": [
  {
   "cell_type": "code",
   "execution_count": 8,
   "id": "258b40a8-a7cc-4779-841f-5dbd5bc5f4a1",
   "metadata": {},
   "outputs": [],
   "source": [
    "import numpy as np\n",
    "import matplotlib.pyplot as plt\n",
    "import h5py\n",
    "from glob import glob\n",
    "import os"
   ]
  },
  {
   "cell_type": "code",
   "execution_count": 3,
   "id": "0b94c248-56fc-4a74-bcb7-c1e8c8b8d5af",
   "metadata": {},
   "outputs": [],
   "source": [
    "no_upflow_fit_params = []\n",
    "no_upflow_fit_xdata = []\n",
    "no_upflow_fit_curve = []\n",
    "\n",
    "upflow_fit_params = []\n",
    "upflow_fit_xdata = []\n",
    "upflow_fit_curve = []"
   ]
  },
  {
   "cell_type": "code",
   "execution_count": 6,
   "id": "bf1a81d1-3a52-401a-8544-835ada8702d4",
   "metadata": {},
   "outputs": [
    {
     "data": {
      "text/plain": [
       "['../../sav/dynamic_fibrils/upflow/F1/',\n",
       " '../../sav/dynamic_fibrils/upflow/F2/',\n",
       " '../../sav/dynamic_fibrils/upflow/F3/',\n",
       " '../../sav/dynamic_fibrils/upflow/F4/',\n",
       " '../../sav/dynamic_fibrils/upflow/F5/',\n",
       " '../../sav/dynamic_fibrils/upflow/F6/',\n",
       " '../../sav/dynamic_fibrils/upflow/F7/',\n",
       " '../../sav/dynamic_fibrils/upflow/F8/',\n",
       " '../../sav/dynamic_fibrils/upflow/F9/']"
      ]
     },
     "execution_count": 6,
     "metadata": {},
     "output_type": "execute_result"
    }
   ],
   "source": [
    "upflow_slit_dirs = sorted(glob('../../sav/dynamic_fibrils/upflow/F*/',recursive=True))\n",
    "upflow_slit_dirs"
   ]
  },
  {
   "cell_type": "code",
   "execution_count": 7,
   "id": "f8063902-6e0f-48f7-9d4b-776f905f1bee",
   "metadata": {},
   "outputs": [
    {
     "data": {
      "text/plain": [
       "['../../sav/dynamic_fibrils/no_upflow/M1',\n",
       " '../../sav/dynamic_fibrils/no_upflow/M2',\n",
       " '../../sav/dynamic_fibrils/no_upflow/M3',\n",
       " '../../sav/dynamic_fibrils/no_upflow/M4',\n",
       " '../../sav/dynamic_fibrils/no_upflow/M5']"
      ]
     },
     "execution_count": 7,
     "metadata": {},
     "output_type": "execute_result"
    }
   ],
   "source": [
    "no_upflow_slit_dirs = sorted(glob('../../sav/dynamic_fibrils/no_upflow/M*',recursive=True))\n",
    "no_upflow_slit_dirs"
   ]
  },
  {
   "cell_type": "code",
   "execution_count": 121,
   "id": "48cc9b79-4a58-4f0d-904e-1f90bc81ccb5",
   "metadata": {},
   "outputs": [],
   "source": [
    "upflow_fit_number = 0\n",
    "\n",
    "\n",
    "upflow_fit_params = []\n",
    "upflow_fit_xdata = []\n",
    "upflow_fit_curve = []\n",
    "\n",
    "no_upflow_fit_params = []\n",
    "no_upflow_fit_xdata = []\n",
    "no_upflow_fit_curve = []\n",
    "\n",
    "\n",
    "for ii, dir in enumerate(upflow_slit_dirs):\n",
    "    with h5py.File(os.path.join(dir, 'spacetime_fit.h5'),'r') as hf:\n",
    "        keys = hf.keys()\n",
    "        fit_number = hf['fit_number'][()]\n",
    "        upflow_fit_number += fit_number \n",
    "\n",
    "        if ii == 0:\n",
    "            upflow_fit_params = hf['fit_params_world'][()]\n",
    "        else:\n",
    "            upflow_fit_params = np.vstack((upflow_fit_params, hf['fit_params_world'][()]))\n",
    "\n",
    "        for jj in range(fit_number):\n",
    "            upflow_fit_curve.append(hf[f'fit_curves_world_{jj}'][()])\n",
    "            upflow_fit_xdata.append(hf[f'fit_xdata_world_{jj}'][()])\n",
    "\n",
    "\n",
    "no_upflow_fit_number = 0\n",
    "for ii, dir in enumerate(no_upflow_slit_dirs):\n",
    "    with h5py.File(os.path.join(dir, 'spacetime_fit.h5'),'r') as hf:\n",
    "        keys = hf.keys()\n",
    "        fit_number = hf['fit_params_world'][()].shape[0]\n",
    "        no_upflow_fit_number += fit_number \n",
    "\n",
    "        if ii == 0:\n",
    "            no_upflow_fit_params = hf['fit_params_world'][()]\n",
    "        else:\n",
    "            no_upflow_fit_params = np.vstack((no_upflow_fit_params, hf['fit_params_world'][()]))\n",
    "\n",
    "        for jj in range(fit_number):\n",
    "            \n",
    "            no_upflow_fit_curve.append(hf[f'fit_curves_world_{jj}'][()])\n",
    "            no_upflow_fit_xdata.append(hf[f'fit_xdata_world_{jj}'][()])"
   ]
  },
  {
   "cell_type": "code",
   "execution_count": 122,
   "id": "3d62df52-a1a9-41a0-b3a6-134948a0ead1",
   "metadata": {},
   "outputs": [],
   "source": [
    "def get_duration_height_speed_acceleration(fit_params, fit_curves, fit_xdata):\n",
    "    xdata_start = [xdata_[0] for xdata_ in fit_xdata]\n",
    "    xdata_end = [xdata_[-1] for xdata_ in fit_xdata]\n",
    "    ydata_start = [ydata_[0] for ydata_ in fit_curves]\n",
    "    ydata_end = [ydata_[-1] for ydata_ in fit_curves]\n",
    "    t_max_height = - fit_params[:,1]/2/fit_params[:,0]\n",
    "    max_height = fit_params[:,0]*t_max_height**2 + fit_params[:,1]*t_max_height + fit_params[:,2] - np.nanmin([ydata_start,ydata_end],axis=0)\n",
    "\n",
    "    t_duration = 2*np.nanmax(np.abs(t_max_height[None,:] - np.asarray([xdata_start, xdata_end])),axis=0)\n",
    "    acceleration = 2*fit_params[:,0]\n",
    "    max_speed = np.abs(2*acceleration*(t_max_height - t_duration/2) + fit_params[:,1])\n",
    "\n",
    "    return t_duration, max_height,acceleration, max_speed\n",
    "    "
   ]
  },
  {
   "cell_type": "code",
   "execution_count": 123,
   "id": "5e67e77c-2570-42ce-b874-60a3a8ed791d",
   "metadata": {},
   "outputs": [
    {
     "name": "stderr",
     "output_type": "stream",
     "text": [
      "/tmp/ipykernel_817570/1554460092.py:7: RuntimeWarning: All-NaN axis encountered\n",
      "  max_height = fit_params[:,0]*t_max_height**2 + fit_params[:,1]*t_max_height + fit_params[:,2] - np.nanmin([ydata_start,ydata_end],axis=0)\n",
      "/tmp/ipykernel_817570/1554460092.py:9: RuntimeWarning: All-NaN slice encountered\n",
      "  t_duration = 2*np.nanmax(np.abs(t_max_height[None,:] - np.asarray([xdata_start, xdata_end])),axis=0)\n"
     ]
    }
   ],
   "source": [
    "upflow_duration, upflow_max_h, upflow_acc, upflow_max_v = \\\n",
    "get_duration_height_speed_acceleration(upflow_fit_params, upflow_fit_curve, upflow_fit_xdata)"
   ]
  },
  {
   "cell_type": "code",
   "execution_count": 124,
   "id": "6de81002-f5c0-496c-bd42-9751334fa2b5",
   "metadata": {},
   "outputs": [],
   "source": [
    "no_upflow_duration, no_upflow_max_h, no_upflow_acc, no_upflow_max_v = \\\n",
    "get_duration_height_speed_acceleration(no_upflow_fit_params, no_upflow_fit_curve, no_upflow_fit_xdata)"
   ]
  },
  {
   "cell_type": "code",
   "execution_count": 136,
   "id": "2c359b7f-7917-4cbe-b2c1-31b3ed29bb4e",
   "metadata": {},
   "outputs": [
    {
     "data": {
      "text/plain": [
       "Text(0.5, 0, 'Duration [s]')"
      ]
     },
     "execution_count": 136,
     "metadata": {},
     "output_type": "execute_result"
    },
    {
     "data": {
      "image/png": "[encoded data removed]",
      "text/plain": [
       "<Figure size 640x480 with 4 Axes>"
      ]
     },
     "metadata": {},
     "output_type": "display_data"
    }
   ],
   "source": [
    "upflow_style = dict(facecolor=(245./255,150./255,170./255,0.3),label=\"upflow\",lw=1.5,\n",
    "        ls=\"-\",edgecolor=(245./255,150./255,170./255,1),histtype=\"stepfilled\")\n",
    "no_upflow_style = dict(facecolor=(88./255,178./255,220./255,0.3),label=\"moss\",lw=1.5,\n",
    "        ls=\"-\",edgecolor=(88./255,178./255,220./255,1),histtype=\"stepfilled\")\n",
    "\n",
    "fig, ((ax1,ax2),(ax3,ax4)) = plt.subplots(2,2,layout='constrained')\n",
    "ax1.hist(-upflow_acc*1e3,range=(0,300),bins=10, **upflow_style)\n",
    "ax2.hist(upflow_max_h,range=(500,3000),bins=10, **upflow_style)\n",
    "ax3.hist(upflow_max_v,range=(5,40),bins=10, **upflow_style)\n",
    "ax4.hist(upflow_duration,range=(100,600),bins=10, **upflow_style)\n",
    "\n",
    "ax1.hist(-no_upflow_acc*1e3,range=(0,300),bins=10, **no_upflow_style)\n",
    "ax2.hist(no_upflow_max_h,range=(500,3000),bins=10, **no_upflow_style)\n",
    "ax3.hist(no_upflow_max_v,range=(5,40),bins=10, **no_upflow_style)\n",
    "ax4.hist(no_upflow_duration,range=(100,600),bins=10, **no_upflow_style)\n",
    "\n",
    "ax1.legend(bbox_to_anchor=(0.,1.1,1,0.1),ncol=2,mode=\"expand\",handletextpad=0.4,\n",
    "            handlelength=1.5,frameon=False)\n",
    "\n",
    "ax1.set_xlabel(r'Acceleration [$\\rm m\\,s^{-2}$]')\n",
    "ax2.set_xlabel(r'Height [$\\rm km$]')\n",
    "ax3.set_xlabel(r'$v_{\\rm max}$ [$\\rm km\\,s^{-1}$]')\n",
    "ax4.set_xlabel(r'Duration [s]')"
   ]
  }
 ],
 "metadata": {
  "kernelspec": {
   "display_name": "Python 3 (ipykernel)",
   "language": "python",
   "name": "python3"
  },
  "language_info": {
   "codemirror_mode": {
    "name": "ipython",
    "version": 3
   },
   "file_extension": ".py",
   "mimetype": "text/x-python",
   "name": "python",
   "nbconvert_exporter": "python",
   "pygments_lexer": "ipython3",
   "version": "3.11.5"
  }
 },
 "nbformat": 4,
 "nbformat_minor": 5
}
