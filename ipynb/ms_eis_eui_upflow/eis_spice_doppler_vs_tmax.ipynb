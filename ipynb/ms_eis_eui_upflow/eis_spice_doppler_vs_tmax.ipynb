{
 "cells": [
  {
   "cell_type": "markdown",
   "metadata": {},
   "source": [
    "<a id='notebook-top'></a>\n",
    "This notebook plots the comparison between temperature-dependent Doppler shifts in the east upflow region and the west upflow region. The Doppler shifts were measured by Hinode/EIS and SolO/SPICE from different vantage points so they were deprojected assuming the flows are radial. \n",
    "Link to [Figure 4](#figure-4).\n",
    "\n",
    "Note: The internal hyperlink only works on [GitHub Pages](https://yjzhu-solar.github.io/EIS_DKIST_SolO/eis_eui_upflow_ipynb_html/eis_spice_doppler_vs_tmax.html) or [nbviewer](https://nbviewer.org/github/yjzhu-solar/EIS_DKIST_SolO/blob/master/ipynb/ms_eis_eui_upflow/eis_spice_doppler_vs_tmax.ipynb). Do not click when viewing the notebook on GitHub."
   ]
  },
  {
   "cell_type": "code",
   "execution_count": 1,
   "metadata": {},
   "outputs": [],
   "source": [
    "import matplotlib.pyplot as plt\n",
    "import numpy as np\n",
    "import h5py\n",
    "from matplotlib import rc_context\n",
    "from astropy.coordinates import SkyCoord\n",
    "from sunpy.coordinates import (Helioprojective, HeliographicStonyhurst,\n",
    "                               get_horizons_coord)\n",
    "\n",
    "import astropy.units as u\n"
   ]
  },
  {
   "cell_type": "code",
   "execution_count": 2,
   "metadata": {},
   "outputs": [],
   "source": [
    "ms_style_dict = {'text.usetex': True, 'font.family': 'serif', 'axes.linewidth': 1.2,\n",
    "                 'xtick.major.width': 1.2, 'xtick.major.size': 4,\n",
    "                 'ytick.major.width': 1.2, 'ytick.major.size': 4,\n",
    "                 'xtick.minor.width': 1.2, 'xtick.minor.size': 2,\n",
    "                 'ytick.minor.width': 1.2, 'ytick.minor.size': 2,\n",
    "                 'xtick.direction': 'in', 'ytick.direction': 'in',\n",
    "                 'text.latex.preamble': r'\\usepackage[T1]{fontenc}'\n",
    "                 r'\\usepackage{amsmath}' r'\\usepackage{siunitx}'\n",
    "                 r'\\sisetup{detect-all=True}' r'\\usepackage{fixltx2e}'}"
   ]
  },
  {
   "cell_type": "code",
   "execution_count": 3,
   "metadata": {},
   "outputs": [],
   "source": [
    "with h5py.File('../../sav/EIS/Doppler/west_upflow_doppler_violin.h5', 'r') as hf:\n",
    "    fe_12_195_west = hf['fe_12_195'][:]\n",
    "    fe_08_185_west = hf['fe_08_185'][:]\n",
    "    fe_09_197_west = hf['fe_09_197'][:]\n",
    "    fe_10_184_west = hf['fe_10_184'][:]\n",
    "    fe_11_188_west = hf['fe_11_188'][:]\n",
    "    fe_13_203_west = hf['fe_13_202'][:]\n",
    "    si_07_275_west = hf['si_07_275'][:]\n",
    "\n",
    "with h5py.File('../../sav/EIS/Doppler/east_upflow_doppler_violin.h5', 'r') as hf:\n",
    "    fe_12_195_east = hf['fe_12_195'][:]\n",
    "    fe_08_185_east = hf['fe_08_185'][:]\n",
    "    fe_09_197_east = hf['fe_09_197'][:]\n",
    "    fe_10_184_east = hf['fe_10_184'][:]\n",
    "    fe_11_188_east = hf['fe_11_188'][:]\n",
    "    fe_13_203_east = hf['fe_13_202'][:]\n",
    "    fe_14_264_east = hf['fe_14_264'][:]\n"
   ]
  },
  {
   "cell_type": "code",
   "execution_count": 4,
   "metadata": {},
   "outputs": [],
   "source": [
    "fe_12_195_west = fe_12_195_west[np.abs(fe_12_195_west) < 60]\n",
    "fe_08_185_west = fe_08_185_west[np.abs(fe_08_185_west) < 60]\n",
    "fe_09_197_west = fe_09_197_west[np.abs(fe_09_197_west) < 60]\n",
    "fe_10_184_west = fe_10_184_west[np.abs(fe_10_184_west) < 60]\n",
    "fe_11_188_west = fe_11_188_west[np.abs(fe_11_188_west) < 60]\n",
    "fe_13_203_west = fe_13_203_west[np.abs(fe_13_203_west) < 60]\n",
    "si_07_275_west = si_07_275_west[np.abs(si_07_275_west) < 60]\n",
    "fe_12_195_east = fe_12_195_east[np.abs(fe_12_195_east) < 60]\n",
    "fe_08_185_east = fe_08_185_east[np.abs(fe_08_185_east) < 60]\n",
    "fe_09_197_east = fe_09_197_east[np.abs(fe_09_197_east) < 60]\n",
    "fe_10_184_east = fe_10_184_east[np.abs(fe_10_184_east) < 60]\n",
    "fe_11_188_east = fe_11_188_east[np.abs(fe_11_188_east) < 60]\n",
    "fe_13_203_east = fe_13_203_east[np.abs(fe_13_203_east) < 60]\n",
    "fe_14_264_east = fe_14_264_east[np.abs(fe_14_264_east) < 60]\n"
   ]
  },
  {
   "cell_type": "code",
   "execution_count": 5,
   "metadata": {},
   "outputs": [],
   "source": [
    "with h5py.File('../../sav/SPICE/upflow_region/east_upflow_violin_spice.h5', 'r') as hf:\n",
    "    ne_8_770_east = hf['ne_8_770_vel'][:]\n",
    "\n",
    "with h5py.File('../../sav/SPICE/upflow_region/west_upflow_violin_spice.h5', 'r') as hf:\n",
    "    ne_8_770_west = hf['ne_8_770_vel'][:]\n",
    "    ne_8_770_west = ne_8_770_west[np.abs(ne_8_770_west) < 40]\n",
    "\n",
    "with h5py.File('../../sav/SPICE/upflow_region/west_loop_footpoint_violin_spice.h5', 'r') as hf:\n",
    "    ne_8_770_west_loop = hf['ne_8_770_vel'][:]\n",
    "    ne_8_770_west_loop = ne_8_770_west_loop[np.abs(ne_8_770_west_loop) < 40]"
   ]
  },
  {
   "cell_type": "code",
   "execution_count": 6,
   "metadata": {},
   "outputs": [],
   "source": [
    "def adjacent_values(vals, q1, q3):\n",
    "    upper_adjacent_value = q3 + (q3 - q1) * 1.5\n",
    "    upper_adjacent_value = np.min((np.max(vals), upper_adjacent_value))\n",
    "\n",
    "    lower_adjacent_value = q1 - (q3 - q1) * 1.5\n",
    "    lower_adjacent_value = np.max((np.min(vals), lower_adjacent_value))\n",
    "    return lower_adjacent_value, upper_adjacent_value"
   ]
  },
  {
   "cell_type": "code",
   "execution_count": 7,
   "metadata": {},
   "outputs": [
    {
     "name": "stdout",
     "output_type": "stream",
     "text": [
      "0.4395754728334729 0.8394366693376129\n"
     ]
    }
   ],
   "source": [
    "eis_west_helioproj = SkyCoord(-830*u.arcsec, 210*u.arcsec, \n",
    "                              frame=Helioprojective(observer='earth', obstime='2022-10-21T00:15:00'))\n",
    "\n",
    "eis_west_heliograp = eis_west_helioproj.transform_to(HeliographicStonyhurst)\n",
    "eis_west_cos = eis_west_heliograp.cartesian.xyz[0]/np.linalg.norm(eis_west_heliograp.cartesian.xyz)\n",
    "eis_west_cos = np.abs(eis_west_cos.value)\n",
    "\n",
    "eis_east_helioproj = SkyCoord(-450*u.arcsec, 200*u.arcsec,\n",
    "                                frame=Helioprojective(observer='earth', obstime='2022-10-25T02:20:00'))\n",
    "eis_east_heliograp = eis_east_helioproj.transform_to(HeliographicStonyhurst)\n",
    "eis_east_cos = eis_east_heliograp.cartesian.xyz[0]/np.linalg.norm(eis_east_heliograp.cartesian.xyz)\n",
    "eis_east_cos = np.abs(eis_east_cos.value)\n",
    "\n",
    "print(eis_west_cos, eis_east_cos)"
   ]
  },
  {
   "cell_type": "code",
   "execution_count": 8,
   "metadata": {},
   "outputs": [
    {
     "name": "stdout",
     "output_type": "stream",
     "text": [
      "INFO: Obtained JPL HORIZONS location for Solar Orbiter (spacecraft) (-144 [sunpy.coordinates.ephemeris]\n",
      "INFO: Obtained JPL HORIZONS location for Solar Orbiter (spacecraft) (-144 [sunpy.coordinates.ephemeris]\n",
      "0.9766769664894775 0.9366192629092313\n"
     ]
    }
   ],
   "source": [
    "solo_west_heliograp = get_horizons_coord('solar orbiter', '2022-10-20T23:15:00')\n",
    "spice_west_helioproj = SkyCoord(-70*u.arcsec, 600*u.arcsec,\n",
    "                                frame=Helioprojective(observer=solo_west_heliograp,\n",
    "                                                      obstime='2022-10-20T23:15:00'))\n",
    "spice_west_heliograp = spice_west_helioproj.transform_to(HeliographicStonyhurst)\n",
    "spice_west_cos = np.dot(solo_west_heliograp.cartesian.xyz,spice_west_heliograp.cartesian.xyz)/ \\\n",
    "                    (np.linalg.norm(solo_west_heliograp.cartesian.xyz)*np.linalg.norm(spice_west_heliograp.cartesian.xyz))\n",
    "spice_west_cos = np.abs(spice_west_cos.value)\n",
    "\n",
    "solo_east_heliograp = get_horizons_coord('solar orbiter', '2022-10-24T23:20:00')\n",
    "spice_east_helioproj = SkyCoord(720*u.arcsec, 470*u.arcsec,\n",
    "                                frame=Helioprojective(observer=solo_east_heliograp,\n",
    "                                                      obstime='2022-10-24T23:20:00'))\n",
    "spice_east_heliograp = spice_east_helioproj.transform_to(HeliographicStonyhurst)\n",
    "spice_east_cos = np.dot(solo_east_heliograp.cartesian.xyz,spice_east_heliograp.cartesian.xyz)/ \\\n",
    "                    (np.linalg.norm(solo_east_heliograp.cartesian.xyz)*np.linalg.norm(spice_east_heliograp.cartesian.xyz))\n",
    "spice_east_cos = np.abs(spice_east_cos.value)\n",
    "\n",
    "print(spice_west_cos, spice_east_cos)"
   ]
  },
  {
   "cell_type": "markdown",
   "metadata": {},
   "source": [
    "<a id='figure-4'></a>\n",
    "### Figure 4\n",
    "(You may have to pull down to see the notebook preview of the figure)\n",
    "\n",
    "[back to top](#notebook-top) "
   ]
  },
  {
   "cell_type": "code",
   "execution_count": 9,
   "metadata": {},
   "outputs": [
    {
     "data": {
      "image/png": "[encoded data removed]",
      "text/plain": [
       "<Figure size 600x350 with 1 Axes>"
      ]
     },
     "metadata": {},
     "output_type": "display_data"
    }
   ],
   "source": [
    "with rc_context(ms_style_dict):\n",
    "    fig, ax = plt.subplots(layout='constrained', figsize=(6,3.5))\n",
    "\n",
    "    labels = [r'Si\\,\\textsc{vii} 27.5', r'Fe\\,\\textsc{viii} 18.5', r'Ne\\,\\textsc{viii} 77.0', r'Fe\\,\\textsc{ix} 19.7',\n",
    "              r'Fe\\,\\textsc{x} 18.4', r'Fe\\,\\textsc{xi} 18.8', r'Fe\\,\\textsc{xii} 19.5', r'Fe\\,\\textsc{xiii} 20.3',\n",
    "              r'Fe\\,\\textsc{xiv} 26.4']\n",
    "    \n",
    "    for ii, label in enumerate(labels):\n",
    "        label_split = label.split(' ')\n",
    "        if len(label_split) == 2:\n",
    "            label = label_split[0] + '\\n' + label_split[1] + r' nm'\n",
    "            labels[ii] = label\n",
    "    \n",
    "    labels[2] = labels[2] + r'\\textsuperscript{\\textdagger}'\n",
    "\n",
    "\n",
    "    all_data_west = [si_07_275_west/eis_west_cos, fe_08_185_west/eis_west_cos,\n",
    "                     ne_8_770_west/spice_west_cos,fe_09_197_west/eis_west_cos, \n",
    "                     fe_10_184_west/eis_west_cos, fe_11_188_west/eis_west_cos,\n",
    "                     fe_12_195_west/eis_west_cos, fe_13_203_west/eis_west_cos]\n",
    "    position_west = np.array([1,2,3,4,5,6,7,8])\n",
    "\n",
    "    all_data_east = [fe_08_185_east/eis_east_cos, ne_8_770_east/spice_east_cos,\n",
    "                        fe_09_197_east/eis_east_cos, fe_10_184_east/eis_east_cos,\n",
    "                        fe_11_188_east/eis_east_cos, fe_12_195_east/eis_east_cos,\n",
    "                        fe_13_203_east/eis_east_cos, fe_14_264_east/eis_east_cos]\n",
    "\n",
    "\n",
    "    position_east = np.array([2,3,4,5,6,7,8,9])\n",
    "\n",
    "    all_data_west_loop = [ne_8_770_west_loop/spice_west_cos]\n",
    "\n",
    "    position_west_loop = np.array([3])\n",
    "\n",
    "                    \n",
    "    vp_west = ax.violinplot(all_data_west, positions=position_west,showmeans=False,\n",
    "                        showmedians=False, showextrema=False,\n",
    "                        side='high')\n",
    "\n",
    "    vp_east = ax.violinplot(all_data_east, positions=position_east,showmeans=False,\n",
    "                            showmedians=False, showextrema=False,\n",
    "                            side='low')\n",
    "    \n",
    "    vp_west_loop = ax.violinplot(all_data_west_loop, positions=position_west_loop,showmeans=False,\n",
    "                            showmedians=False, showextrema=False,\n",
    "                            side='high')\n",
    "\n",
    "    for pc in vp_west['bodies']:\n",
    "        pc.set_facecolor((27/255.,129/255.,62/255.,0.5))\n",
    "        pc.set_edgecolor((27/255.,129/255.,62/255.,1))\n",
    "        pc.set_offsets([1.5,0])\n",
    "\n",
    "    for pc in vp_east['bodies']:\n",
    "        pc.set_facecolor((106/255.,76/255.,156/255.,0.5))\n",
    "        pc.set_edgecolor((106/255.,76/255.,156/255.,1))\n",
    "        pc.set_offsets([-1.5,0])\n",
    "\n",
    "    for pc in vp_west_loop['bodies']:\n",
    "        pc.set_facecolor((249/255.,191/255.,69/255.,0.5))\n",
    "        pc.set_edgecolor((249/255.,191/255.,69/255.,1))\n",
    "        pc.set_offsets([1.5,0])\n",
    "\n",
    "    west_quartile1, west_medians, west_quartile3 = [], [], []\n",
    "\n",
    "    for data in all_data_west:\n",
    "        west_quartile1.append(np.nanpercentile(data, 25))\n",
    "        west_medians.append(np.nanpercentile(data, 50))\n",
    "        west_quartile3.append(np.nanpercentile(data, 75))\n",
    "\n",
    "    west_whiskers = np.array([\n",
    "        adjacent_values(sorted_array, q1, q3)\n",
    "        for sorted_array, q1, q3 in zip(all_data_west, west_quartile1, west_quartile3)])\n",
    "    west_whiskers_min, west_whiskers_max = west_whiskers[:, 0], west_whiskers[:, 1]\n",
    "\n",
    "    ln_quart_west = ax.vlines(position_west, west_quartile1, west_quartile3, color='#1C1C1C', linestyle='-', lw=2,\n",
    "                            alpha=0.8)\n",
    "    ln_quart_west.set_offsets([3.05,0])\n",
    "    ln_whisker_west = ax.vlines(position_west, west_whiskers_min, west_whiskers_max, color='#1C1C1C', linestyle='-', lw=1,\n",
    "                            alpha=0.8)\n",
    "    ln_whisker_west.set_offsets([1.6,0])\n",
    "    ln_median_west = ax.scatter(position_west+5.2/100, west_medians, marker='_', color='white', s=15,zorder=5)\n",
    "\n",
    "    east_quartile1, east_medians, east_quartile3 = [], [], []\n",
    "\n",
    "    for data in all_data_east:\n",
    "        east_quartile1.append(np.percentile(data, 25))\n",
    "        east_medians.append(np.percentile(data, 50))\n",
    "        east_quartile3.append(np.percentile(data, 75))\n",
    "\n",
    "    east_whiskers = np.array([\n",
    "        adjacent_values(sorted_array, q1, q3)\n",
    "        for sorted_array, q1, q3 in zip(all_data_east, east_quartile1, east_quartile3)])\n",
    "\n",
    "    east_whiskers_min, east_whiskers_max = east_whiskers[:, 0], east_whiskers[:, 1]\n",
    "\n",
    "    ln_quart_east = ax.vlines(position_east, east_quartile1, east_quartile3, color='#1C1C1C', linestyle='-', lw=2,\n",
    "                            alpha=0.8)\n",
    "    ln_quart_east.set_offsets([-3.05,0])\n",
    "    ln_whisker_east = ax.vlines(position_east, east_whiskers_min, east_whiskers_max, color='#1C1C1C', linestyle='-', lw=1,\n",
    "                            alpha=0.8)\n",
    "    ln_whisker_east.set_offsets([-1.6,0])\n",
    "    ln_median_east = ax.scatter(position_east-5.2/100, east_medians, marker='_', color='white', s=15,zorder=5)\n",
    "\n",
    "\n",
    "    legs = ax.legend([vp_east['bodies'][0], vp_west['bodies'][0], vp_west_loop['bodies'][0]], ['East', 'West', 'West FP'], frameon=False)\n",
    "\n",
    "    # renderer = fig.canvas.get_renderer()\n",
    "    # shift = max([t.get_window_extent(renderer).width for t in legs.get_texts()])\n",
    "    # for t in legs.get_texts():\n",
    "    #     text_width = t.get_window_extent().width\n",
    "    #     t.set_position((shift - text_width,0))\n",
    "    # for patch_ in legs.get_patches():\n",
    "    #     patch_.set_x(shift - text_width)\n",
    "\n",
    "\n",
    "    ax.axhline(0, color='grey', lw=0.5, ls=':',alpha=0.5, zorder=0)\n",
    "\n",
    "    ax.set_xticks(np.arange(1, len(labels) + 1), labels=labels)\n",
    "    ax.set_xlim(0.25, len(labels) + 0.75)\n",
    "    ax.set_ylim(-30,30)\n",
    "    ax.set_ylabel(r'$v_{r}\\ \\mathrm{(Deprojected)}\\ \\mathrm{(km\\,s^{-1})}$')\n",
    "\n",
    "    plt.savefig('../../figs/ms_eis_eui_upflow/eis_spice_doppler_vs_tmax.pdf', dpi=300, bbox_inches='tight')\n",
    "    plt.show()"
   ]
  }
 ],
 "metadata": {
  "kernelspec": {
   "display_name": "sunpy",
   "language": "python",
   "name": "python3"
  },
  "language_info": {
   "codemirror_mode": {
    "name": "ipython",
    "version": 3
   },
   "file_extension": ".py",
   "mimetype": "text/x-python",
   "name": "python",
   "nbconvert_exporter": "python",
   "pygments_lexer": "ipython3",
   "version": "3.12.2"
  }
 },
 "nbformat": 4,
 "nbformat_minor": 2
}
