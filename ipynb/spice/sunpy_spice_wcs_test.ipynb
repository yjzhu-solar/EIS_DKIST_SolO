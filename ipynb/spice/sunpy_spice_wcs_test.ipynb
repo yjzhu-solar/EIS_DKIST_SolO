{
 "cells": [
  {
   "cell_type": "code",
   "execution_count": 15,
   "metadata": {},
   "outputs": [],
   "source": [
    "from astropy.io import fits\n",
    "from astropy.wcs import WCS\n",
    "import astropy.units as u\n",
    "import numpy as np\n",
    "import sunpy.coordinates\n",
    "from sunpy.coordinates import Helioprojective\n",
    "from astropy.coordinates import SkyCoord"
   ]
  },
  {
   "cell_type": "code",
   "execution_count": 16,
   "metadata": {},
   "outputs": [
    {
     "name": "stdout",
     "output_type": "stream",
     "text": [
      "[<SkyCoord (Helioprojective: obstime=2022-10-25T00:51:59.753, rsun=695700.0 km, observer=<HeliographicStonyhurst Coordinate (obstime=2022-10-25T00:51:59.753, rsun=695700.0 km): (lon, lat, radius) in (deg, deg, m)\n",
      "    (-50.59290147, 6.48623548, 5.92481369e+10)>): (Tx, Ty) in arcsec\n",
      "    [[[(718.41148829, -46.3682358 ), (718.41148829, -46.3682358 )],\n",
      "      [(722.39804299, -46.04082854), (722.39804299, -46.04082854)]],\n",
      "\n",
      "     [[(718.32161058, -45.27392775), (718.32161058, -45.27392775)],\n",
      "      [(722.30816532, -44.94652046), (722.30816532, -44.94652046)]]]>, <Time object: scale='utc' format='mjd' value=[[[59877.10270249 59877.10271406]\n",
      "  [59877.10200515 59877.10201672]]\n",
      "\n",
      " [[59877.10270249 59877.10271406]\n",
      "  [59877.10200515 59877.10201672]]]>]\n"
     ]
    },
    {
     "name": "stderr",
     "output_type": "stream",
     "text": [
      "WARNING: FITSFixedWarning: CROTA = 4.69506977124 / [deg] S/C counter-clockwise roll rel to Solar N\n",
      "keyword looks very much like CROTAn but isn't. [astropy.wcs.wcs]\n",
      "WARNING: FITSFixedWarning: 'datfix' made the change 'Set MJDREF to 59876.969164 from DATEREF.\n",
      "Set MJD-OBS to 59876.969164 from DATE-OBS.\n",
      "Set MJD-BEG to 59876.969164 from DATE-BEG.\n",
      "Set MJD-AVG to 59877.036108 from DATE-AVG.\n",
      "Set MJD-END to 59877.103050 from DATE-END'. [astropy.wcs.wcs]\n"
     ]
    }
   ],
   "source": [
    "with fits.open('../../src/SPICE/20221024/solo_L2_spice-n-ras_20221024T231535_V07_150995398-000.fits') as hdul:\n",
    "    wcs_spice = WCS(hdul[0].header).dropaxis(2)\n",
    "    x, y, t = np.meshgrid(np.arange(0,2),\n",
    "                        np.arange(0, 2),\n",
    "                        np.arange(0, 2))\n",
    "    print(wcs_spice.pixel_to_world(x,y,t))"
   ]
  },
  {
   "cell_type": "code",
   "execution_count": 7,
   "metadata": {},
   "outputs": [
    {
     "name": "stdout",
     "output_type": "stream",
     "text": [
      "[<SkyCoord (Helioprojective: obstime=2022-10-25T00:51:59.753, rsun=695700.0 km, observer=<HeliographicStonyhurst Coordinate (obstime=2022-10-25T00:51:59.753, rsun=695700.0 km): (lon, lat, radius) in (deg, deg, m)\n",
      "    (-50.59290147, 6.48623548, 5.92481369e+10)>): (Tx, Ty) in arcsec\n",
      "    [[[(718.41148829, -46.3682358 ), (718.41148829, -46.3682358 )],\n",
      "      [(722.39804299, -46.04082854), (722.39804299, -46.04082854)]],\n",
      "\n",
      "     [[(718.32161058, -45.27392775), (718.32161058, -45.27392775)],\n",
      "      [(722.30816532, -44.94652046), (722.30816532, -44.94652046)]]]>, <Time object: scale='utc' format='mjd' value=[[[59877.10270249 59877.10271406]\n",
      "  [59877.10200515 59877.10201672]]\n",
      "\n",
      " [[59877.10270249 59877.10271406]\n",
      "  [59877.10200515 59877.10201672]]]>]\n"
     ]
    },
    {
     "name": "stderr",
     "output_type": "stream",
     "text": [
      "WARNING: FITSFixedWarning: CROTA = 4.69506977124 / [deg] S/C counter-clockwise roll rel to Solar N\n",
      "keyword looks very much like CROTAn but isn't. [astropy.wcs.wcs]\n",
      "WARNING: FITSFixedWarning: 'datfix' made the change 'Set MJDREF to 59876.969164 from DATEREF.\n",
      "Set MJD-OBS to 59876.969164 from DATE-OBS.\n",
      "Set MJD-BEG to 59876.969164 from DATE-BEG.\n",
      "Set MJD-AVG to 59877.036108 from DATE-AVG.\n",
      "Set MJD-END to 59877.103050 from DATE-END'. [astropy.wcs.wcs]\n"
     ]
    }
   ],
   "source": [
    "with fits.open('../../src/SPICE/20221024/solo_L2_spice-n-ras_20221024T231535_V07_150995398-000.fits') as hdul:\n",
    "    wcs_spice = WCS(hdul[0].header).dropaxis(2)\n",
    "    x, y, t = np.meshgrid(np.arange(0,2),\n",
    "                        np.arange(0, 2),\n",
    "                        np.arange(0, 2))\n",
    "    print(wcs_spice.pixel_to_world(x,y,t))"
   ]
  },
  {
   "cell_type": "code",
   "execution_count": 17,
   "metadata": {},
   "outputs": [
    {
     "name": "stdout",
     "output_type": "stream",
     "text": [
      "(array([[[0.19955875, 0.19955875],\n",
      "        [0.20066612, 0.20066612]],\n",
      "\n",
      "       [[0.19953378, 0.19953378],\n",
      "        [0.20064116, 0.20064116]]]), array([[[-0.01288007, -0.01288007],\n",
      "        [-0.01278912, -0.01278912]],\n",
      "\n",
      "       [[-0.01257609, -0.01257609],\n",
      "        [-0.01248514, -0.01248514]]]), array([[[11537.75, 11538.75],\n",
      "        [11477.5 , 11478.5 ]],\n",
      "\n",
      "       [[11537.75, 11538.75],\n",
      "        [11477.5 , 11478.5 ]]]))\n"
     ]
    },
    {
     "name": "stderr",
     "output_type": "stream",
     "text": [
      "WARNING: FITSFixedWarning: CROTA = 4.69506977124 / [deg] S/C counter-clockwise roll rel to Solar N\n",
      "keyword looks very much like CROTAn but isn't. [astropy.wcs.wcs]\n",
      "WARNING: FITSFixedWarning: 'datfix' made the change 'Set MJDREF to 59876.969164 from DATEREF.\n",
      "Set MJD-OBS to 59876.969164 from DATE-OBS.\n",
      "Set MJD-BEG to 59876.969164 from DATE-BEG.\n",
      "Set MJD-AVG to 59877.036108 from DATE-AVG.\n",
      "Set MJD-END to 59877.103050 from DATE-END'. [astropy.wcs.wcs]\n"
     ]
    }
   ],
   "source": [
    "with fits.open('../../src/SPICE/20221024/solo_L2_spice-n-ras_20221024T231535_V07_150995398-000.fits') as hdul:\n",
    "    wcs_spice = WCS(hdul[0].header).dropaxis(2)\n",
    "    x, y, t = np.meshgrid(np.arange(0,2),\n",
    "                        np.arange(0, 2),\n",
    "                        np.arange(0, 2))\n",
    "    print(wcs_spice.pixel_to_world_values(x,y,t))"
   ]
  }
 ],
 "metadata": {
  "kernelspec": {
   "display_name": "sunpy",
   "language": "python",
   "name": "python3"
  },
  "language_info": {
   "codemirror_mode": {
    "name": "ipython",
    "version": 3
   },
   "file_extension": ".py",
   "mimetype": "text/x-python",
   "name": "python",
   "nbconvert_exporter": "python",
   "pygments_lexer": "ipython3",
   "version": "3.12.2"
  }
 },
 "nbformat": 4,
 "nbformat_minor": 2
}
