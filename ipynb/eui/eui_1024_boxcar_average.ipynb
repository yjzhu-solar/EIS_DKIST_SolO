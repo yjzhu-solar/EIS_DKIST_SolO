{
 "cells": [
  {
   "cell_type": "code",
   "execution_count": 1,
   "metadata": {},
   "outputs": [],
   "source": [
    "import sunpy \n",
    "import sunpy.map\n",
    "import astropy\n",
    "import numpy as np\n",
    "import bottleneck as bn\n",
    "from glob import glob"
   ]
  },
  {
   "cell_type": "code",
   "execution_count": 2,
   "metadata": {},
   "outputs": [],
   "source": [
    "eui_files = sorted(glob(\"../../src/EUI/HRI/euv174/20221024/coalign_step/*.fits\"))\n",
    "eui_map_seq_coalign = sunpy.map.Map(eui_files[:],sequence=True)"
   ]
  },
  {
   "cell_type": "code",
   "execution_count": 3,
   "metadata": {},
   "outputs": [],
   "source": [
    "eui_map_array = eui_map_seq_coalign.as_array()"
   ]
  },
  {
   "cell_type": "code",
   "execution_count": 4,
   "metadata": {},
   "outputs": [
    {
     "data": {
      "text/plain": [
       "(2048, 2048, 360)"
      ]
     },
     "execution_count": 4,
     "metadata": {},
     "output_type": "execute_result"
    }
   ],
   "source": [
    "eui_map_array.shape"
   ]
  },
  {
   "cell_type": "code",
   "execution_count": 5,
   "metadata": {},
   "outputs": [],
   "source": [
    "eui_map_array_boxcar_mean = bn.move_mean(eui_map_array,window=6,axis=2,min_count=1)"
   ]
  },
  {
   "cell_type": "code",
   "execution_count": 8,
   "metadata": {},
   "outputs": [],
   "source": [
    "del eui_map_array"
   ]
  },
  {
   "cell_type": "code",
   "execution_count": 9,
   "metadata": {},
   "outputs": [],
   "source": [
    "for ii in range(360):\n",
    "    eui_map_seq_coalign.maps[ii] = sunpy.map.Map(eui_map_array_boxcar_mean[:,:,ii],eui_map_seq_coalign.maps[ii].meta)"
   ]
  },
  {
   "cell_type": "code",
   "execution_count": 10,
   "metadata": {},
   "outputs": [
    {
     "name": "stderr",
     "output_type": "stream",
     "text": [
      "WARNING: VerifyWarning: Invalid 'BLANK' keyword in header.  The 'BLANK' keyword is only applicable to integer data, and will be ignored in this HDU. [astropy.io.fits.hdu.image]\n"
     ]
    }
   ],
   "source": [
    "eui_map_seq_coalign.save(\"../../src/EUI/HRI/euv174/20221024/coalign_step_boxcar/eui_map_seq_coalign_boxcar_{index:03}.fits\",overwrite=True)"
   ]
  },
  {
   "cell_type": "code",
   "execution_count": 8,
   "metadata": {},
   "outputs": [],
   "source": [
    "# np.save(\"../../src/EUI/HRI/euv174/20221024/coalign_step_boxcar/eui_map_array_boxcar_mean.npy\",eui_map_array_boxcar_mean)"
   ]
  }
 ],
 "metadata": {
  "kernelspec": {
   "display_name": "sunpy",
   "language": "python",
   "name": "python3"
  },
  "language_info": {
   "codemirror_mode": {
    "name": "ipython",
    "version": 3
   },
   "file_extension": ".py",
   "mimetype": "text/x-python",
   "name": "python",
   "nbconvert_exporter": "python",
   "pygments_lexer": "ipython3",
   "version": "3.12.2"
  }
 },
 "nbformat": 4,
 "nbformat_minor": 2
}
