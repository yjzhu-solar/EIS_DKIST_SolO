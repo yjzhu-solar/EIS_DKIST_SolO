{
 "cells": [
  {
   "cell_type": "code",
   "execution_count": 1,
   "metadata": {},
   "outputs": [],
   "source": [
    "import sunpy \n",
    "import sunpy.map\n",
    "import astropy\n",
    "import numpy as np\n",
    "import bottleneck as bn\n",
    "from glob import glob"
   ]
  },
  {
   "cell_type": "code",
   "execution_count": 2,
   "metadata": {},
   "outputs": [],
   "source": [
    "date = '20221026'"
   ]
  },
  {
   "cell_type": "code",
   "execution_count": 3,
   "metadata": {},
   "outputs": [],
   "source": [
    "eui_files = sorted(glob(f\"../../src/EUI/HRI/euv174/{date}/coalign_step/*.fits\"))\n",
    "eui_map_seq_coalign = sunpy.map.Map(eui_files[:],sequence=True)"
   ]
  },
  {
   "cell_type": "code",
   "execution_count": 4,
   "metadata": {},
   "outputs": [],
   "source": [
    "len_segments = 120\n",
    "n_segments = np.ceil(len(eui_map_seq_coalign)/len_segments).astype(int)\n",
    "len_window = 6"
   ]
  },
  {
   "cell_type": "code",
   "execution_count": 5,
   "metadata": {},
   "outputs": [],
   "source": [
    "eui_map_seq_segs = []\n",
    "for ii in range(n_segments):\n",
    "    if ii == 0:\n",
    "        eui_map_seq_segs.append(eui_map_seq_coalign[0:len_segments])\n",
    "    elif ii == n_segments - 1:\n",
    "        eui_map_seq_segs.append(eui_map_seq_coalign[ii*len_segments - 2*len_window:])\n",
    "    else:\n",
    "        eui_map_seq_segs.append(eui_map_seq_coalign[ii*len_segments - 2*len_window:(ii+1)*len_segments])\n"
   ]
  },
  {
   "cell_type": "code",
   "execution_count": 6,
   "metadata": {},
   "outputs": [
    {
     "name": "stderr",
     "output_type": "stream",
     "text": [
      "WARNING: VerifyWarning: Invalid 'BLANK' keyword in header.  The 'BLANK' keyword is only applicable to integer data, and will be ignored in this HDU. [astropy.io.fits.hdu.image]\n"
     ]
    }
   ],
   "source": [
    "for ii, eui_map_seq_seg_ in enumerate(eui_map_seq_segs):\n",
    "    eui_map_array = eui_map_seq_seg_.as_array()\n",
    "    eui_map_array_boxcar_mean = bn.move_mean(eui_map_array,window=len_window,axis=2,min_count=1)\n",
    "\n",
    "    if ii == 0:\n",
    "        for jj in range(len_segments - len_window):\n",
    "            new_map = sunpy.map.Map(eui_map_array_boxcar_mean[:,:,jj],eui_map_seq_seg_.maps[jj].meta)\n",
    "            new_map.save(f\"../../src/EUI/HRI/euv174/{date}/coalign_step_boxcar/eui_map_seq_coalign_boxcar_{jj:03}.fits\",overwrite=True)\n",
    "    \n",
    "    elif ii == n_segments - 1:\n",
    "        for jj in range(len_window, len(eui_map_seq_seg_)):\n",
    "            new_map = sunpy.map.Map(eui_map_array_boxcar_mean[:,:,jj],eui_map_seq_seg_.maps[jj].meta)\n",
    "            new_map.save(f\"../../src/EUI/HRI/euv174/{date}/coalign_step_boxcar/eui_map_seq_coalign_boxcar_{jj+ii*len_segments - 2*len_window:03}.fits\",overwrite=True)\n",
    "    \n",
    "    else:\n",
    "        for jj in range(len_window, len(eui_map_seq_seg_) - len_window):\n",
    "            new_map = sunpy.map.Map(eui_map_array_boxcar_mean[:,:,jj],eui_map_seq_seg_.maps[jj].meta)\n",
    "            new_map.save(f\"../../src/EUI/HRI/euv174/{date}/coalign_step_boxcar/eui_map_seq_coalign_boxcar_{jj+ii*len_segments - 2*len_window:03}.fits\",overwrite=True)\n"
   ]
  }
 ],
 "metadata": {
  "kernelspec": {
   "display_name": "sunpy",
   "language": "python",
   "name": "python3"
  },
  "language_info": {
   "codemirror_mode": {
    "name": "ipython",
    "version": 3
   },
   "file_extension": ".py",
   "mimetype": "text/x-python",
   "name": "python",
   "nbconvert_exporter": "python",
   "pygments_lexer": "ipython3",
   "version": "3.12.2"
  }
 },
 "nbformat": 4,
 "nbformat_minor": 2
}
