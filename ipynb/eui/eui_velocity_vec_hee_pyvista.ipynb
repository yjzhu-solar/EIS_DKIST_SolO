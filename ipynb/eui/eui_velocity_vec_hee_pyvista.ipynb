{
 "cells": [
  {
   "cell_type": "code",
   "execution_count": 2,
   "metadata": {},
   "outputs": [],
   "source": [
    "import numpy as np\n",
    "import matplotlib.pyplot as plt\n",
    "import sunpy\n",
    "import sunpy.map\n",
    "from sunpy.coordinates import propagate_with_solar_surface\n",
    "import astropy\n",
    "from astropy.coordinates import SkyCoord\n",
    "from astropy.wcs import WCS\n",
    "import astropy.units as u\n",
    "import astropy.constants as const\n",
    "from astropy.io import fits\n",
    "from astropy.time import Time\n",
    "from astropy.visualization import (ImageNormalize, AsinhStretch)\n",
    "import pyvista as pv\n",
    "import os"
   ]
  },
  {
   "cell_type": "code",
   "execution_count": 3,
   "metadata": {},
   "outputs": [],
   "source": [
    "hri_174_map_shifted_toaia = sunpy.map.Map(\"../../src/coalign_map/20221024/hri_174_map_shifted_toaia.fits\")\n",
    "spice_NeVIII_intmap = sunpy.map.Map(\"../../src/SPICE/20221024/lvl3/NeVIII_int_deconv_plowman2023.fits\")\n",
    "spice_observer = spice_NeVIII_intmap.observer_coordinate"
   ]
  },
  {
   "cell_type": "code",
   "execution_count": 4,
   "metadata": {},
   "outputs": [],
   "source": [
    "hri_174_map_shifted_toaia_all_coord = sunpy.map.all_coordinates_from_map(hri_174_map_shifted_toaia)\n",
    "hri_174_map_shifted_toaia_all_coord = hri_174_map_shifted_toaia_all_coord.make_3d()"
   ]
  },
  {
   "cell_type": "code",
   "execution_count": 5,
   "metadata": {},
   "outputs": [],
   "source": [
    "hri_174_map_shifted_toaia_all_coord_hee = hri_174_map_shifted_toaia_all_coord.transform_to(hri_174_map_shifted_toaia.observer_coordinate)"
   ]
  },
  {
   "cell_type": "code",
   "execution_count": 6,
   "metadata": {},
   "outputs": [],
   "source": [
    "seed_pixel_coord0_spice_frame = SkyCoord(-29.28289379*u.deg, 15.27802344*u.deg, 6.957e+08*u.m, frame=\"heliographic_stonyhurst\",\n",
    "                                          obstime=spice_NeVIII_intmap.date)"
   ]
  },
  {
   "cell_type": "code",
   "execution_count": 7,
   "metadata": {},
   "outputs": [
    {
     "data": {
      "text/plain": [
       "array([ 0.00391286, -0.00219426,  0.00122541])"
      ]
     },
     "execution_count": 7,
     "metadata": {},
     "output_type": "execute_result"
    }
   ],
   "source": [
    "seed_pixel_coord0_spice_frame.cartesian.xyz.to_value(\"AU\")"
   ]
  },
  {
   "cell_type": "code",
   "execution_count": 8,
   "metadata": {},
   "outputs": [],
   "source": [
    "with propagate_with_solar_surface(rotation_model=\"rigid\"):\n",
    "    hri_174_map_shifted_toaia_all_coord_hee_spice = hri_174_map_shifted_toaia_all_coord_hee.transform_to(spice_observer.frame)"
   ]
  },
  {
   "cell_type": "code",
   "execution_count": 9,
   "metadata": {},
   "outputs": [],
   "source": [
    "hri_174_map_shifted_toaia_3d_grid = pv.StructuredGrid(hri_174_map_shifted_toaia_all_coord_hee_spice.cartesian.x.to_value(\"AU\"),\n",
    "                                                      hri_174_map_shifted_toaia_all_coord_hee_spice.cartesian.y.to_value(\"AU\"),\n",
    "                                                     hri_174_map_shifted_toaia_all_coord_hee_spice.cartesian.z.to_value(\"AU\"))"
   ]
  },
  {
   "cell_type": "code",
   "execution_count": 10,
   "metadata": {},
   "outputs": [
    {
     "data": {
      "text/plain": [
       "<HeliographicStonyhurst Coordinate (obstime=2022-10-24T23:15:35.745, rsun=695700.0 km): (lon, lat, radius) in (deg, deg, m)\n",
       "    (-37.57874364, 8.80504748, 6.957e+08)>"
      ]
     },
     "execution_count": 10,
     "metadata": {},
     "output_type": "execute_result"
    }
   ],
   "source": [
    "hri_174_map_shifted_toaia_all_coord_hee_spice[0,0]"
   ]
  },
  {
   "cell_type": "code",
   "execution_count": 11,
   "metadata": {},
   "outputs": [
    {
     "data": {
      "text/plain": [
       "<HeliographicStonyhurst Coordinate (obstime=2022-10-24T23:15:35.745, rsun=695700.0 km): (lon, lat, radius) in (deg, deg, m)\n",
       "    (-37.57874364, 8.80504748, 6.957e+08)>"
      ]
     },
     "execution_count": 11,
     "metadata": {},
     "output_type": "execute_result"
    }
   ],
   "source": [
    "hri_174_map_shifted_toaia_all_coord_hee_spice[0,0]"
   ]
  },
  {
   "cell_type": "code",
   "execution_count": 12,
   "metadata": {},
   "outputs": [],
   "source": [
    "vec_ep = np.array([ 31.02313114, -19.57743934,   4.15088941])\n",
    "hinode_unit_vec = np.array([0.99615634, 0.00444352, 0.0874803 ])\n",
    "hinode_vel_mag = np.abs(-31.180016963686196)\n",
    "hinode_vel_vec = hinode_unit_vec*hinode_vel_mag\n",
    "spice_unit_vec = np.array([ 0.62767719, -0.77050905,  0.11107271])\n",
    "spice_vel_mag = np.abs(-35.01815653373054)\n",
    "spice_unit_vec = spice_unit_vec*spice_vel_mag"
   ]
  },
  {
   "cell_type": "code",
   "execution_count": 46,
   "metadata": {},
   "outputs": [],
   "source": [
    "pv_sphere = pv.Sphere(radius=seed_pixel_coord0_spice_frame.radius.to_value(\"AU\")*0.99,\n",
    "                      theta_resolution=50, phi_resolution=50)\n",
    "\n",
    "pv_meridians = []\n",
    "for ii in range(12):\n",
    "    phi_ = np.deg2rad(15.*ii)\n",
    "    norm_vec_ = np.array([np.cos(phi_), np.sin(phi_), 0.])\n",
    "    pv_meridians.append(pv.CircularArcFromNormal(center=[0,0,0],\n",
    "                                                 resolution=300,\n",
    "                                                 normal=norm_vec_,\n",
    "                                                 polar=[0,0,seed_pixel_coord0_spice_frame.radius.to_value(\"AU\")*1.01],\n",
    "                                                 angle=360))\n",
    "    \n",
    "pv_latitudes = []\n",
    "for ii in range(11):\n",
    "    theta_ = np.deg2rad(15.*(ii+1))\n",
    "    lat_ = np.pi/2 - theta_\n",
    "    phis = np.linspace(0,2*np.pi,300)\n",
    "    latitude_x = seed_pixel_coord0_spice_frame.radius.to_value(\"AU\")*np.cos(lat_)*np.cos(phis)*1.01\n",
    "    latitude_y = seed_pixel_coord0_spice_frame.radius.to_value(\"AU\")*np.cos(lat_)*np.sin(phis)*1.01\n",
    "    latitude_z = seed_pixel_coord0_spice_frame.radius.to_value(\"AU\")*np.sin(lat_)*1.01*np.ones_like(phis)   \n",
    "    latitude_points = np.column_stack((latitude_x, latitude_y, latitude_z))\n",
    "    pv_latitudes.append(pv.lines_from_points(latitude_points))\n"
   ]
  },
  {
   "cell_type": "code",
   "execution_count": 47,
   "metadata": {},
   "outputs": [],
   "source": [
    "pv_plotter = pv.Plotter(notebook=True)\n",
    "\n",
    "hri_174_map_shifted_toaia_3d_norm = ImageNormalize(vmin=0,vmax=1.3e4,stretch=AsinhStretch(0.03))\n",
    "pv_plotter.add_mesh(hri_174_map_shifted_toaia_3d_grid,scalars=hri_174_map_shifted_toaia_3d_norm(hri_174_map_shifted_toaia.data), cmap=\"solar orbiterhri_euv174\")\n",
    "pv_plotter.add_mesh(pv_sphere, show_edges=False, opacity=1, color=\"black\", lighting=False, label=\"Test Mesh\")\n",
    "pv_plotter.add_arrows(seed_pixel_coord0_spice_frame.cartesian.xyz.to_value(\"AU\"),vec_ep, mag=1e-5,color=\"lime\")\n",
    "pv_plotter.add_arrows(seed_pixel_coord0_spice_frame.cartesian.xyz.to_value(\"AU\"),hinode_vel_vec, mag=1e-5,color=\"red\")\n",
    "pv_plotter.add_arrows(seed_pixel_coord0_spice_frame.cartesian.xyz.to_value(\"AU\"),spice_unit_vec, mag=1e-5,color=\"blue\")\n",
    "\n",
    "for pv_meridian_ in pv_meridians:\n",
    "    pv_plotter.add_mesh(pv_meridian_, color=\"white\", line_width=1,opacity=0.4)\n",
    "for pv_latitude_ in pv_latitudes:\n",
    "    pv_plotter.add_mesh(pv_latitude_, color=\"white\", line_width=1,opacity=0.4)\n",
    "\n",
    "pv_plotter.add_axes(line_width=5, labels_off=False)\n",
    "\n",
    "if os.path.exists(\"../../figs/test_figs/hri_174_map_shifted_toaia_3d.html\"):\n",
    "    os.remove(\"../../figs/test_figs/hri_174_map_shifted_toaia_3d.html\")\n",
    "pv_plotter.export_html('../../figs/test_figs/hri_174_map_shifted_toaia_3d.html')  \n",
    "# pv_plotter.export_vtksz(\"../../figs/test_figs/hri_174_map_shifted_toaia_3d.vtksz\")\n",
    "\n",
    "# del pv_plotter\n"
   ]
  }
 ],
 "metadata": {
  "kernelspec": {
   "display_name": "sunpy",
   "language": "python",
   "name": "python3"
  },
  "language_info": {
   "codemirror_mode": {
    "name": "ipython",
    "version": 3
   },
   "file_extension": ".py",
   "mimetype": "text/x-python",
   "name": "python",
   "nbconvert_exporter": "python",
   "pygments_lexer": "ipython3",
   "version": "3.11.7"
  }
 },
 "nbformat": 4,
 "nbformat_minor": 2
}
